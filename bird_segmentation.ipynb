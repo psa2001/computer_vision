{
  "nbformat": 4,
  "nbformat_minor": 0,
  "metadata": {
    "colab": {
      "name": "bird_segmentation.ipynb",
      "provenance": [],
      "collapsed_sections": [
        "TPutJawtw33y",
        "EcEIoARuw2G2",
        "GSSS4ZMU9oO_",
        "Y5TCVH4ZYdXI",
        "HycE7MdhXUAP",
        "eOFV33-exXHB",
        "m4SQO0tRxox4"
      ],
      "include_colab_link": true
    },
    "kernelspec": {
      "display_name": "Python 3",
      "name": "python3"
    },
    "accelerator": "GPU"
  },
  "cells": [
    {
      "cell_type": "markdown",
      "metadata": {
        "id": "view-in-github",
        "colab_type": "text"
      },
      "source": [
        "<a href=\"https://colab.research.google.com/github/psa2001/computer_vision/blob/main/bird_segmentation.ipynb\" target=\"_parent\"><img src=\"https://colab.research.google.com/assets/colab-badge.svg\" alt=\"Open In Colab\"/></a>"
      ]
    },
    {
      "cell_type": "markdown",
      "metadata": {
        "id": "TPutJawtw33y"
      },
      "source": [
        "##Settings"
      ]
    },
    {
      "cell_type": "code",
      "metadata": {
        "id": "hvRqH6nuwAyO",
        "colab": {
          "base_uri": "https://localhost:8080/"
        },
        "outputId": "ef7ccd4a-e395-463c-b917-5f4412e4e698"
      },
      "source": [
        "from google.colab import drive\n",
        "drive.mount('/content/drive')"
      ],
      "execution_count": null,
      "outputs": [
        {
          "output_type": "stream",
          "text": [
            "Mounted at /content/drive\n"
          ],
          "name": "stdout"
        }
      ]
    },
    {
      "cell_type": "code",
      "metadata": {
        "id": "ZOlFb-05NYRD",
        "colab": {
          "base_uri": "https://localhost:8080/"
        },
        "outputId": "115212ce-0ce3-4c1c-c83e-fdce2473e21f"
      },
      "source": [
        "cd"
      ],
      "execution_count": null,
      "outputs": [
        {
          "output_type": "stream",
          "text": [
            "/root\n"
          ],
          "name": "stdout"
        }
      ]
    },
    {
      "cell_type": "code",
      "metadata": {
        "id": "YO8Fvr1xNZnZ",
        "colab": {
          "base_uri": "https://localhost:8080/"
        },
        "outputId": "85d001bd-7a7d-4230-dc90-7ed1bbd792d4"
      },
      "source": [
        "cd .."
      ],
      "execution_count": null,
      "outputs": [
        {
          "output_type": "stream",
          "text": [
            "/\n"
          ],
          "name": "stdout"
        }
      ]
    },
    {
      "cell_type": "code",
      "metadata": {
        "id": "0SfjrI00SJJ6"
      },
      "source": [
        "import os\n",
        "from pathlib import Path"
      ],
      "execution_count": null,
      "outputs": []
    },
    {
      "cell_type": "code",
      "metadata": {
        "id": "jqKFnc2bM_Sn"
      },
      "source": [
        "#dataset_dir = Path('content/drive/My Drive/bird_segmentation')\n",
        "#os.chdir(dataset_dir)   "
      ],
      "execution_count": null,
      "outputs": []
    },
    {
      "cell_type": "code",
      "metadata": {
        "id": "w6CEknibNW2e"
      },
      "source": [
        "!unzip 'content/drive/My Drive/bird_segmentation/public_tests.zip' -d public_tests\n"
      ],
      "execution_count": null,
      "outputs": []
    },
    {
      "cell_type": "code",
      "metadata": {
        "id": "lbIUiu8hwZkS",
        "colab": {
          "base_uri": "https://localhost:8080/"
        },
        "outputId": "6a389270-36f0-4f4f-f8af-55fae74e3f5a"
      },
      "source": [
        "ls"
      ],
      "execution_count": null,
      "outputs": [
        {
          "output_type": "stream",
          "text": [
            "\u001b[0m\u001b[01;34mbin\u001b[0m/      \u001b[01;34mdev\u001b[0m/   \u001b[01;34mlib32\u001b[0m/  \u001b[01;34mopt\u001b[0m/           \u001b[01;34mrun\u001b[0m/    \u001b[01;34msys\u001b[0m/                \u001b[01;34musr\u001b[0m/\n",
            "\u001b[01;34mboot\u001b[0m/     \u001b[01;34metc\u001b[0m/   \u001b[01;34mlib64\u001b[0m/  \u001b[01;34mproc\u001b[0m/          \u001b[01;34msbin\u001b[0m/   \u001b[01;34mtensorflow-1.15.2\u001b[0m/  \u001b[01;34mvar\u001b[0m/\n",
            "\u001b[01;34mcontent\u001b[0m/  \u001b[01;34mhome\u001b[0m/  \u001b[01;34mmedia\u001b[0m/  \u001b[01;34mpublic_tests\u001b[0m/  \u001b[01;34msrv\u001b[0m/    \u001b[30;42mtmp\u001b[0m/\n",
            "\u001b[01;34mdatalab\u001b[0m/  \u001b[01;34mlib\u001b[0m/   \u001b[01;34mmnt\u001b[0m/    \u001b[01;34mroot\u001b[0m/          \u001b[01;34mswift\u001b[0m/  \u001b[01;34mtools\u001b[0m/\n"
          ],
          "name": "stdout"
        }
      ]
    },
    {
      "cell_type": "code",
      "metadata": {
        "id": "5XyGmCExBJ2b",
        "colab": {
          "base_uri": "https://localhost:8080/"
        },
        "outputId": "e1b653bd-dbb6-420d-f6f1-f05335298000"
      },
      "source": [
        "cd .."
      ],
      "execution_count": null,
      "outputs": [
        {
          "output_type": "stream",
          "text": [
            "/\n"
          ],
          "name": "stdout"
        }
      ]
    },
    {
      "cell_type": "markdown",
      "metadata": {
        "id": "EcEIoARuw2G2"
      },
      "source": [
        "##Data"
      ]
    },
    {
      "cell_type": "code",
      "metadata": {
        "id": "5diiWUhl-j_e"
      },
      "source": [
        "from os.path import join\n",
        "from skimage.io import imread\n",
        "from tqdm import tqdm\n",
        "from IPython.display import clear_output\n",
        "import numpy as np\n",
        "from PIL import Image\n",
        "from skimage.transform import resize\n",
        "from PIL import Image\n",
        "\n",
        "\n",
        "def get_data(img_dir_whole, gt_dir_whole):\n",
        "  set_of_images = []\n",
        "  set_of_gt = []\n",
        "\n",
        "  for one_class in tqdm(sorted(os.listdir(img_dir_whole))):\n",
        "    cur_dir_one_class = join(img_dir_whole, one_class)\n",
        "    cur_gt_one_class = join(gt_dir_whole, one_class)\n",
        "\n",
        "    for cur_png in (sorted(os.listdir(cur_dir_one_class))):\n",
        "      cur_dir_one_bird = join(cur_dir_one_class, cur_png)\n",
        "      cur_gt_one_bird = join(cur_gt_one_class, cur_png[:-3] + \"png\")\n",
        "      \n",
        "      image = resize(imread(cur_dir_one_bird).astype('float32'), (128, 128, 3)) /255.\n",
        "      gt = resize(imread(cur_gt_one_bird).astype('float32'), (128,128, 1)) / 255.\n",
        "\n",
        "      set_of_images.append(image)\n",
        "      set_of_gt.append(gt)\n",
        "  return (set_of_images), (set_of_gt)"
      ],
      "execution_count": null,
      "outputs": []
    },
    {
      "cell_type": "code",
      "metadata": {
        "id": "kMFe2dB8I5je",
        "colab": {
          "base_uri": "https://localhost:8080/"
        },
        "outputId": "a84c3de8-649f-4c23-ca21-aa6d7378933a"
      },
      "source": [
        "img_dir_whole = 'public_tests/00_test_val_input/train/images'\n",
        "gt_dir_whole = 'public_tests/00_test_val_input/train/gt'\n",
        "\n",
        "x, y = get_data(img_dir_whole, gt_dir_whole)"
      ],
      "execution_count": null,
      "outputs": [
        {
          "output_type": "stream",
          "text": [
            "100%|██████████| 200/200 [04:23<00:00,  1.32s/it]\n"
          ],
          "name": "stderr"
        }
      ]
    },
    {
      "cell_type": "code",
      "metadata": {
        "id": "kOyvIkYXfrvZ",
        "colab": {
          "base_uri": "https://localhost:8080/"
        },
        "outputId": "7077b4e4-248a-4e34-afec-f91a4d7727b7"
      },
      "source": [
        "x = np.array(x)\n",
        "y = np.array(y)\n",
        "x.shape, y.shape"
      ],
      "execution_count": null,
      "outputs": [
        {
          "output_type": "execute_result",
          "data": {
            "text/plain": [
              "((8382, 128, 128, 3), (8382, 128, 128, 1))"
            ]
          },
          "metadata": {
            "tags": []
          },
          "execution_count": 11
        }
      ]
    },
    {
      "cell_type": "code",
      "metadata": {
        "id": "EUj26Ey98ZV2"
      },
      "source": [
        ""
      ],
      "execution_count": null,
      "outputs": []
    },
    {
      "cell_type": "code",
      "metadata": {
        "id": "KYeAkEkFJKn7",
        "colab": {
          "base_uri": "https://localhost:8080/",
          "height": 285
        },
        "outputId": "79975439-f1d2-48a1-8df5-19e922070c47"
      },
      "source": [
        "import matplotlib.pyplot as plt\n",
        "i = np.random.randint(8382)\n",
        "plt.imshow(x[i])\n"
      ],
      "execution_count": null,
      "outputs": [
        {
          "output_type": "execute_result",
          "data": {
            "text/plain": [
              "<matplotlib.image.AxesImage at 0x7f823b6b2cf8>"
            ]
          },
          "metadata": {
            "tags": []
          },
          "execution_count": 12
        },
        {
          "output_type": "display_data",
          "data": {
            "image/png": "[encoded data removed]",
            "text/plain": [
              "<Figure size 432x288 with 1 Axes>"
            ]
          },
          "metadata": {
            "tags": [],
            "needs_background": "light"
          }
        }
      ]
    },
    {
      "cell_type": "code",
      "metadata": {
        "id": "avFptzY1MsNd",
        "colab": {
          "base_uri": "https://localhost:8080/",
          "height": 285
        },
        "outputId": "9ac98501-94e6-4b33-f62c-a89c93a7c00f"
      },
      "source": [
        "plt.imshow(y[i,:,:,0])"
      ],
      "execution_count": null,
      "outputs": [
        {
          "output_type": "execute_result",
          "data": {
            "text/plain": [
              "<matplotlib.image.AxesImage at 0x7f823b6204e0>"
            ]
          },
          "metadata": {
            "tags": []
          },
          "execution_count": 13
        },
        {
          "output_type": "display_data",
          "data": {
            "image/png": "[encoded data removed]",
            "text/plain": [
              "<Figure size 432x288 with 1 Axes>"
            ]
          },
          "metadata": {
            "tags": [],
            "needs_background": "light"
          }
        }
      ]
    },
    {
      "cell_type": "code",
      "metadata": {
        "id": "TOotLw0Cd_GA"
      },
      "source": [
        ""
      ],
      "execution_count": null,
      "outputs": []
    },
    {
      "cell_type": "markdown",
      "metadata": {
        "id": "T3PUfZafd_bT"
      },
      "source": [
        "valid_load"
      ]
    },
    {
      "cell_type": "code",
      "metadata": {
        "id": "Vd7X96yTeCzT",
        "colab": {
          "base_uri": "https://localhost:8080/"
        },
        "outputId": "579b1fc3-8dba-48e8-c699-9f6de9dccbe8"
      },
      "source": [
        "img_dir_whole = 'public_tests/00_test_val_input/test/images'\n",
        "gt_dir_whole = 'public_tests/00_test_val_gt'\n",
        "\n",
        "x_val, y_val = get_data(img_dir_whole, gt_dir_whole)\n",
        "x_val = np.array(x_val)\n",
        "y_val = np.array(y_val)"
      ],
      "execution_count": null,
      "outputs": [
        {
          "output_type": "stream",
          "text": [
            "100%|██████████| 200/200 [00:45<00:00,  4.40it/s]\n"
          ],
          "name": "stderr"
        }
      ]
    },
    {
      "cell_type": "code",
      "metadata": {
        "id": "k3JyajSdkmOt",
        "colab": {
          "base_uri": "https://localhost:8080/"
        },
        "outputId": "4c1dcaa3-7f8b-4ebb-8c3b-50e453244f85"
      },
      "source": [
        "x_val.shape, y_val.shape"
      ],
      "execution_count": null,
      "outputs": [
        {
          "output_type": "execute_result",
          "data": {
            "text/plain": [
              "((1406, 128, 128, 3), (1406, 128, 128, 1))"
            ]
          },
          "metadata": {
            "tags": []
          },
          "execution_count": 15
        }
      ]
    },
    {
      "cell_type": "code",
      "metadata": {
        "id": "jFxr8UiDh0Je"
      },
      "source": [
        "import matplotlib.pyplot as plt\n",
        "#plt.imshow(x_val[i], 1)\n"
      ],
      "execution_count": null,
      "outputs": []
    },
    {
      "cell_type": "markdown",
      "metadata": {
        "id": "GSSS4ZMU9oO_"
      },
      "source": [
        "#Аугментацию проверяем\n"
      ]
    },
    {
      "cell_type": "code",
      "metadata": {
        "id": "nhHc45Dz9rGq",
        "colab": {
          "base_uri": "https://localhost:8080/"
        },
        "outputId": "fcfb00b7-4951-42fb-8ed8-4d56de93ee3b"
      },
      "source": [
        "\"\"\"\n",
        "angle = np.random.randint(0, 45)\n",
        "angle_rad = np.radians(45)\n",
        "i = np.random.randint(x_val.shape[0])\n",
        "a = skimage.transform.rotate(x_val[i], angle)\n",
        "b = skimage.transform.rotate(y_val[i], angle)\n",
        "\"\"\""
      ],
      "execution_count": null,
      "outputs": [
        {
          "output_type": "execute_result",
          "data": {
            "application/vnd.google.colaboratory.intrinsic+json": {
              "type": "string"
            },
            "text/plain": [
              "'\\nangle = np.random.randint(0, 45)\\nangle_rad = np.radians(45)\\ni = np.random.randint(x_val.shape[0])\\na = skimage.transform.rotate(x_val[i], angle)\\nb = skimage.transform.rotate(y_val[i], angle)\\n'"
            ]
          },
          "metadata": {
            "tags": []
          },
          "execution_count": 17
        }
      ]
    },
    {
      "cell_type": "code",
      "metadata": {
        "id": "R8CR8lG09zHy"
      },
      "source": [
        "#plt.imshow(a)\n"
      ],
      "execution_count": null,
      "outputs": []
    },
    {
      "cell_type": "code",
      "metadata": {
        "id": "BtObMlCC9-FB"
      },
      "source": [
        "#plt.imshow(b[:,:,0])\n"
      ],
      "execution_count": null,
      "outputs": []
    },
    {
      "cell_type": "markdown",
      "metadata": {
        "id": "Y5TCVH4ZYdXI"
      },
      "source": [
        "#Prepare_data(easy)"
      ]
    },
    {
      "cell_type": "code",
      "metadata": {
        "id": "ykQ1QxjHYfoo"
      },
      "source": [
        "bird_area = y > 0.5\n",
        "no_bird = y <= 0.5\n",
        "\n",
        "bird_area_val = y_val > 0.5\n",
        "no_bird_val = y_val <= 0.5"
      ],
      "execution_count": null,
      "outputs": []
    },
    {
      "cell_type": "code",
      "metadata": {
        "id": "iTZPbNTBYo-4"
      },
      "source": [
        "answ_for_fit_train = np.concatenate((no_bird, bird_area),axis = 3)\n",
        "answ_for_fit_val = np.concatenate((no_bird_val, bird_area_val),axis = 3)"
      ],
      "execution_count": null,
      "outputs": []
    },
    {
      "cell_type": "markdown",
      "metadata": {
        "id": "HycE7MdhXUAP"
      },
      "source": [
        "#Architecture + dice_loss + compile\n"
      ]
    },
    {
      "cell_type": "code",
      "metadata": {
        "id": "KW3f0z2TjxKP",
        "colab": {
          "base_uri": "https://localhost:8080/"
        },
        "outputId": "0b6ac56e-f746-430d-f3eb-43cbb3c5ec95"
      },
      "source": [
        "import tensorflow as tf\n",
        "\n",
        "model_mobilenet = tf.keras.applications.MobileNet(input_shape=(160, 160, 3), include_top=False, weights=\"imagenet\")"
      ],
      "execution_count": null,
      "outputs": [
        {
          "output_type": "stream",
          "text": [
            "Downloading data from https://storage.googleapis.com/tensorflow/keras-applications/mobilenet/mobilenet_1_0_160_tf_no_top.h5\n",
            "17227776/17225924 [==============================] - 0s 0us/step\n"
          ],
          "name": "stdout"
        }
      ]
    },
    {
      "cell_type": "code",
      "metadata": {
        "id": "4YdWRQ5cqlvw"
      },
      "source": [
        "#model_mobilenet.summary()\n",
        "#conv_pw_1_relu\n",
        "#conv_pw_2_relu \n",
        "#conv_pw_3_relu \n",
        "#conv_pw_4_relu \n",
        "#conv_pw_5_relu "
      ],
      "execution_count": null,
      "outputs": []
    },
    {
      "cell_type": "code",
      "metadata": {
        "id": "V7Nsc75h0pQt"
      },
      "source": [
        "import tensorflow as tf\n",
        "from tensorflow.keras.layers import UpSampling2D, Conv2D, Concatenate, Conv2DTranspose, Reshape, Input\n",
        "from tensorflow.keras.models import Model\n",
        "\n",
        "def get_model():\n",
        "\n",
        "\n",
        "  model_mobilenet = tf.keras.applications.MobileNet(input_shape=(128, 128, 3), alpha = 1, include_top=False, weights=\"imagenet\")\n",
        "  #model_mobilenet.trainable = False\n",
        "\n",
        "  block0 = model_mobilenet.get_layer(\"conv_pw_1_relu\").output \n",
        "  block = model_mobilenet.get_layer(\"conv_pw_1_relu\").output\n",
        "  block1 = model_mobilenet.get_layer(\"conv_pw_3_relu\").output\n",
        "  block2 = model_mobilenet.get_layer(\"conv_pw_5_relu\").output\n",
        "  block3 = model_mobilenet.get_layer(\"conv_pw_11_relu\").output\n",
        "  block4 = model_mobilenet.get_layer(\"conv_pw_13_relu\").output\n",
        "\n",
        "  x = Concatenate()([UpSampling2D()(block4), block3])\n",
        "  x = Conv2D(512, kernel_size=1, activation=\"relu\")(x)\n",
        "  x = Concatenate()([UpSampling2D()(x), block2])\n",
        "  x = Conv2D(256, kernel_size=1, activation=\"relu\")(x)\n",
        "  x = Concatenate()([UpSampling2D()(x), block1])\n",
        "  x = Conv2D(128, kernel_size=1, activation=\"relu\")(x)\n",
        "  x = Concatenate()([UpSampling2D()(x), block])\n",
        "  x = Conv2D(64, kernel_size=1, activation=\"relu\")(x)\n",
        "  #   x = Concatenate()([UpSampling2D()(x), block0])\n",
        "  x = UpSampling2D()(x)\n",
        "  x = Conv2D(32, kernel_size=1, activation=\"relu\")(x)\n",
        "  x = Conv2D(2, kernel_size=1, activation=\"softmax\")(x)\n",
        "\n",
        "\n",
        "  #model_main = Model(model_mobilenet.input, x)\n",
        "\n",
        "  model = Model(\n",
        "        inputs=model_mobilenet.input,\n",
        "        outputs=x\n",
        "    )\n",
        "  return model"
      ],
      "execution_count": null,
      "outputs": []
    },
    {
      "cell_type": "code",
      "metadata": {
        "id": "gUPYu645uHP7",
        "colab": {
          "base_uri": "https://localhost:8080/"
        },
        "outputId": "dff9da51-5c05-4a0a-895b-613ad3f91285"
      },
      "source": [
        "model = get_model()\n",
        "#model.summary()"
      ],
      "execution_count": null,
      "outputs": [
        {
          "output_type": "stream",
          "text": [
            "Downloading data from https://storage.googleapis.com/tensorflow/keras-applications/mobilenet/mobilenet_1_0_128_tf_no_top.h5\n",
            "17227776/17225924 [==============================] - 0s 0us/step\n"
          ],
          "name": "stdout"
        }
      ]
    },
    {
      "cell_type": "code",
      "metadata": {
        "id": "frRBfXr_Zmfr"
      },
      "source": [
        "import keras.backend as K\n",
        "\n",
        "def dice_coef(y_true, y_pred, smooth=0.0001):\n",
        "  y_true1 = y_true[:,:,:,1]\n",
        "  y_pred1 = y_pred[:,:,:,1]\n",
        "  chis = 2 * tf.reduce_sum(y_true1 * y_pred1)\n",
        "  znam = tf.reduce_sum(y_true1) + tf.reduce_sum(y_pred1) + smooth\n",
        "  return chis/znam"
      ],
      "execution_count": null,
      "outputs": []
    },
    {
      "cell_type": "code",
      "metadata": {
        "id": "L98t7ruAwfsS"
      },
      "source": [
        "from keras.models import load_model\n",
        "\n",
        "model = load_model(\"content/drive/My Drive/bird_segmentation/128razreh_batchsize20_mobile_night.hdf5\", compile = False)\n",
        "\n",
        "\n",
        "model.compile(\n",
        "    optimizer='adam',\n",
        "    loss='categorical_crossentropy',\n",
        "    metrics=[tf.keras.metrics.MeanIoU(num_classes=2), 'mse', 'mae'])\n",
        "\n",
        "\n",
        "\n",
        "chkpt = tf.keras.callbacks.ModelCheckpoint(\"content/drive/My Drive/bird_segmentation/128razreh_batchsize20_mobile_131after_.hdf5\", \n",
        "                        monitor='val_mean_io_u_1', \n",
        "                        verbose=1, \n",
        "                        save_best_only=True, \n",
        "                        mode='max')"
      ],
      "execution_count": null,
      "outputs": []
    },
    {
      "cell_type": "code",
      "metadata": {
        "id": "E_1L9Pjs9OIh"
      },
      "source": [
        ""
      ],
      "execution_count": null,
      "outputs": []
    },
    {
      "cell_type": "code",
      "metadata": {
        "id": "yfqEnRW7z2iB",
        "colab": {
          "base_uri": "https://localhost:8080/"
        },
        "outputId": "989e842e-cef4-465b-89ad-1bcc84dc2edc"
      },
      "source": [
        "#model.evaluate(x_val, answ_for_fit_val)"
      ],
      "execution_count": null,
      "outputs": [
        {
          "output_type": "stream",
          "text": [
            "44/44 [==============================] - 2s 36ms/step - loss: 0.1019 - mean_io_u_1: 0.7776 - mse: 0.0185 - mae: 0.0262\n"
          ],
          "name": "stdout"
        },
        {
          "output_type": "execute_result",
          "data": {
            "text/plain": [
              "[0.10185256600379944,\n",
              " 0.7776415944099426,\n",
              " 0.01852881908416748,\n",
              " 0.026249153539538383]"
            ]
          },
          "metadata": {
            "tags": []
          },
          "execution_count": 35
        }
      ]
    },
    {
      "cell_type": "code",
      "metadata": {
        "id": "rDCzxZoGICNf"
      },
      "source": [
        "import skimage\n",
        "\n",
        "def gen(images, answ):\n",
        "  \"\"\"\n",
        "  for i in range(images.shape[0]):\n",
        "    \n",
        "    a = np.random.randint(low = 0, high = 2)\n",
        "    if(a):\n",
        "      angle = np.random.randint(0, 5)\n",
        "      angle_rad = np.radians(angle)\n",
        "      images[i] = skimage.transform.rotate(images[i], angle)\n",
        "      answ[i,:,:,0] = skimage.transform.rotate(answ[i,:,:,0], angle)\n",
        "      answ[i,:,:,1] = skimage.transform.rotate(answ[i,:,:,1], angle)\n",
        "    \n",
        "    a = np.random.randint(low = 0, high = 2)\n",
        "    if(a):\n",
        "      images[i] = np.fliplr(images[i])\n",
        "      answ[i,:,:,0] = np.fliplr(answ[i,:,:,0])\n",
        "      answ[i,:,:,1] = np.fliplr(answ[i,:,:,1])\n",
        "  \n",
        "  \n",
        "  a = np.random.randint(low = 0, high = 2)\n",
        "  if(a):\n",
        "    images = np.flipud(images)\n",
        "    answ = np.flipud(answ)\n",
        "  \"\"\"\n",
        "  \n",
        "  return images, answ"
      ],
      "execution_count": null,
      "outputs": []
    },
    {
      "cell_type": "code",
      "metadata": {
        "id": "3yY1nP_UL-rA"
      },
      "source": [
        "def shuffle(x, y):\n",
        "    p = np.random.permutation(len(x)).astype(int)\n",
        "    x = x[p,]\n",
        "    y = y[p,]\n",
        "    return x, y"
      ],
      "execution_count": null,
      "outputs": []
    },
    {
      "cell_type": "code",
      "metadata": {
        "id": "Ep8w2aMun8Az"
      },
      "source": [
        "from IPython.display import clear_output\n",
        "\n",
        "\n",
        "class My_callback(tf.keras.utils.Sequence):\n",
        "    def __init__(self, imgs, gts, batch_size=100):\n",
        "        self.batch_size = batch_size\n",
        "        self.imgs = imgs\n",
        "        self.gts = gts\n",
        "        self.iter = 0\n",
        "\n",
        "\n",
        "    def __len__(self):\n",
        "        return len(self.imgs) // self.batch_size\n",
        "\n",
        "    def __getitem__(self, idx):\n",
        "        x = self.imgs[idx * self.batch_size:(idx + 1) * self.batch_size]\n",
        "        y = self.gts[idx * self.batch_size:(idx + 1) * self.batch_size]\n",
        "        return x, y\n",
        "    \n",
        "    def on_epoch_end(self):\n",
        "        self.imgs, self.gts = shuffle(self.imgs, self.gts)\n",
        "        self.iter = (1 + self.iter) % 10\n",
        "        if(self.iter == 0):\n",
        "          clear_output()"
      ],
      "execution_count": null,
      "outputs": []
    },
    {
      "cell_type": "code",
      "metadata": {
        "id": "YR0Ov2_dl9n3",
        "colab": {
          "base_uri": "https://localhost:8080/"
        },
        "outputId": "628e8edf-3b87-41dd-82f9-aae42e89c9ae"
      },
      "source": [
        "x.shape"
      ],
      "execution_count": null,
      "outputs": [
        {
          "output_type": "execute_result",
          "data": {
            "text/plain": [
              "(8382, 128, 128, 3)"
            ]
          },
          "metadata": {
            "tags": []
          },
          "execution_count": 31
        }
      ]
    },
    {
      "cell_type": "markdown",
      "metadata": {
        "id": "eOFV33-exXHB"
      },
      "source": [
        "#fit"
      ]
    },
    {
      "cell_type": "code",
      "metadata": {
        "id": "0UWGB3mPsMCV",
        "colab": {
          "base_uri": "https://localhost:8080/",
          "height": 972
        },
        "cellView": "form",
        "outputId": "c8e4c832-e09a-476b-f267-7df0e7d5d86e"
      },
      "source": [
        "#@title\n",
        "model.fit(\n",
        "          My_callback(x,answ_for_fit_train,batch_size = 20),\n",
        "          epochs = 1000,\n",
        "          initial_epoch = 131,\n",
        "          validation_data = (x_val, answ_for_fit_val),\n",
        "          callbacks = [chkpt]\n",
        "          )"
      ],
      "execution_count": null,
      "outputs": [
        {
          "output_type": "stream",
          "text": [
            "Epoch 452/1000\n",
            "419/419 [==============================] - ETA: 0s - loss: 0.0170 - mean_io_u_1: 0.8934 - mse: 0.0056 - mae: 0.0111\n",
            "Epoch 00452: val_mean_io_u_1 did not improve from 0.87906\n",
            "419/419 [==============================] - 31s 74ms/step - loss: 0.0170 - mean_io_u_1: 0.8934 - mse: 0.0056 - mae: 0.0111 - val_loss: 0.1427 - val_mean_io_u_1: 0.8786 - val_mse: 0.0199 - val_mae: 0.0263\n",
            "Epoch 453/1000\n",
            "419/419 [==============================] - ETA: 0s - loss: 0.0171 - mean_io_u_1: 0.8936 - mse: 0.0056 - mae: 0.0111\n",
            "Epoch 00453: val_mean_io_u_1 did not improve from 0.87906\n",
            "419/419 [==============================] - 30s 72ms/step - loss: 0.0171 - mean_io_u_1: 0.8936 - mse: 0.0056 - mae: 0.0111 - val_loss: 0.1382 - val_mean_io_u_1: 0.8754 - val_mse: 0.0197 - val_mae: 0.0264\n",
            "Epoch 454/1000\n",
            "419/419 [==============================] - ETA: 0s - loss: 0.0171 - mean_io_u_1: 0.8936 - mse: 0.0056 - mae: 0.0111\n",
            "Epoch 00454: val_mean_io_u_1 improved from 0.87906 to 0.87937, saving model to content/drive/My Drive/bird_segmentation/128razreh_batchsize20_mobile_131after_.hdf5\n",
            "419/419 [==============================] - 32s 77ms/step - loss: 0.0171 - mean_io_u_1: 0.8936 - mse: 0.0056 - mae: 0.0111 - val_loss: 0.1421 - val_mean_io_u_1: 0.8794 - val_mse: 0.0198 - val_mae: 0.0262\n",
            "Epoch 455/1000\n",
            "419/419 [==============================] - ETA: 0s - loss: 0.0171 - mean_io_u_1: 0.8934 - mse: 0.0056 - mae: 0.0111\n",
            "Epoch 00455: val_mean_io_u_1 did not improve from 0.87937\n",
            "419/419 [==============================] - 31s 73ms/step - loss: 0.0171 - mean_io_u_1: 0.8934 - mse: 0.0056 - mae: 0.0111 - val_loss: 0.1412 - val_mean_io_u_1: 0.8779 - val_mse: 0.0199 - val_mae: 0.0264\n",
            "Epoch 456/1000\n",
            "419/419 [==============================] - ETA: 0s - loss: 0.0170 - mean_io_u_1: 0.8938 - mse: 0.0056 - mae: 0.0111\n",
            "Epoch 00456: val_mean_io_u_1 improved from 0.87937 to 0.88109, saving model to content/drive/My Drive/bird_segmentation/128razreh_batchsize20_mobile_131after_.hdf5\n",
            "419/419 [==============================] - 31s 75ms/step - loss: 0.0170 - mean_io_u_1: 0.8938 - mse: 0.0056 - mae: 0.0111 - val_loss: 0.1418 - val_mean_io_u_1: 0.8811 - val_mse: 0.0197 - val_mae: 0.0261\n",
            "Epoch 457/1000\n",
            "419/419 [==============================] - ETA: 0s - loss: 0.0190 - mean_io_u_1: 0.8623 - mse: 0.0060 - mae: 0.0119\n",
            "Epoch 00457: val_mean_io_u_1 did not improve from 0.88109\n",
            "419/419 [==============================] - 31s 73ms/step - loss: 0.0190 - mean_io_u_1: 0.8623 - mse: 0.0060 - mae: 0.0119 - val_loss: 0.1201 - val_mean_io_u_1: 0.8155 - val_mse: 0.0199 - val_mae: 0.0273\n",
            "Epoch 458/1000\n",
            "419/419 [==============================] - ETA: 0s - loss: 0.0220 - mean_io_u_1: 0.7755 - mse: 0.0068 - mae: 0.0136\n",
            "Epoch 00458: val_mean_io_u_1 did not improve from 0.88109\n",
            "419/419 [==============================] - 31s 73ms/step - loss: 0.0220 - mean_io_u_1: 0.7755 - mse: 0.0068 - mae: 0.0136 - val_loss: 0.1150 - val_mean_io_u_1: 0.8000 - val_mse: 0.0194 - val_mae: 0.0268\n",
            "Epoch 459/1000\n",
            "419/419 [==============================] - ETA: 0s - loss: 0.0184 - mean_io_u_1: 0.8427 - mse: 0.0059 - mae: 0.0118\n",
            "Epoch 00459: val_mean_io_u_1 did not improve from 0.88109\n",
            "419/419 [==============================] - 31s 73ms/step - loss: 0.0184 - mean_io_u_1: 0.8427 - mse: 0.0059 - mae: 0.0118 - val_loss: 0.1275 - val_mean_io_u_1: 0.8493 - val_mse: 0.0195 - val_mae: 0.0262\n",
            "Epoch 460/1000\n",
            "174/419 [===========>..................] - ETA: 17s - loss: 0.0177 - mean_io_u_1: 0.8644 - mse: 0.0057 - mae: 0.0114"
          ],
          "name": "stdout"
        },
        {
          "output_type": "error",
          "ename": "KeyboardInterrupt",
          "evalue": "ignored",
          "traceback": [
            "\u001b[0;31m---------------------------------------------------------------------------\u001b[0m",
            "\u001b[0;31mKeyboardInterrupt\u001b[0m                         Traceback (most recent call last)",
            "\u001b[0;32m<ipython-input-39-e0985b4d3ee8>\u001b[0m in \u001b[0;36m<module>\u001b[0;34m()\u001b[0m\n\u001b[1;32m      4\u001b[0m           \u001b[0minitial_epoch\u001b[0m \u001b[0;34m=\u001b[0m \u001b[0;36m131\u001b[0m\u001b[0;34m,\u001b[0m\u001b[0;34m\u001b[0m\u001b[0;34m\u001b[0m\u001b[0m\n\u001b[1;32m      5\u001b[0m           \u001b[0mvalidation_data\u001b[0m \u001b[0;34m=\u001b[0m \u001b[0;34m(\u001b[0m\u001b[0mx_val\u001b[0m\u001b[0;34m,\u001b[0m \u001b[0mansw_for_fit_val\u001b[0m\u001b[0;34m)\u001b[0m\u001b[0;34m,\u001b[0m\u001b[0;34m\u001b[0m\u001b[0;34m\u001b[0m\u001b[0m\n\u001b[0;32m----> 6\u001b[0;31m           \u001b[0mcallbacks\u001b[0m \u001b[0;34m=\u001b[0m \u001b[0;34m[\u001b[0m\u001b[0mchkpt\u001b[0m\u001b[0;34m]\u001b[0m\u001b[0;34m\u001b[0m\u001b[0;34m\u001b[0m\u001b[0m\n\u001b[0m\u001b[1;32m      7\u001b[0m           )\n",
            "\u001b[0;32m/usr/local/lib/python3.6/dist-packages/tensorflow/python/keras/engine/training.py\u001b[0m in \u001b[0;36m_method_wrapper\u001b[0;34m(self, *args, **kwargs)\u001b[0m\n\u001b[1;32m    106\u001b[0m   \u001b[0;32mdef\u001b[0m \u001b[0m_method_wrapper\u001b[0m\u001b[0;34m(\u001b[0m\u001b[0mself\u001b[0m\u001b[0;34m,\u001b[0m \u001b[0;34m*\u001b[0m\u001b[0margs\u001b[0m\u001b[0;34m,\u001b[0m \u001b[0;34m**\u001b[0m\u001b[0mkwargs\u001b[0m\u001b[0;34m)\u001b[0m\u001b[0;34m:\u001b[0m\u001b[0;34m\u001b[0m\u001b[0;34m\u001b[0m\u001b[0m\n\u001b[1;32m    107\u001b[0m     \u001b[0;32mif\u001b[0m \u001b[0;32mnot\u001b[0m \u001b[0mself\u001b[0m\u001b[0;34m.\u001b[0m\u001b[0m_in_multi_worker_mode\u001b[0m\u001b[0;34m(\u001b[0m\u001b[0;34m)\u001b[0m\u001b[0;34m:\u001b[0m  \u001b[0;31m# pylint: disable=protected-access\u001b[0m\u001b[0;34m\u001b[0m\u001b[0;34m\u001b[0m\u001b[0m\n\u001b[0;32m--> 108\u001b[0;31m       \u001b[0;32mreturn\u001b[0m \u001b[0mmethod\u001b[0m\u001b[0;34m(\u001b[0m\u001b[0mself\u001b[0m\u001b[0;34m,\u001b[0m \u001b[0;34m*\u001b[0m\u001b[0margs\u001b[0m\u001b[0;34m,\u001b[0m \u001b[0;34m**\u001b[0m\u001b[0mkwargs\u001b[0m\u001b[0;34m)\u001b[0m\u001b[0;34m\u001b[0m\u001b[0;34m\u001b[0m\u001b[0m\n\u001b[0m\u001b[1;32m    109\u001b[0m \u001b[0;34m\u001b[0m\u001b[0m\n\u001b[1;32m    110\u001b[0m     \u001b[0;31m# Running inside `run_distribute_coordinator` already.\u001b[0m\u001b[0;34m\u001b[0m\u001b[0;34m\u001b[0m\u001b[0;34m\u001b[0m\u001b[0m\n",
            "\u001b[0;32m/usr/local/lib/python3.6/dist-packages/tensorflow/python/keras/engine/training.py\u001b[0m in \u001b[0;36mfit\u001b[0;34m(self, x, y, batch_size, epochs, verbose, callbacks, validation_split, validation_data, shuffle, class_weight, sample_weight, initial_epoch, steps_per_epoch, validation_steps, validation_batch_size, validation_freq, max_queue_size, workers, use_multiprocessing)\u001b[0m\n\u001b[1;32m   1096\u001b[0m                 batch_size=batch_size):\n\u001b[1;32m   1097\u001b[0m               \u001b[0mcallbacks\u001b[0m\u001b[0;34m.\u001b[0m\u001b[0mon_train_batch_begin\u001b[0m\u001b[0;34m(\u001b[0m\u001b[0mstep\u001b[0m\u001b[0;34m)\u001b[0m\u001b[0;34m\u001b[0m\u001b[0;34m\u001b[0m\u001b[0m\n\u001b[0;32m-> 1098\u001b[0;31m               \u001b[0mtmp_logs\u001b[0m \u001b[0;34m=\u001b[0m \u001b[0mtrain_function\u001b[0m\u001b[0;34m(\u001b[0m\u001b[0miterator\u001b[0m\u001b[0;34m)\u001b[0m\u001b[0;34m\u001b[0m\u001b[0;34m\u001b[0m\u001b[0m\n\u001b[0m\u001b[1;32m   1099\u001b[0m               \u001b[0;32mif\u001b[0m \u001b[0mdata_handler\u001b[0m\u001b[0;34m.\u001b[0m\u001b[0mshould_sync\u001b[0m\u001b[0;34m:\u001b[0m\u001b[0;34m\u001b[0m\u001b[0;34m\u001b[0m\u001b[0m\n\u001b[1;32m   1100\u001b[0m                 \u001b[0mcontext\u001b[0m\u001b[0;34m.\u001b[0m\u001b[0masync_wait\u001b[0m\u001b[0;34m(\u001b[0m\u001b[0;34m)\u001b[0m\u001b[0;34m\u001b[0m\u001b[0;34m\u001b[0m\u001b[0m\n",
            "\u001b[0;32m/usr/local/lib/python3.6/dist-packages/tensorflow/python/eager/def_function.py\u001b[0m in \u001b[0;36m__call__\u001b[0;34m(self, *args, **kwds)\u001b[0m\n\u001b[1;32m    778\u001b[0m       \u001b[0;32melse\u001b[0m\u001b[0;34m:\u001b[0m\u001b[0;34m\u001b[0m\u001b[0;34m\u001b[0m\u001b[0m\n\u001b[1;32m    779\u001b[0m         \u001b[0mcompiler\u001b[0m \u001b[0;34m=\u001b[0m \u001b[0;34m\"nonXla\"\u001b[0m\u001b[0;34m\u001b[0m\u001b[0;34m\u001b[0m\u001b[0m\n\u001b[0;32m--> 780\u001b[0;31m         \u001b[0mresult\u001b[0m \u001b[0;34m=\u001b[0m \u001b[0mself\u001b[0m\u001b[0;34m.\u001b[0m\u001b[0m_call\u001b[0m\u001b[0;34m(\u001b[0m\u001b[0;34m*\u001b[0m\u001b[0margs\u001b[0m\u001b[0;34m,\u001b[0m \u001b[0;34m**\u001b[0m\u001b[0mkwds\u001b[0m\u001b[0;34m)\u001b[0m\u001b[0;34m\u001b[0m\u001b[0;34m\u001b[0m\u001b[0m\n\u001b[0m\u001b[1;32m    781\u001b[0m \u001b[0;34m\u001b[0m\u001b[0m\n\u001b[1;32m    782\u001b[0m       \u001b[0mnew_tracing_count\u001b[0m \u001b[0;34m=\u001b[0m \u001b[0mself\u001b[0m\u001b[0;34m.\u001b[0m\u001b[0m_get_tracing_count\u001b[0m\u001b[0;34m(\u001b[0m\u001b[0;34m)\u001b[0m\u001b[0;34m\u001b[0m\u001b[0;34m\u001b[0m\u001b[0m\n",
            "\u001b[0;32m/usr/local/lib/python3.6/dist-packages/tensorflow/python/eager/def_function.py\u001b[0m in \u001b[0;36m_call\u001b[0;34m(self, *args, **kwds)\u001b[0m\n\u001b[1;32m    805\u001b[0m       \u001b[0;31m# In this case we have created variables on the first call, so we run the\u001b[0m\u001b[0;34m\u001b[0m\u001b[0;34m\u001b[0m\u001b[0;34m\u001b[0m\u001b[0m\n\u001b[1;32m    806\u001b[0m       \u001b[0;31m# defunned version which is guaranteed to never create variables.\u001b[0m\u001b[0;34m\u001b[0m\u001b[0;34m\u001b[0m\u001b[0;34m\u001b[0m\u001b[0m\n\u001b[0;32m--> 807\u001b[0;31m       \u001b[0;32mreturn\u001b[0m \u001b[0mself\u001b[0m\u001b[0;34m.\u001b[0m\u001b[0m_stateless_fn\u001b[0m\u001b[0;34m(\u001b[0m\u001b[0;34m*\u001b[0m\u001b[0margs\u001b[0m\u001b[0;34m,\u001b[0m \u001b[0;34m**\u001b[0m\u001b[0mkwds\u001b[0m\u001b[0;34m)\u001b[0m  \u001b[0;31m# pylint: disable=not-callable\u001b[0m\u001b[0;34m\u001b[0m\u001b[0;34m\u001b[0m\u001b[0m\n\u001b[0m\u001b[1;32m    808\u001b[0m     \u001b[0;32melif\u001b[0m \u001b[0mself\u001b[0m\u001b[0;34m.\u001b[0m\u001b[0m_stateful_fn\u001b[0m \u001b[0;32mis\u001b[0m \u001b[0;32mnot\u001b[0m \u001b[0;32mNone\u001b[0m\u001b[0;34m:\u001b[0m\u001b[0;34m\u001b[0m\u001b[0;34m\u001b[0m\u001b[0m\n\u001b[1;32m    809\u001b[0m       \u001b[0;31m# Release the lock early so that multiple threads can perform the call\u001b[0m\u001b[0;34m\u001b[0m\u001b[0;34m\u001b[0m\u001b[0;34m\u001b[0m\u001b[0m\n",
            "\u001b[0;32m/usr/local/lib/python3.6/dist-packages/tensorflow/python/eager/function.py\u001b[0m in \u001b[0;36m__call__\u001b[0;34m(self, *args, **kwargs)\u001b[0m\n\u001b[1;32m   2827\u001b[0m     \u001b[0;32mwith\u001b[0m \u001b[0mself\u001b[0m\u001b[0;34m.\u001b[0m\u001b[0m_lock\u001b[0m\u001b[0;34m:\u001b[0m\u001b[0;34m\u001b[0m\u001b[0;34m\u001b[0m\u001b[0m\n\u001b[1;32m   2828\u001b[0m       \u001b[0mgraph_function\u001b[0m\u001b[0;34m,\u001b[0m \u001b[0margs\u001b[0m\u001b[0;34m,\u001b[0m \u001b[0mkwargs\u001b[0m \u001b[0;34m=\u001b[0m \u001b[0mself\u001b[0m\u001b[0;34m.\u001b[0m\u001b[0m_maybe_define_function\u001b[0m\u001b[0;34m(\u001b[0m\u001b[0margs\u001b[0m\u001b[0;34m,\u001b[0m \u001b[0mkwargs\u001b[0m\u001b[0;34m)\u001b[0m\u001b[0;34m\u001b[0m\u001b[0;34m\u001b[0m\u001b[0m\n\u001b[0;32m-> 2829\u001b[0;31m     \u001b[0;32mreturn\u001b[0m \u001b[0mgraph_function\u001b[0m\u001b[0;34m.\u001b[0m\u001b[0m_filtered_call\u001b[0m\u001b[0;34m(\u001b[0m\u001b[0margs\u001b[0m\u001b[0;34m,\u001b[0m \u001b[0mkwargs\u001b[0m\u001b[0;34m)\u001b[0m  \u001b[0;31m# pylint: disable=protected-access\u001b[0m\u001b[0;34m\u001b[0m\u001b[0;34m\u001b[0m\u001b[0m\n\u001b[0m\u001b[1;32m   2830\u001b[0m \u001b[0;34m\u001b[0m\u001b[0m\n\u001b[1;32m   2831\u001b[0m   \u001b[0;34m@\u001b[0m\u001b[0mproperty\u001b[0m\u001b[0;34m\u001b[0m\u001b[0;34m\u001b[0m\u001b[0m\n",
            "\u001b[0;32m/usr/local/lib/python3.6/dist-packages/tensorflow/python/eager/function.py\u001b[0m in \u001b[0;36m_filtered_call\u001b[0;34m(self, args, kwargs, cancellation_manager)\u001b[0m\n\u001b[1;32m   1846\u001b[0m                            resource_variable_ops.BaseResourceVariable))],\n\u001b[1;32m   1847\u001b[0m         \u001b[0mcaptured_inputs\u001b[0m\u001b[0;34m=\u001b[0m\u001b[0mself\u001b[0m\u001b[0;34m.\u001b[0m\u001b[0mcaptured_inputs\u001b[0m\u001b[0;34m,\u001b[0m\u001b[0;34m\u001b[0m\u001b[0;34m\u001b[0m\u001b[0m\n\u001b[0;32m-> 1848\u001b[0;31m         cancellation_manager=cancellation_manager)\n\u001b[0m\u001b[1;32m   1849\u001b[0m \u001b[0;34m\u001b[0m\u001b[0m\n\u001b[1;32m   1850\u001b[0m   \u001b[0;32mdef\u001b[0m \u001b[0m_call_flat\u001b[0m\u001b[0;34m(\u001b[0m\u001b[0mself\u001b[0m\u001b[0;34m,\u001b[0m \u001b[0margs\u001b[0m\u001b[0;34m,\u001b[0m \u001b[0mcaptured_inputs\u001b[0m\u001b[0;34m,\u001b[0m \u001b[0mcancellation_manager\u001b[0m\u001b[0;34m=\u001b[0m\u001b[0;32mNone\u001b[0m\u001b[0;34m)\u001b[0m\u001b[0;34m:\u001b[0m\u001b[0;34m\u001b[0m\u001b[0;34m\u001b[0m\u001b[0m\n",
            "\u001b[0;32m/usr/local/lib/python3.6/dist-packages/tensorflow/python/eager/function.py\u001b[0m in \u001b[0;36m_call_flat\u001b[0;34m(self, args, captured_inputs, cancellation_manager)\u001b[0m\n\u001b[1;32m   1922\u001b[0m       \u001b[0;31m# No tape is watching; skip to running the function.\u001b[0m\u001b[0;34m\u001b[0m\u001b[0;34m\u001b[0m\u001b[0;34m\u001b[0m\u001b[0m\n\u001b[1;32m   1923\u001b[0m       return self._build_call_outputs(self._inference_function.call(\n\u001b[0;32m-> 1924\u001b[0;31m           ctx, args, cancellation_manager=cancellation_manager))\n\u001b[0m\u001b[1;32m   1925\u001b[0m     forward_backward = self._select_forward_and_backward_functions(\n\u001b[1;32m   1926\u001b[0m         \u001b[0margs\u001b[0m\u001b[0;34m,\u001b[0m\u001b[0;34m\u001b[0m\u001b[0;34m\u001b[0m\u001b[0m\n",
            "\u001b[0;32m/usr/local/lib/python3.6/dist-packages/tensorflow/python/eager/function.py\u001b[0m in \u001b[0;36mcall\u001b[0;34m(self, ctx, args, cancellation_manager)\u001b[0m\n\u001b[1;32m    548\u001b[0m               \u001b[0minputs\u001b[0m\u001b[0;34m=\u001b[0m\u001b[0margs\u001b[0m\u001b[0;34m,\u001b[0m\u001b[0;34m\u001b[0m\u001b[0;34m\u001b[0m\u001b[0m\n\u001b[1;32m    549\u001b[0m               \u001b[0mattrs\u001b[0m\u001b[0;34m=\u001b[0m\u001b[0mattrs\u001b[0m\u001b[0;34m,\u001b[0m\u001b[0;34m\u001b[0m\u001b[0;34m\u001b[0m\u001b[0m\n\u001b[0;32m--> 550\u001b[0;31m               ctx=ctx)\n\u001b[0m\u001b[1;32m    551\u001b[0m         \u001b[0;32melse\u001b[0m\u001b[0;34m:\u001b[0m\u001b[0;34m\u001b[0m\u001b[0;34m\u001b[0m\u001b[0m\n\u001b[1;32m    552\u001b[0m           outputs = execute.execute_with_cancellation(\n",
            "\u001b[0;32m/usr/local/lib/python3.6/dist-packages/tensorflow/python/eager/execute.py\u001b[0m in \u001b[0;36mquick_execute\u001b[0;34m(op_name, num_outputs, inputs, attrs, ctx, name)\u001b[0m\n\u001b[1;32m     58\u001b[0m     \u001b[0mctx\u001b[0m\u001b[0;34m.\u001b[0m\u001b[0mensure_initialized\u001b[0m\u001b[0;34m(\u001b[0m\u001b[0;34m)\u001b[0m\u001b[0;34m\u001b[0m\u001b[0;34m\u001b[0m\u001b[0m\n\u001b[1;32m     59\u001b[0m     tensors = pywrap_tfe.TFE_Py_Execute(ctx._handle, device_name, op_name,\n\u001b[0;32m---> 60\u001b[0;31m                                         inputs, attrs, num_outputs)\n\u001b[0m\u001b[1;32m     61\u001b[0m   \u001b[0;32mexcept\u001b[0m \u001b[0mcore\u001b[0m\u001b[0;34m.\u001b[0m\u001b[0m_NotOkStatusException\u001b[0m \u001b[0;32mas\u001b[0m \u001b[0me\u001b[0m\u001b[0;34m:\u001b[0m\u001b[0;34m\u001b[0m\u001b[0;34m\u001b[0m\u001b[0m\n\u001b[1;32m     62\u001b[0m     \u001b[0;32mif\u001b[0m \u001b[0mname\u001b[0m \u001b[0;32mis\u001b[0m \u001b[0;32mnot\u001b[0m \u001b[0;32mNone\u001b[0m\u001b[0;34m:\u001b[0m\u001b[0;34m\u001b[0m\u001b[0;34m\u001b[0m\u001b[0m\n",
            "\u001b[0;31mKeyboardInterrupt\u001b[0m: "
          ]
        }
      ]
    },
    {
      "cell_type": "code",
      "metadata": {
        "id": "mwrBvejYWfxM"
      },
      "source": [
        ""
      ],
      "execution_count": null,
      "outputs": []
    },
    {
      "cell_type": "markdown",
      "metadata": {
        "id": "m4SQO0tRxox4"
      },
      "source": [
        "#Evaluating(bad_one)"
      ]
    },
    {
      "cell_type": "code",
      "metadata": {
        "id": "miwSLps7M-_u"
      },
      "source": [
        "model.save(\"content/drive/My Drive/bird_segmentation/128razreh_batchsize20_mobile_460_OMG.hdf5\")"
      ],
      "execution_count": null,
      "outputs": []
    },
    {
      "cell_type": "code",
      "metadata": {
        "id": "7MZCKzJYaN2f",
        "colab": {
          "base_uri": "https://localhost:8080/"
        },
        "outputId": "9c8229e3-b37e-4a16-ee4d-a834ba8b441c"
      },
      "source": [
        "model = load_model('content/drive/My Drive/bird_segmentation/128razreh_batchsize20_mobile_131after_.hdf5')\n",
        "model.evaluate(x,answ_for_fit_train)"
      ],
      "execution_count": null,
      "outputs": [
        {
          "output_type": "stream",
          "text": [
            "262/262 [==============================] - 10s 38ms/step - loss: 0.0165 - mean_io_u_1: 0.8956 - mean_squared_error: 0.0054 - mean_absolute_error: 0.0109\n"
          ],
          "name": "stdout"
        },
        {
          "output_type": "execute_result",
          "data": {
            "text/plain": [
              "[0.016523189842700958,\n",
              " 0.8956071138381958,\n",
              " 0.005419956520199776,\n",
              " 0.01088316272944212]"
            ]
          },
          "metadata": {
            "tags": []
          },
          "execution_count": 42
        }
      ]
    },
    {
      "cell_type": "code",
      "metadata": {
        "id": "UO5WQqzzaUJX"
      },
      "source": [
        "cd "
      ],
      "execution_count": null,
      "outputs": []
    },
    {
      "cell_type": "code",
      "metadata": {
        "id": "4M84rDOBaWHW"
      },
      "source": [
        "cd .."
      ],
      "execution_count": null,
      "outputs": []
    },
    {
      "cell_type": "code",
      "metadata": {
        "id": "8lo4cRWjskCu"
      },
      "source": [
        "\n",
        "model.save('content/drive/My Drive/bird_segmentation/128size_20batch_mobile_56epochs.hdf5')"
      ],
      "execution_count": null,
      "outputs": []
    },
    {
      "cell_type": "code",
      "metadata": {
        "id": "TNz7oegdtO-X"
      },
      "source": [
        ""
      ],
      "execution_count": null,
      "outputs": []
    },
    {
      "cell_type": "code",
      "metadata": {
        "id": "-CQfleVurc36"
      },
      "source": [
        "a = model.predict(x[11:12,:,:,:])"
      ],
      "execution_count": null,
      "outputs": []
    },
    {
      "cell_type": "code",
      "metadata": {
        "id": "GRBo2aPrE2d0",
        "colab": {
          "base_uri": "https://localhost:8080/"
        },
        "outputId": "8ce4851e-d69c-4a12-9147-2bf4ee593aab"
      },
      "source": [
        "a.shape"
      ],
      "execution_count": null,
      "outputs": [
        {
          "output_type": "execute_result",
          "data": {
            "text/plain": [
              "(1, 128, 128, 2)"
            ]
          },
          "metadata": {
            "tags": []
          },
          "execution_count": 31
        }
      ]
    },
    {
      "cell_type": "code",
      "metadata": {
        "id": "7qotJmg45AMj",
        "colab": {
          "base_uri": "https://localhost:8080/"
        },
        "outputId": "a78a3d23-233d-4dff-e935-81b54d2c5b49"
      },
      "source": [
        "b = (model.predict(x[11:12,:,:,:]) > 0.5).astype('uint8') * 255\n",
        "b.shape"
      ],
      "execution_count": null,
      "outputs": [
        {
          "output_type": "execute_result",
          "data": {
            "text/plain": [
              "(1, 128, 128, 2)"
            ]
          },
          "metadata": {
            "tags": []
          },
          "execution_count": 51
        }
      ]
    },
    {
      "cell_type": "code",
      "metadata": {
        "id": "u_uVV5n-E9pS",
        "colab": {
          "base_uri": "https://localhost:8080/",
          "height": 285
        },
        "outputId": "ab818f4e-317e-45cf-b2be-21353681b6de"
      },
      "source": [
        "plt.imshow(a[0,:,:,1])"
      ],
      "execution_count": null,
      "outputs": [
        {
          "output_type": "execute_result",
          "data": {
            "text/plain": [
              "<matplotlib.image.AxesImage at 0x7f08d72839b0>"
            ]
          },
          "metadata": {
            "tags": []
          },
          "execution_count": 48
        },
        {
          "output_type": "display_data",
          "data": {
            "image/png": "[encoded data removed]",
            "text/plain": [
              "<Figure size 432x288 with 1 Axes>"
            ]
          },
          "metadata": {
            "tags": [],
            "needs_background": "light"
          }
        }
      ]
    },
    {
      "cell_type": "code",
      "metadata": {
        "id": "P1r4KaHw6Ble"
      },
      "source": [
        "from skimage import img_as_ubyte\n",
        "\n",
        "img = img_as_ubyte(x[11:12,:,:,:]) > 127"
      ],
      "execution_count": null,
      "outputs": []
    },
    {
      "cell_type": "code",
      "metadata": {
        "id": "4vo6zSiPFAjQ",
        "colab": {
          "base_uri": "https://localhost:8080/",
          "height": 285
        },
        "outputId": "114cdbe3-26c0-40c1-e108-ae2e72dd8ac8"
      },
      "source": [
        "plt.imshow(b[0,:,:,1])"
      ],
      "execution_count": null,
      "outputs": [
        {
          "output_type": "execute_result",
          "data": {
            "text/plain": [
              "<matplotlib.image.AxesImage at 0x7f08d6ecc0b8>"
            ]
          },
          "metadata": {
            "tags": []
          },
          "execution_count": 59
        },
        {
          "output_type": "display_data",
          "data": {
            "image/png": "[encoded data removed]",
            "text/plain": [
              "<Figure size 432x288 with 1 Axes>"
            ]
          },
          "metadata": {
            "tags": [],
            "needs_background": "light"
          }
        }
      ]
    },
    {
      "cell_type": "code",
      "metadata": {
        "id": "72k4LLtz5Er1",
        "colab": {
          "base_uri": "https://localhost:8080/",
          "height": 165
        },
        "outputId": "a30d2bf2-8cd7-42f2-c348-95dfa018a3e6"
      },
      "source": [
        "plt.imshow(y[0,:,:,1])"
      ],
      "execution_count": null,
      "outputs": [
        {
          "output_type": "error",
          "ename": "IndexError",
          "evalue": "ignored",
          "traceback": [
            "\u001b[0;31m---------------------------------------------------------------------------\u001b[0m",
            "\u001b[0;31mIndexError\u001b[0m                                Traceback (most recent call last)",
            "\u001b[0;32m<ipython-input-64-174ff3c4b735>\u001b[0m in \u001b[0;36m<module>\u001b[0;34m()\u001b[0m\n\u001b[0;32m----> 1\u001b[0;31m \u001b[0mplt\u001b[0m\u001b[0;34m.\u001b[0m\u001b[0mimshow\u001b[0m\u001b[0;34m(\u001b[0m\u001b[0my\u001b[0m\u001b[0;34m[\u001b[0m\u001b[0;36m0\u001b[0m\u001b[0;34m,\u001b[0m\u001b[0;34m:\u001b[0m\u001b[0;34m,\u001b[0m\u001b[0;34m:\u001b[0m\u001b[0;34m,\u001b[0m\u001b[0;36m1\u001b[0m\u001b[0;34m]\u001b[0m\u001b[0;34m)\u001b[0m\u001b[0;34m\u001b[0m\u001b[0;34m\u001b[0m\u001b[0m\n\u001b[0m",
            "\u001b[0;31mIndexError\u001b[0m: index 1 is out of bounds for axis 3 with size 1"
          ]
        }
      ]
    },
    {
      "cell_type": "code",
      "metadata": {
        "id": "PThrXmO56WC7"
      },
      "source": [
        ""
      ],
      "execution_count": null,
      "outputs": []
    }
  ]
}
{
  "nbformat": 4,
  "nbformat_minor": 0,
  "metadata": {
    "colab": {
      "name": "notebook_for_cv_1(demozaing)",
      "provenance": [],
      "collapsed_sections": [],
      "authorship_tag": "ABX9TyMFNU4JZLknGTF/uoBQ4iXv",
      "include_colab_link": true
    },
    "kernelspec": {
      "name": "python3",
      "display_name": "Python 3"
    }
  },
  "cells": [
    {
      "cell_type": "markdown",
      "metadata": {
        "id": "view-in-github",
        "colab_type": "text"
      },
      "source": [
        "<a href=\"https://colab.research.google.com/github/psa2001/computer_vision/blob/main/notebook_for_cv_1(demozaing).ipynb\" target=\"_parent\"><img src=\"https://colab.research.google.com/assets/colab-badge.svg\" alt=\"Open In Colab\"/></a>"
      ]
    },
    {
      "cell_type": "code",
      "metadata": {
        "id": "oKr7eqEOgVEW",
        "colab": {
          "base_uri": "https://localhost:8080/",
          "height": 34
        },
        "outputId": "c6e43156-886b-463e-aa6e-1383929f692d"
      },
      "source": [
        "from google.colab import drive\n",
        "drive.mount(\"/content/drive\", force_remount=True)\n",
        "#drive.mount('/content/drive')"
      ],
      "execution_count": null,
      "outputs": [
        {
          "output_type": "stream",
          "text": [
            "Mounted at /content/drive\n"
          ],
          "name": "stdout"
        }
      ]
    },
    {
      "cell_type": "code",
      "metadata": {
        "id": "2ncQ6wYyicKg",
        "colab": {
          "base_uri": "https://localhost:8080/",
          "height": 34
        },
        "outputId": "821749bc-9fb1-40ea-c799-0f3fbf13d908"
      },
      "source": [
        "%cd drive"
      ],
      "execution_count": null,
      "outputs": [
        {
          "output_type": "stream",
          "text": [
            "/content/drive\n"
          ],
          "name": "stdout"
        }
      ]
    },
    {
      "cell_type": "code",
      "metadata": {
        "id": "X8r85LOHisJG",
        "colab": {
          "base_uri": "https://localhost:8080/",
          "height": 34
        },
        "outputId": "f573f5e4-0a88-42be-92ef-27152fd93d69"
      },
      "source": [
        "%cd 'My Drive'"
      ],
      "execution_count": null,
      "outputs": [
        {
          "output_type": "stream",
          "text": [
            "/content/drive/My Drive\n"
          ],
          "name": "stdout"
        }
      ]
    },
    {
      "cell_type": "code",
      "metadata": {
        "id": "z5DQe1iYi3Jj",
        "colab": {
          "base_uri": "https://localhost:8080/",
          "height": 196
        },
        "outputId": "c0f43f29-645f-422d-bf33-fdb33d5a7740"
      },
      "source": [
        "!ls -l "
      ],
      "execution_count": null,
      "outputs": [
        {
          "output_type": "stream",
          "text": [
            "ls: senukova: No such file or directory\n",
            "total 21\n",
            "-rw------- 1 root root 4010 Sep 12 09:03  bayer.py\n",
            "-rw------- 1 root root  686 Sep 12 08:37  build.sh\n",
            "drwx------ 2 root root 4096 Apr  8 07:36 'Colab Notebooks'\n",
            "-rw------- 1 root root 1427 Dec 30  2019  common.py\n",
            "-rwx------ 1 root root 1904 Sep 12 08:37  run.py\n",
            "lrw------- 1 root root    0 Apr  7 11:40  senukova -> /content/drive/.shortcut-targets-by-id/1v8OowmZARWubJb2gPirqYtGVZkvULt4o/senukova\n",
            "drwx------ 2 root root 4096 Apr  8 07:35  senukovs_a\n",
            "drwx------ 2 root root 4096 Sep 12 08:57  tests\n"
          ],
          "name": "stdout"
        }
      ]
    },
    {
      "cell_type": "code",
      "metadata": {
        "id": "rIXki7_WjAyM"
      },
      "source": [
        "!chmod +x run.py"
      ],
      "execution_count": null,
      "outputs": []
    },
    {
      "cell_type": "code",
      "metadata": {
        "id": "tenEEHmcjF_L"
      },
      "source": [
        "!chmod +x build.sh"
      ],
      "execution_count": null,
      "outputs": []
    },
    {
      "cell_type": "code",
      "metadata": {
        "id": "nupjeejLjeDM",
        "colab": {
          "base_uri": "https://localhost:8080/",
          "height": 196
        },
        "outputId": "e7da70fc-ba2b-461b-d85b-8cc9e467d9b9"
      },
      "source": [
        "!ls -l "
      ],
      "execution_count": null,
      "outputs": [
        {
          "output_type": "stream",
          "text": [
            "ls: senukova: No such file or directory\n",
            "total 21\n",
            "-rw------- 1 root root 4010 Sep 12 09:03  bayer.py\n",
            "-rwx------ 1 root root  686 Sep 12 08:37  build.sh\n",
            "drwx------ 2 root root 4096 Apr  8 07:36 'Colab Notebooks'\n",
            "-rw------- 1 root root 1427 Dec 30  2019  common.py\n",
            "-rwx------ 1 root root 1904 Sep 12 08:37  run.py\n",
            "lrw------- 1 root root    0 Apr  7 11:40  senukova -> /content/drive/.shortcut-targets-by-id/1v8OowmZARWubJb2gPirqYtGVZkvULt4o/senukova\n",
            "drwx------ 2 root root 4096 Apr  8 07:35  senukovs_a\n",
            "drwx------ 2 root root 4096 Sep 12 08:57  tests\n"
          ],
          "name": "stdout"
        }
      ]
    },
    {
      "cell_type": "code",
      "metadata": {
        "id": "QCKOeDlKjmPo"
      },
      "source": [
        "!./build.sh"
      ],
      "execution_count": null,
      "outputs": []
    },
    {
      "cell_type": "code",
      "metadata": {
        "id": "IwsNIxcIkt-t"
      },
      "source": [
        ""
      ],
      "execution_count": null,
      "outputs": []
    },
    {
      "cell_type": "code",
      "metadata": {
        "id": "ekPBPLOCkuPj"
      },
      "source": [
        ""
      ],
      "execution_count": null,
      "outputs": []
    },
    {
      "cell_type": "code",
      "metadata": {
        "id": "W_qy4LV_nrCP"
      },
      "source": [
        "import numpy as np\n",
        "n_rows = n_cols = 3"
      ],
      "execution_count": null,
      "outputs": []
    },
    {
      "cell_type": "code",
      "metadata": {
        "id": "gj07Zibln36G"
      },
      "source": [
        "red = np.zeros([n_rows, n_cols])\n",
        "red_arr = np.zeros([n_cols])\n",
        "for i in range(1, n_cols, 2):\n",
        "    red_arr[i] = 1\n",
        "for i in range(0, n_rows, 2):\n",
        "    red[i,:] = red_arr\n",
        "\n",
        "blue = np.zeros([n_rows, n_cols])\n",
        "blue_arr = np.zeros([n_cols])\n",
        "for i in range(0, n_cols, 2):\n",
        "    blue_arr[i] = 1\n",
        "for i in range(1, n_rows, 2):\n",
        "    blue[i,:] = blue_arr\n",
        "\n",
        "\n",
        "green = np.zeros([n_rows, n_cols])\n",
        "for i in range (n_rows):\n",
        "    if(i % 2==0):\n",
        "        green[i,:] = blue_arr\n",
        "    else:\n",
        "        green[i,:] = red_arr"
      ],
      "execution_count": null,
      "outputs": []
    },
    {
      "cell_type": "code",
      "metadata": {
        "id": "XjHUHknxtKN6"
      },
      "source": [
        "mask = np.dstack((red, green ,blue))"
      ],
      "execution_count": null,
      "outputs": []
    },
    {
      "cell_type": "code",
      "metadata": {
        "id": "pxWfB2aXvjGA"
      },
      "source": [
        "answ = np.bool_(mask)"
      ],
      "execution_count": null,
      "outputs": []
    },
    {
      "cell_type": "code",
      "metadata": {
        "id": "DIrw6MKM0YeD"
      },
      "source": [
        "raw_img = np.array([[1, 2,], [3, 4]], dtype='uint8')"
      ],
      "execution_count": null,
      "outputs": []
    },
    {
      "cell_type": "code",
      "metadata": {
        "id": "vRqNl6b8124R"
      },
      "source": [
        "def get_bayer_masks(n_rows, n_cols):\n",
        "    import numpy as np\n",
        "    red = np.zeros([n_rows, n_cols])\n",
        "    red_arr = np.zeros([n_cols])\n",
        "    for i in range(1, n_cols, 2):\n",
        "        red_arr[i] = 1\n",
        "    for i in range(0, n_rows, 2):\n",
        "        red[i,:] = red_arr\n",
        "    \n",
        "    blue = np.zeros([n_rows, n_cols])\n",
        "    blue_arr = np.zeros([n_cols])\n",
        "    for i in range(0, n_cols, 2):\n",
        "        blue_arr[i] = 1\n",
        "    for i in range(1, n_rows, 2):\n",
        "        blue[i,:] = blue_arr\n",
        "        \n",
        "    green = np.zeros([n_rows, n_cols])\n",
        "    for i in range (n_rows):\n",
        "        if(i % 2==0):\n",
        "            green[i,:] = blue_arr\n",
        "        else:\n",
        "            green[i,:] = red_arr\n",
        "    \n",
        "    mask = np.bool_(np.dstack((red, green ,blue)))\n",
        "    return mask\n",
        "\n",
        "def get_colored_img(raw_img):\n",
        "    import numpy as np\n",
        "    mask = get_bayer_masks(raw_img.shape[0], raw_img.shape[1])\n",
        "    red_val = raw_img * mask[..., 0]\n",
        "    green_val = raw_img * mask[..., 1]\n",
        "    blue_val  = raw_img * mask[..., 2]\n",
        "    answ = (np.dstack((red_val, green_val ,blue_val)))\n",
        "    return answ"
      ],
      "execution_count": null,
      "outputs": []
    },
    {
      "cell_type": "code",
      "metadata": {
        "id": "SupEZlHj2FA2"
      },
      "source": [
        ""
      ],
      "execution_count": null,
      "outputs": []
    },
    {
      "cell_type": "code",
      "metadata": {
        "id": "CxCE6eUwXdSs"
      },
      "source": [
        "raw_img = np.array([[202, 150, 137, 121, 195],\n",
        "                     [ 94, 113, 217,  68, 248],\n",
        "                     [208, 170, 109,  67,  22],\n",
        "                     [ 20,  93, 222,  54,  50],\n",
        "                     [254, 252,  10, 187, 203]], dtype='uint8')\n",
        "colored_img = get_colored_img(raw_img)"
      ],
      "execution_count": null,
      "outputs": []
    },
    {
      "cell_type": "code",
      "metadata": {
        "id": "Rp4JjFc-XlFX"
      },
      "source": [
        ""
      ],
      "execution_count": null,
      "outputs": []
    },
    {
      "cell_type": "code",
      "metadata": {
        "id": "bO14ZDKXdWvq"
      },
      "source": [
        "def midling_red(color_area, mask_of_True):\n",
        "    import numpy as np\n",
        "    bil_interp = np.zeros([color_area.shape[0], color_area.shape[1], 3])\n",
        "    for i in range(1, color_area.shape[0] - 1):\n",
        "        for j in range(1, color_area.shape[1] - 1):\n",
        "              mid = np.sum(color_area[i - 1:i + 2, j - 1:j + 2], axis = (0, 1))\n",
        "              num_of_el = np.count_nonzero(mask_of_True[i - 1:i + 2, j - 1:j + 2], axis = (0, 1))\n",
        "              \n",
        "              not_cur_val = mid // num_of_el #if cut_elem - is unknown\n",
        "              is_cur = (num_of_el % 2 == 1) #if cut_elem - is known\n",
        "              \n",
        "              cur_val = color_area[i, j, :] #if cut_elem - is known\n",
        "              is_not_cur = (num_of_el % 2 == 0)#if cut_elem - is unknown\n",
        "              bil_interp[i, j, :] = is_cur * cur_val + not_cur_val * is_not_cur\n",
        "    return np.uint8(bil_interp)\n",
        "\n",
        "\n",
        "\n",
        "def bilinear_interpolation(colored_img):\n",
        "    import numpy as np\n",
        "    answ = np.zeros((colored_img.shape[0], colored_img.shape[1], 3), 'uint8')\n",
        "    r = slice(1, -1), slice(1, -1)\n",
        "    where_color_el = get_bayer_masks(colored_img.shape[0], colored_img.shape[1])\n",
        "    answ = midling_red(colored_img, where_color_el)\n",
        "    return answ"
      ],
      "execution_count": null,
      "outputs": []
    },
    {
      "cell_type": "code",
      "metadata": {
        "id": "dXnXQ6eEdm0l",
        "colab": {
          "base_uri": "https://localhost:8080/",
          "height": 126
        },
        "outputId": "924bc281-d8fd-4111-ce79-b12440d4587d"
      },
      "source": [
        "def midling_red(color_area, mask_of_True):\n",
        "    import numpy as np\n",
        "    bil_interp = np.zeros([color_area.shape[0] - 2, color_area.shape[1] - 2])\n",
        "    for i in range(1, color_area.shape[0] - 1):\n",
        "        for j in range(1, color_area.shape[1] - 1):\n",
        "            if(mask_of_True[i][j] == False):\n",
        "              mid = np.sum(color_area[i - 1:i + 2, j - 1:j + 2])\n",
        "              num_of_el = np.count_nonzero(mask_of_True[i - 1:i + 2, j - 1:j + 2])\n",
        "              bil_interp[i - 1, j - 1] = mid // num_of_el\n",
        "            else:\n",
        "              bil_interp[i - 1, j - 1] = color_area[i][j]\n",
        "    return np.uint8(bil_interp)\n",
        "\n",
        "def bilinear_interpolation(colored_img):\n",
        "    import numpy as np\n",
        "    answ = np.zeros((colored_img.shape[0], colored_img.shape[1], 3), 'uint8')\n",
        "    r = slice(1, -1), slice(1, -1)\n",
        "    where_color_el = get_bayer_masks(colored_img.shape[0], colored_img.shape[1])\n",
        "    answ[r + (0,)] = midling_red(colored_img[:,:,0], where_color_el[:,:,0])\n",
        "    answ[r + (1,)] = midling_red(colored_img[:,:,1], where_color_el[:,:,1])\n",
        "    answ[r + (2,)] = midling_red(colored_img[:,:,2], where_color_el[:,:,2])\n",
        "    return answ\n"
      ],
      "execution_count": null,
      "outputs": [
        {
          "output_type": "execute_result",
          "data": {
            "application/vnd.google.colaboratory.intrinsic+json": {
              "type": "string"
            },
            "text/plain": [
              "\"\\ndef midling_red(color_area, mask_of_True):\\n    import numpy as np\\n    bil_interp = np.zeros([color_area.shape[0] - 2, color_area.shape[1] - 2])\\n    for i in range(1, color_area.shape[0] - 1):\\n        for j in range(1, color_area.shape[1] - 1):\\n            if(mask_of_True[i][j] == False):\\n              mid = np.sum(color_area[i - 1:i + 2, j - 1:j + 2])\\n              num_of_el = np.count_nonzero(mask_of_True[i - 1:i + 2, j - 1:j + 2])\\n              bil_interp[i - 1, j - 1] = mid // num_of_el\\n            else:\\n              bil_interp[i - 1, j - 1] = color_area[i][j]\\n    return np.uint8(bil_interp)\\n\\ndef bilinear_interpolation(colored_img):\\n    import numpy as np\\n    answ = np.zeros((colored_img.shape[0], colored_img.shape[1], 3), 'uint8')\\n    r = slice(1, -1), slice(1, -1)\\n    where_color_el = get_bayer_masks(colored_img.shape[0], colored_img.shape[1])\\n    answ[r + (0,)] = midling_red(colored_img[:,:,0], where_color_el[:,:,0])\\n    answ[r + (1,)] = midling_red(colored_img[:,:,1], where_color_el[:,:,1])\\n    answ[r + (2,)] = midling_red(colored_img[:,:,2], where_color_el[:,:,2])\\n    return answ\\n\""
            ]
          },
          "metadata": {
            "tags": []
          },
          "execution_count": 32
        }
      ]
    },
    {
      "cell_type": "code",
      "metadata": {
        "id": "ZypG804vp9L6"
      },
      "source": [
        "\"\"\"\n",
        "def red_zone(zone):\n",
        "  row_first = zone.shape[0]\n",
        "  col_first = zone.shape[1]\n",
        "  \n",
        "  for i in range(1,row_first,2):\n",
        "    for j in range(1,col_first,2):\n",
        "      if(i + 1 < row_first):\n",
        "        zone[i][j] = (zone[i-1][j] + zone[i+1][j])/2\n",
        "  \n",
        "  for i in range(1, row_first, 2):\n",
        "    for j in range(2,col_first,2):\n",
        "      if(j + 1 < col_first):\n",
        "        zone[i][j] = (zone[i][j - 1] + zone[i][j + 1])/2\n",
        "\n",
        "  for j in range(2, col_first, 2):\n",
        "    if(j + 1 < col_first):\n",
        "      zone[0][j] = (zone[0][j - 1] + zone[0][j + 1])/2\n",
        "  \n",
        "  for i in range(2, row_first, 2):\n",
        "    for j in range(2, col_first, 2):\n",
        "      zone[i][j] = 2 * zone[i - 1][j] - zone[i - 2][j] \n",
        "\n",
        "\n",
        "def green_zone(zone):\n",
        "  row_first = zone.shape[0]\n",
        "  col_first = zone.shape[1]\n",
        "  for i in range(1, row_first, 2):\n",
        "    for j in range(2, col_first, 2):\n",
        "      if(j + 1 < col_first and i + 1 < row_first):\n",
        "       zone[i][j] = (zone[i - 1][j] + zone[i + 1][j] + zone[i][j - 1] + zone[i][j + 1])/4\n",
        "\n",
        "  for i in range(2, row_first, 2):\n",
        "    for j in range(1, col_first, 2):\n",
        "      if(j + 1 < col_first and i + 1 < row_first):\n",
        "        zone[i][j] = (zone[i - 1][j]+ zone[i + 1][j] + zone[i][j - 1] + zone[i][j + 1])/4\n",
        "\n",
        "\n",
        "def blue_zone(zone):\n",
        "  row_first = zone.shape[0]\n",
        "  col_first = zone.shape[1]\n",
        "\n",
        "  for i in range(1, row_first, 2):\n",
        "    for j in range(1, col_first, 2):\n",
        "      if(j + 1 < col_first):\n",
        "        zone[i][j] = (zone[i][j - 1] + zone[i][j + 1])/2\n",
        "    \n",
        "    for i in range(2, row_first, 2):\n",
        "      for j in range(1, col_first, 2):\n",
        "        if(i + 1 < row_first):\n",
        "          zone[i][j] =  (zone[i - 1][j] + zone[i + 1][j])/2\n",
        "\n",
        "    for i in range(2, row_first, 2):\n",
        "      if(i + 1 < row_first):\n",
        "        zone[i][0] = (zone[i - 1][0] + zone[i + 1][0])/2\n",
        "\n",
        "    for i in range(2, row_first, 2):\n",
        "      for j in range(2, col_first, 2):\n",
        "        zone[i][j] = 2 * zone[i][j - 1]  - zone[i][j - 2]\n",
        "\n",
        "\n",
        "\n",
        "def midling_red(color_area, mask_of_True):\n",
        "    import numpy as np\n",
        "    bil_interp = np.zeros([color_area.shape[0], color_area.shape[1], 3])\n",
        "    for i in range(3):\n",
        "      bil_interp[:,:,i] = np.asarray(color_area[:,:,i])\n",
        "    red_zone(bil_interp[:,:,0])\n",
        "    green_zone(bil_interp[:,:,1])\n",
        "    blue_zone(bil_interp[:,:,2])\n",
        "    return np.uint8(bil_interp)\n",
        "\n",
        "\n",
        "\n",
        "def bilinear_interpolation(colored_img):\n",
        "    import numpy as np\n",
        "    answ = np.zeros((colored_img.shape[0], colored_img.shape[1], 3), 'uint8')\n",
        "    r = slice(1, -1), slice(1, -1)\n",
        "    where_color_el = get_bayer_masks(colored_img.shape[0], colored_img.shape[1])\n",
        "    answ = midling_red(colored_img, where_color_el)\n",
        "    return answ\n",
        "\"\"\""
      ],
      "execution_count": null,
      "outputs": []
    },
    {
      "cell_type": "code",
      "metadata": {
        "id": "5l_pX-A4dm-v"
      },
      "source": [
        "def midling_red(color_area, mask_of_True):\n",
        "    import numpy as np\n",
        "    bil_interp = np.zeros((color_area.shape[0]-2,color_area.shape[1]-2), 'uint8')\n",
        "    for i in range(1, color_area.shape[0] - 1):\n",
        "        for j in range(1, color_area.shape[1] - 1):\n",
        "            num_of_el = 4\n",
        "            if((i + j) % 2 == 0):\n",
        "              num_of_el = 2\n",
        "            if(mask_of_True[i][j] == False):\n",
        "              mid = np.sum(color_area[i - 1:i + 2, j - 1:j + 2])\n",
        "              bil_interp[i -1, j -1 ] = mid // num_of_el\n",
        "            else:\n",
        "              bil_interp[i -1, j -1 ] = color_area[i][j]\n",
        "    return (bil_interp)\n",
        "\n",
        "\n",
        "def midling_green(color_area, mask_of_True):\n",
        "    import numpy as np\n",
        "    bil_interp = np.array((color_area.shape[0]-2,color_area.shape[1]-2))\n",
        "    for i in range(1, color_area.shape[0] - 1):\n",
        "        for j in range(1, color_area.shape[1] - 1):\n",
        "            num_of_el = 4\n",
        "            if(mask_of_True[i][j] == False):\n",
        "              mid = np.sum(color_area[i - 1:i + 2, j - 1:j + 2])\n",
        "              bil_interp[i -1, j -1 ] = mid // num_of_el\n",
        "            else:\n",
        "              bil_interp[i -1, j -1 ] = color_area[i][j]\n",
        "    return np.uint8(bil_interp)\n",
        "\n",
        "  def midling_blue(color_area, mask_of_True):\n",
        "    import numpy as np\n",
        "    bil_interp = np.array((color_area.shape[0]-2,color_area.shape[1]-2))\n",
        "    for i in range(1, color_area.shape[0] - 1):\n",
        "        for j in range(1, color_area.shape[1] - 1):\n",
        "            num_of_el = 4\n",
        "            if((i + j) % 2 == 0):\n",
        "              num_of_el = 2\n",
        "            if(mask_of_True[i][j] == False):\n",
        "              mid = np.sum(color_area[i - 1:i + 2, j - 1:j + 2])\n",
        "              bil_interp[i -1, j -1 ] = mid // num_of_el\n",
        "            else:\n",
        "              bil_interp[i -1, j -1 ] = color_area[i][j]\n",
        "    return np.uint8(bil_interp)\n",
        "\n",
        "\n",
        "\n",
        "def bilinear_interpolation(colored_img):\n",
        "    import numpy as np\n",
        "    answ = np.zeros((colored_img.shape[0], colored_img.shape[1], 3), 'uint8')\n",
        "    r = slice(1, -1), slice(1, -1)\n",
        "    where_color_el = get_bayer_masks(colored_img.shape[0], colored_img.shape[1])\n",
        "    answ[r + (0,)] = midling_red(colored_img[:,:,0], where_color_el[:,:,0])\n",
        "    answ[r + (1,)] = midling_red(colored_img[:,:,1], where_color_el[:,:,1])\n",
        "    answ[r + (2,)] = midling_red(colored_img[:,:,2], where_color_el[:,:,2])\n",
        "    return answ\n"
      ],
      "execution_count": null,
      "outputs": []
    },
    {
      "cell_type": "code",
      "metadata": {
        "id": "_N-QYcyaLc0u"
      },
      "source": [
        ""
      ],
      "execution_count": null,
      "outputs": []
    },
    {
      "cell_type": "code",
      "metadata": {
        "id": "WaoqScE4Lc9y"
      },
      "source": [
        "def midling_red(color_area, mask_of_True):\n",
        "    import numpy as np\n",
        "    bil_interp = np.zeros([color_area.shape[0], color_area.shape[1], 3])\n",
        "    for i in range(1, color_area.shape[0] - 1):\n",
        "        for j in range(1, color_area.shape[1] - 1):\n",
        "              mid = np.sum(color_area[i - 1:i + 2, j - 1:j + 2], axis = (0, 1))\n",
        "              num_of_el = np.count_nonzero(mask_of_True[i - 1:i + 2, j - 1:j + 2], axis = (0, 1))\n",
        "              \n",
        "              not_cur_val = mid // num_of_el #if cut_elem - is unknown\n",
        "\n",
        "              bil_interp[i, j, :] = np.uint8(not_cur_val)\n",
        "    bil_interp = bil_interp * (1 - (mask_of_True)) + mask_of_True * color_area\n",
        "    return np.uint8(bil_interp)\n",
        "\n",
        "\n",
        "\n",
        "def bilinear_interpolation(color_area):  \n",
        "    import numpy as np\n",
        "    mask_of_True = get_bayer_masks(color_area.shape[0], color_area.shape[1])\n",
        "    bil_interp = np.zeros([color_area.shape[0], color_area.shape[1], 3])\n",
        "    for i in range(1, color_area.shape[0] - 1):\n",
        "        for j in range(1, color_area.shape[1] - 1):\n",
        "              mid = np.sum(color_area[i - 1:i + 2, j - 1:j + 2], axis = (0, 1))\n",
        "              num_of_el = np.sum(mask_of_True[i - 1:i + 2, j - 1:j + 2], axis = (0, 1))\n",
        "              not_cur_val = mid // num_of_el #if cut_elem - is unknown\n",
        "              bil_interp[i, j, :] =not_cur_val\n",
        "    color_area += np.int8(bil_interp * (1 - (mask_of_True))) \n",
        "    \n",
        "    return color_area"
      ],
      "execution_count": null,
      "outputs": []
    },
    {
      "cell_type": "code",
      "metadata": {
        "id": "rf-UkHleLdF6"
      },
      "source": [
        ""
      ],
      "execution_count": null,
      "outputs": []
    },
    {
      "cell_type": "code",
      "metadata": {
        "id": "mHldDYE7mX3S"
      },
      "source": [
        "from skimage import img_as_ubyte\n",
        "\n",
        "raw_img = np.array([[202, 150, 137, 121, 195],\n",
        "                     [ 94, 113, 217,  68, 248],\n",
        "                     [208, 170, 109,  67,  22],\n",
        "                     [ 20,  93, 222,  54,  50],\n",
        "                     [254, 252,  10, 187, 203]], dtype='uint8')\n",
        "colored_img = get_colored_img(raw_img)\n",
        "gt_img = np.zeros((5, 5, 3), 'uint8')\n",
        "r = slice(1, -1), slice(1, -1)\n",
        "gt_img[r + (0,)] = np.array([[160, 127,  94],\n",
        "                          [170, 118,  67],\n",
        "                          [211, 169, 127]])\n",
        "gt_img[r + (1,)] = np.array([[113, 106,  68],\n",
        "                          [130, 109,  63],\n",
        "                          [ 93,  66,  54]])\n",
        "gt_img[r + (2,)] = np.array([[155, 217, 232],\n",
        "                          [138, 219, 184],\n",
        "                          [121, 222, 136]])\n",
        "\n",
        "img = img_as_ubyte(bilinear_interpolation(colored_img))"
      ],
      "execution_count": null,
      "outputs": []
    },
    {
      "cell_type": "code",
      "metadata": {
        "id": "NT0jC3R-3JIn"
      },
      "source": [
        ""
      ],
      "execution_count": null,
      "outputs": []
    },
    {
      "cell_type": "code",
      "metadata": {
        "id": "l072FMS5m9TR",
        "colab": {
          "base_uri": "https://localhost:8080/",
          "height": 214
        },
        "outputId": "fd956bc4-c00c-4698-b483-abe9cf2a7d86"
      },
      "source": [
        "print(img[r])"
      ],
      "execution_count": null,
      "outputs": [
        {
          "output_type": "stream",
          "text": [
            "[[[160 113 155]\n",
            "  [127 106 217]\n",
            "  [ 94  68 232]]\n",
            "\n",
            " [[170 130 138]\n",
            "  [118 109 219]\n",
            "  [ 67  63 184]]\n",
            "\n",
            " [[211  93 121]\n",
            "  [169  66 222]\n",
            "  [127  54 136]]]\n"
          ],
          "name": "stdout"
        }
      ]
    },
    {
      "cell_type": "code",
      "metadata": {
        "id": "_AdrJ2Qlnomr",
        "colab": {
          "base_uri": "https://localhost:8080/",
          "height": 214
        },
        "outputId": "0dadc202-1b62-4867-bd2f-c5174200916e"
      },
      "source": [
        "print(gt_img[r])"
      ],
      "execution_count": null,
      "outputs": [
        {
          "output_type": "stream",
          "text": [
            "[[[160 113 155]\n",
            "  [127 106 217]\n",
            "  [ 94  68 232]]\n",
            "\n",
            " [[170 130 138]\n",
            "  [118 109 219]\n",
            "  [ 67  63 184]]\n",
            "\n",
            " [[211  93 121]\n",
            "  [169  66 222]\n",
            "  [127  54 136]]]\n"
          ],
          "name": "stdout"
        }
      ]
    },
    {
      "cell_type": "code",
      "metadata": {
        "id": "OzxOVL76nsL1"
      },
      "source": [
        "a = np.asarray"
      ],
      "execution_count": null,
      "outputs": []
    },
    {
      "cell_type": "code",
      "metadata": {
        "id": "xFBjBxEjsx1s"
      },
      "source": [
        "G_cen_R_row = np.asarray([[0, 0, 0.5, 0, 0],\n",
        "                          [0, -1, 0, -1, 0],\n",
        "                          [-1, 4, 5, 4, -1],\n",
        "                          [0, -1, 0, -1, 0], \n",
        "                          [0, 0, 0.5, 0, 0]])\n",
        "  \n",
        "G_cen_R_col = np.asarray([[0, 0, -1, 0, 0],\n",
        "                          [0, -1, 0, -1, 0],\n",
        "                          [0.5, 4, 5, 4, 0.5],\n",
        "                          [0, -1, 0, -1, 0], \n",
        "                          [0, 0, -1, 0, 0]])\n",
        "  \n",
        "B_cen = np.asarray([[0, 0, -1.5, 0, 0],\n",
        "                    [0, 2, 0, 2, 0],\n",
        "                    [-1.5, 0, 6, 0, -1.5],\n",
        "                    [0, 2, 0, 2, 0], \n",
        "                    [0, 0, -1.5, 0, 0]])"
      ],
      "execution_count": null,
      "outputs": []
    },
    {
      "cell_type": "code",
      "metadata": {
        "id": "bhwI8BvywAD_",
        "colab": {
          "base_uri": "https://localhost:8080/",
          "height": 34
        },
        "outputId": "566b3ad6-b7db-48f5-c42d-ca95d1bddd6b"
      },
      "source": [
        "print(np.sum(G_cen_R_row), np.sum(G_cen_R_col), np.sum(B_cen))"
      ],
      "execution_count": null,
      "outputs": [
        {
          "output_type": "stream",
          "text": [
            "8.0 8.0 8.0\n"
          ],
          "name": "stdout"
        }
      ]
    },
    {
      "cell_type": "code",
      "metadata": {
        "id": "j2nSWGrUwAMh"
      },
      "source": [
        ""
      ],
      "execution_count": null,
      "outputs": []
    },
    {
      "cell_type": "code",
      "metadata": {
        "id": "DnsRGPMAsx6A"
      },
      "source": [
        "def improved_red_and_blue_zone(zone, only_red, only_green, only_blue, mask):\n",
        "  import numpy as np\n",
        "  impr_zone_red = np.zeros([zone.shape[0], zone.shape[1]])\n",
        "  impr_zone_blue = np.zeros([zone.shape[0], zone.shape[1]])\n",
        "  impr_zone_green = np.zeros([zone.shape[0], zone.shape[1]])\n",
        "  G1 = np.asarray([[0, 0, 0.5, 0, 0],\n",
        "                  [0, -1, 0, -1, 0],\n",
        "                  [-1, 4, 5, 4, -1],\n",
        "                  [0, -1, 0, -1, 0], \n",
        "                  [0, 0, 0.5, 0, 0]]) \n",
        "    \n",
        "  G2 = np.asarray([[0, 0, -1, 0, 0],\n",
        "                  [0, -1, 4, -1, 0],\n",
        "                  [0.5, 0, 5, 0, 0.5],\n",
        "                  [0, -1, 4, -1, 0], \n",
        "                  [0, 0, -1, 0, 0]]) \n",
        "    \n",
        "  CEN = np.asarray([[0, 0, -1.5, 0, 0],\n",
        "                    [0, 2, 0, 2, 0],\n",
        "                    [-1.5, 0, 6, 0, -1.5],\n",
        "                    [0, 2, 0, 2, 0], \n",
        "                    [0, 0, -1.5, 0, 0]]) \n",
        "\n",
        "  matr = np.array([[0, 0, -1, 0, 0],\n",
        "                    [0, 0, 2, 0, 0],\n",
        "                    [-1, 2, 4, 2, -1],\n",
        "                    [0, 0, 2, 0, 0],\n",
        "                    [0, 0, -1, 0, 0]])\n",
        "\n",
        "\n",
        "  for i in range(2, zone.shape[0] - 2):\n",
        "    for j in range(2, zone.shape[1] - 2):\n",
        "      cur_matr = zone[i - 2: i + 3, j - 2: j + 3]\n",
        "      if(mask[i, j, 1]):\n",
        "        if(mask[i, j + 1, 0]):\n",
        "          impr_zone_red[i][j] = np.sum(cur_matr * G1) \n",
        "          impr_zone_blue[i][j] = np.sum(cur_matr * G2)\n",
        "        if(mask[i + 1, j , 0]):\n",
        "          impr_zone_red[i][j] = np.sum(cur_matr * G2) \n",
        "          impr_zone_blue[i][j] = np.sum(cur_matr * G1) \n",
        "      else:\n",
        "        impr_zone_green[i][j] = np.sum(cur_matr * matr)\n",
        "        if(mask[i,j,2]):\n",
        "          impr_zone_red[i][j] = np.sum(cur_matr * CEN) \n",
        "        elif(mask[i, j, 0]):\n",
        "          impr_zone_blue[i][j] = np.sum(cur_matr * CEN) \n",
        "\n",
        "  only_red += np.uint8(np.clip(( (impr_zone_red // 8) ), 0, 255))\n",
        "  only_blue += np.uint8(np.clip(( (impr_zone_blue // 8) ), 0, 255))\n",
        "  only_green += np.uint8(np.clip(( (impr_zone_green // 8) ), 0, 255))\n",
        "\n",
        "\n",
        "\n",
        "\n",
        "def improved_interpolation(raw_img):\n",
        "  import numpy as np\n",
        "  colored_img = get_colored_img(raw_img)\n",
        "  mask = get_bayer_masks(raw_img.shape[0], raw_img.shape[1]) \n",
        "  improved_red_and_blue_zone(raw_img, colored_img[:,:,0], colored_img[:,:,1], colored_img[:,:,2],  mask)\n",
        "  return colored_img"
      ],
      "execution_count": null,
      "outputs": []
    },
    {
      "cell_type": "code",
      "metadata": {
        "id": "PdE6RWisC0WU"
      },
      "source": [
        ""
      ],
      "execution_count": null,
      "outputs": []
    },
    {
      "cell_type": "code",
      "metadata": {
        "id": "J8ENpwwlsxzO"
      },
      "source": [
        "raw_img = np.array([[8, 5, 3, 7, 1, 3],\n",
        "                    [5, 2, 6, 8, 8, 1],\n",
        "                    [9, 9, 8, 1, 6, 4],\n",
        "                    [9, 4, 2, 3, 6, 8],\n",
        "                    [5, 4, 3, 2, 8, 7],\n",
        "                    [7, 3, 3, 6, 9, 3]], dtype='uint8')\n",
        "\n",
        "gt_img = np.zeros((6, 6, 3), 'uint8')\n",
        "r = slice(2, -2), slice(2, -2)\n",
        "gt_img[r + (0,)] = np.array([[6, 1],\n",
        "                          [1, 0]])\n",
        "gt_img[r + (1,)] = np.array([[8, 4],\n",
        "                          [2, 3]])\n",
        "gt_img[r + (2,)] = np.array([[7, 2],\n",
        "                          [2, 2]])\n",
        "img = img_as_ubyte(improved_interpolation(raw_img))"
      ],
      "execution_count": null,
      "outputs": []
    },
    {
      "cell_type": "code",
      "metadata": {
        "id": "tCdrGaF5sxwi",
        "colab": {
          "base_uri": "https://localhost:8080/",
          "height": 106
        },
        "outputId": "b7bb735a-5d66-4146-d91d-43b94b0f5d15"
      },
      "source": [
        "print(gt_img[r])"
      ],
      "execution_count": null,
      "outputs": [
        {
          "output_type": "stream",
          "text": [
            "[[[6 8 7]\n",
            "  [1 4 2]]\n",
            "\n",
            " [[1 2 2]\n",
            "  [0 3 2]]]\n"
          ],
          "name": "stdout"
        }
      ]
    },
    {
      "cell_type": "code",
      "metadata": {
        "id": "pZJJg0j66vc6",
        "colab": {
          "base_uri": "https://localhost:8080/",
          "height": 106
        },
        "outputId": "6c82e45e-a3ba-44d9-9aac-3ba316cb9c8b"
      },
      "source": [
        "print(img[r])"
      ],
      "execution_count": null,
      "outputs": [
        {
          "output_type": "stream",
          "text": [
            "[[[6 8 7]\n",
            "  [1 4 2]]\n",
            "\n",
            " [[1 2 2]\n",
            "  [0 3 2]]]\n"
          ],
          "name": "stdout"
        }
      ]
    },
    {
      "cell_type": "code",
      "metadata": {
        "id": "Md6Z6p406_m5"
      },
      "source": [
        "def compute_psnr(img_pred, img_gt):\n",
        "  import numpy as np\n",
        "  predicted = np.float64(img_pred)\n",
        "  perfect = np.float64(img_gt)\n",
        "  diff = (predicted - perfect) * (predicted - perfect)\n",
        "  mse = np.sum(diff) /(img_pred.shape[0] * img_pred.shape[1] * img_pred.shape[2])\n",
        "  if(mse == 0):\n",
        "    raise ValueError\n",
        "  psnr = 10 * np.log10(np.amax(perfect) ** 2 / mse)\n",
        "  return psnr"
      ],
      "execution_count": null,
      "outputs": []
    },
    {
      "cell_type": "code",
      "metadata": {
        "id": "L2qePjnfew1T",
        "colab": {
          "base_uri": "https://localhost:8080/",
          "height": 70
        },
        "outputId": "3725f75d-9eb8-4365-9368-17cf1d4635bf"
      },
      "source": [
        "from numpy import array\n",
        "from pytest import approx, raises\n",
        "\n",
        "img_pred = array([[[146, 222, 187],\n",
        "                    [254, 123,  38],\n",
        "                    [ 57, 255, 135]],\n",
        "                  [[230, 176, 213],\n",
        "                    [114,  38, 184],\n",
        "                    [ 47, 212,  52]],\n",
        "                  [[100, 111, 170],\n",
        "                    [ 52, 230, 182],\n",
        "                    [213,  50, 197]]], dtype='uint8')\n",
        "img_gt = array([[[254,  60,   6],\n",
        "                  [216,  53,  14],\n",
        "                  [106, 185, 239]],\n",
        "                [[121,  34,  29],\n",
        "                  [ 49, 139, 149],\n",
        "                  [  6, 159, 221]],\n",
        "                [[240,  53, 124],\n",
        "                  [  3, 194, 227],\n",
        "                  [ 84,  12, 218]]], dtype='uint8')\n",
        "print(img_gt.shape)\n",
        "\n",
        "print(compute_psnr(img_pred, img_gt))"
      ],
      "execution_count": null,
      "outputs": [
        {
          "output_type": "stream",
          "text": [
            "(3, 3, 3)\n",
            "float64\n",
            "8.266646150069967\n"
          ],
          "name": "stdout"
        }
      ]
    },
    {
      "cell_type": "code",
      "metadata": {
        "id": "5rzpdRNIfHT-",
        "colab": {
          "base_uri": "https://localhost:8080/",
          "height": 52
        },
        "outputId": "a66cb3bc-4a1d-439c-bfc3-01d973e3ae55"
      },
      "source": [
        "img_pred = array([[[ 87,  78, 248],\n",
        "                    [ 92, 239, 239],\n",
        "                    [119, 239,  48]],\n",
        "                  [[210, 168, 125],\n",
        "                    [244, 125, 121],\n",
        "                    [ 12, 196, 166]],\n",
        "                  [[ 62,   8,  80],\n",
        "                    [206, 133, 244],\n",
        "                    [ 36, 181,  19]]], dtype='uint8')\n",
        "img_gt = array([[[103,  87,  58],\n",
        "                  [ 14, 236,  41],\n",
        "                  [222,  19,  65]],\n",
        "                [[ 13, 167, 106],\n",
        "                  [ 40,  27,  95],\n",
        "                  [147, 223,  38]],\n",
        "                [[234, 129, 110],\n",
        "                  [ 35, 225,   0],\n",
        "                  [ 78, 232,  16]]], dtype='uint8')\n",
        "print(compute_psnr(img_pred, img_gt))"
      ],
      "execution_count": null,
      "outputs": [
        {
          "output_type": "stream",
          "text": [
            "float64\n",
            "5.600017920324136\n"
          ],
          "name": "stdout"
        }
      ]
    },
    {
      "cell_type": "code",
      "metadata": {
        "id": "ktKb5O2Dga4m"
      },
      "source": [
        ""
      ],
      "execution_count": null,
      "outputs": []
    }
  ]
}
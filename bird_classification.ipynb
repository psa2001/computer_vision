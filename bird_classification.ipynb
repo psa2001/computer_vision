{
  "nbformat": 4,
  "nbformat_minor": 0,
  "metadata": {
    "colab": {
      "name": "bird_classification.ipynb",
      "provenance": [],
      "authorship_tag": "ABX9TyMr6YnCXxmoaUdZiF8MDTyl",
      "include_colab_link": true
    },
    "kernelspec": {
      "name": "python3",
      "display_name": "Python 3"
    },
    "accelerator": "GPU"
  },
  "cells": [
    {
      "cell_type": "markdown",
      "metadata": {
        "id": "view-in-github",
        "colab_type": "text"
      },
      "source": [
        "<a href=\"https://colab.research.google.com/github/psa2001/computer_vision/blob/main/bird_classification.ipynb\" target=\"_parent\"><img src=\"https://colab.research.google.com/assets/colab-badge.svg\" alt=\"Open In Colab\"/></a>"
      ]
    },
    {
      "cell_type": "code",
      "metadata": {
        "id": "I9ERq1PZM0Q-",
        "colab": {
          "base_uri": "https://localhost:8080/"
        },
        "outputId": "6ce207a7-1e2a-4daf-dc5a-66db70a7bf29"
      },
      "source": [
        "from google.colab import drive\n",
        "drive.mount('/content/drive')"
      ],
      "execution_count": null,
      "outputs": [
        {
          "output_type": "stream",
          "text": [
            "Drive already mounted at /content/drive; to attempt to forcibly remount, call drive.mount(\"/content/drive\", force_remount=True).\n"
          ],
          "name": "stdout"
        }
      ]
    },
    {
      "cell_type": "code",
      "metadata": {
        "id": "ZOlFb-05NYRD",
        "colab": {
          "base_uri": "https://localhost:8080/"
        },
        "outputId": "a9f21c4c-27dc-49a7-bd04-ac12ed635bbc"
      },
      "source": [
        "cd"
      ],
      "execution_count": null,
      "outputs": [
        {
          "output_type": "stream",
          "text": [
            "/root\n"
          ],
          "name": "stdout"
        }
      ]
    },
    {
      "cell_type": "code",
      "metadata": {
        "id": "YO8Fvr1xNZnZ",
        "colab": {
          "base_uri": "https://localhost:8080/"
        },
        "outputId": "6df27048-7dcb-464a-b82f-ec96f21dca41"
      },
      "source": [
        "cd .."
      ],
      "execution_count": null,
      "outputs": [
        {
          "output_type": "stream",
          "text": [
            "/\n"
          ],
          "name": "stdout"
        }
      ]
    },
    {
      "cell_type": "code",
      "metadata": {
        "id": "jqKFnc2bM_Sn"
      },
      "source": [
        "import os\n",
        "from pathlib import Path\n",
        "dataset_dir = Path('content/drive/My Drive/bird_classifiaction')\n",
        "os.chdir(dataset_dir)   "
      ],
      "execution_count": null,
      "outputs": []
    },
    {
      "cell_type": "code",
      "metadata": {
        "id": "w6CEknibNW2e",
        "colab": {
          "base_uri": "https://localhost:8080/",
          "height": 34
        },
        "outputId": "10f2f8a0-e83c-4d8d-c376-293e7d1f9834"
      },
      "source": [
        "\"\"\"\n",
        "import zipfile\n",
        "with zipfile.ZipFile('public_tests.zip', 'r') as zip_ref:\n",
        "    zip_ref.extractall()\n",
        "\"\"\""
      ],
      "execution_count": null,
      "outputs": [
        {
          "output_type": "execute_result",
          "data": {
            "application/vnd.google.colaboratory.intrinsic+json": {
              "type": "string"
            },
            "text/plain": [
              "\"\\nimport zipfile\\nwith zipfile.ZipFile('public_tests.zip', 'r') as zip_ref:\\n    zip_ref.extractall()\\n\""
            ]
          },
          "metadata": {
            "tags": []
          },
          "execution_count": 5
        }
      ]
    },
    {
      "cell_type": "code",
      "metadata": {
        "id": "g2Klf5MmNjD_"
      },
      "source": [
        "def read_csv(filename):\n",
        "    res = {}\n",
        "    with open(filename) as fhandle:\n",
        "        next(fhandle)\n",
        "        for line in fhandle:\n",
        "            parts = line.rstrip('\\n').split(',')\n",
        "            coords = np.array([float(x) for x in parts[1:]], dtype='float64')\n",
        "            res[parts[0]] = coords\n",
        "    return res\n"
      ],
      "execution_count": null,
      "outputs": []
    },
    {
      "cell_type": "code",
      "metadata": {
        "id": "dgf9Th6iWUFc",
        "colab": {
          "base_uri": "https://localhost:8080/"
        },
        "outputId": "d2e652b1-aaa9-4f7d-9a2d-b01ece5e9029"
      },
      "source": [
        "cd"
      ],
      "execution_count": null,
      "outputs": [
        {
          "output_type": "stream",
          "text": [
            "/root\n"
          ],
          "name": "stdout"
        }
      ]
    },
    {
      "cell_type": "code",
      "metadata": {
        "id": "dGFNBa7dC6vN",
        "colab": {
          "base_uri": "https://localhost:8080/"
        },
        "outputId": "bd1c3b20-f4b5-4f4c-efc2-d99512f323c0"
      },
      "source": [
        "cd .."
      ],
      "execution_count": null,
      "outputs": [
        {
          "output_type": "stream",
          "text": [
            "/\n"
          ],
          "name": "stdout"
        }
      ]
    },
    {
      "cell_type": "code",
      "metadata": {
        "id": "qWHsTlqFD1nF"
      },
      "source": [
        "dataset_dir = Path('content/drive/My Drive/bird_classifiaction/public_tests/00_test_img_input/train/')\n",
        "os.chdir(dataset_dir)  \n"
      ],
      "execution_count": null,
      "outputs": []
    },
    {
      "cell_type": "code",
      "metadata": {
        "id": "himzN3FNjkyo",
        "colab": {
          "base_uri": "https://localhost:8080/"
        },
        "outputId": "ef1213f1-3a6d-4b72-9157-f35cd2c2ddc0"
      },
      "source": [
        "import numpy as np\n",
        "from PIL import Image\n",
        "\n",
        "from tqdm import tqdm\n",
        "import matplotlib.pyplot as plt\n",
        "\n",
        "\n",
        "\n",
        "set_all_images = []\n",
        "answ = []\n",
        "\n",
        "answ_files = read_csv('gt.csv')\n",
        "os.chdir('images/')\n",
        "\n",
        "for f in tqdm (sorted(os.listdir())):\n",
        "    \n",
        "  jpg = Image.open(f)\n",
        "\n",
        "  gt = answ_files[f]\n",
        "\n",
        "\n",
        "  answ.append(gt) \n",
        "  \n",
        "  fixed_size_jpg = jpg.resize((197, 197))\n",
        "  \n",
        "  np_image = np.array(fixed_size_jpg)\n",
        "\n",
        "  if(np.size(np_image.shape) == 2):\n",
        "\n",
        "    k = np.dstack((np_image, np_image, np_image))\n",
        "\n",
        "    set_all_images.append(k)\n",
        "\n",
        "  else:\n",
        "    \n",
        "    set_all_images.append(np_image)"
      ],
      "execution_count": null,
      "outputs": [
        {
          "output_type": "stream",
          "text": [
            "100%|██████████| 2500/2500 [00:19<00:00, 127.83it/s]\n"
          ],
          "name": "stderr"
        }
      ]
    },
    {
      "cell_type": "code",
      "metadata": {
        "id": "kiqEYheAxS0I"
      },
      "source": [
        "set_all_images = np.array(set_all_images, dtype = np.float64)\n",
        "set_all_images /= 255.0"
      ],
      "execution_count": null,
      "outputs": []
    },
    {
      "cell_type": "code",
      "metadata": {
        "id": "g9L4uIXXxNor",
        "colab": {
          "base_uri": "https://localhost:8080/"
        },
        "outputId": "25fad3a3-deb2-476c-9c19-0d6c1d568c56"
      },
      "source": [
        "set_all_images.shape"
      ],
      "execution_count": null,
      "outputs": [
        {
          "output_type": "execute_result",
          "data": {
            "text/plain": [
              "(2500, 197, 197, 3)"
            ]
          },
          "metadata": {
            "tags": []
          },
          "execution_count": 12
        }
      ]
    },
    {
      "cell_type": "code",
      "metadata": {
        "id": "IyfBe6WvxqZz"
      },
      "source": [
        "answ = np.array(answ, dtype = np.float64)"
      ],
      "execution_count": null,
      "outputs": []
    },
    {
      "cell_type": "code",
      "metadata": {
        "id": "AkVRGkzAxiqg",
        "colab": {
          "base_uri": "https://localhost:8080/"
        },
        "outputId": "1520130a-1064-4421-b3c6-a6145c26bd40"
      },
      "source": [
        "import tensorflow as tf\n",
        "\n",
        "answ_cat = np.array(tf.keras.utils.to_categorical(answ, num_classes=50))\n",
        "answ_cat.shape"
      ],
      "execution_count": null,
      "outputs": [
        {
          "output_type": "execute_result",
          "data": {
            "text/plain": [
              "(2500, 50)"
            ]
          },
          "metadata": {
            "tags": []
          },
          "execution_count": 14
        }
      ]
    },
    {
      "cell_type": "code",
      "metadata": {
        "id": "dWksIS-5El_B",
        "colab": {
          "base_uri": "https://localhost:8080/"
        },
        "outputId": "a961714e-83c0-4064-fafd-215e3e57eeb4"
      },
      "source": [
        "set_all_images.shape"
      ],
      "execution_count": null,
      "outputs": [
        {
          "output_type": "execute_result",
          "data": {
            "text/plain": [
              "(2500, 197, 197, 3)"
            ]
          },
          "metadata": {
            "tags": []
          },
          "execution_count": 15
        }
      ]
    },
    {
      "cell_type": "markdown",
      "metadata": {
        "id": "gwKKrvPLylTT"
      },
      "source": [
        "#Моделька"
      ]
    },
    {
      "cell_type": "code",
      "metadata": {
        "id": "ZBwaFhJ1yn1M"
      },
      "source": [
        "import tensorflow as tf\n",
        "\n",
        "base_model = tf.keras.applications.Xception(\n",
        "    weights='imagenet',  # Load weights pre-trained on ImageNet.\n",
        "    input_shape=(250, 250, 3),\n",
        "    include_top=False)\n",
        "\n",
        "base_model.trainable = False\n",
        "\n",
        "inputs = tf.keras.Input(shape=(250, 250, 3))\n",
        "\n",
        "x = base_model(inputs, training=False)\n",
        "\n",
        "x = tf.keras.layers.Flatten()(x)\n",
        "\n",
        "x = tf.keras.layers.Dense(512, activation='relu')(x)\n",
        "\n",
        "x = tf.keras.layers.BatchNormalization()(x)\n",
        "\n",
        "outputs =  tf.keras.layers.Dense(50, activation = 'softmax')(x)\n",
        "\n",
        "model = tf.keras.Model(inputs, outputs)\n"
      ],
      "execution_count": null,
      "outputs": []
    },
    {
      "cell_type": "code",
      "metadata": {
        "id": "1Cl9QGhUKhdt"
      },
      "source": [
        "#base_model.summary()"
      ],
      "execution_count": null,
      "outputs": []
    },
    {
      "cell_type": "code",
      "metadata": {
        "id": "H5gdgUL2Xa1l",
        "colab": {
          "base_uri": "https://localhost:8080/",
          "height": 34
        },
        "outputId": "58d6ab54-9e3e-4680-fdc4-573097817b41"
      },
      "source": [
        "\"\"\"\n",
        "for layer in base_model.layers[-5:]:\n",
        "   layer.trainable = True\n",
        "\"\"\""
      ],
      "execution_count": null,
      "outputs": [
        {
          "output_type": "execute_result",
          "data": {
            "application/vnd.google.colaboratory.intrinsic+json": {
              "type": "string"
            },
            "text/plain": [
              "'\\nfor layer in base_model.layers[-5:]:\\n   layer.trainable = True\\n'"
            ]
          },
          "metadata": {
            "tags": []
          },
          "execution_count": 18
        }
      ]
    },
    {
      "cell_type": "code",
      "metadata": {
        "id": "NNPaIEXh468T"
      },
      "source": [
        "#model.summary()"
      ],
      "execution_count": null,
      "outputs": []
    },
    {
      "cell_type": "code",
      "metadata": {
        "id": "sJOmUmO24-ij"
      },
      "source": [
        "from tensorflow.keras.optimizers import SGD, Adam\n",
        "\n",
        "\n",
        "model.compile(\n",
        "    loss = 'categorical_crossentropy',\n",
        "    optimizer='rmsprop',\n",
        "    metrics = ['mse', 'accuracy']\n",
        ")\n",
        "\n",
        "\n",
        "chkpt = tf.keras.callbacks.ModelCheckpoint(\"bird_classification.hdf5\", \n",
        "                        monitor='val_loss', \n",
        "                        verbose=1, \n",
        "                        save_best_only=True, \n",
        "                        mode='auto')"
      ],
      "execution_count": null,
      "outputs": []
    },
    {
      "cell_type": "code",
      "metadata": {
        "id": "kkjBcAcea0QI"
      },
      "source": [
        ""
      ],
      "execution_count": null,
      "outputs": []
    },
    {
      "cell_type": "code",
      "metadata": {
        "id": "k5rFst5KSNE6"
      },
      "source": [
        "import tensorflow as tf\n",
        "\n",
        "datagen = tf.keras.preprocessing.image.ImageDataGenerator(\n",
        "    rotation_range=30,\n",
        "    width_shift_range=0.3,\n",
        "    height_shift_range=0.2,\n",
        "    shear_range=0.3,\n",
        "    zoom_range=0.3,\n",
        "    horizontal_flip=True,\n",
        "    vertical_flip=True,)"
      ],
      "execution_count": null,
      "outputs": []
    },
    {
      "cell_type": "code",
      "metadata": {
        "id": "x_EMnGQH8kX6"
      },
      "source": [
        "def shuffle(x, y):\n",
        "    p = np.random.permutation(len(x)).astype(int)\n",
        "    x = x[p,]\n",
        "    y = y[p,]\n",
        "    return x, y"
      ],
      "execution_count": null,
      "outputs": []
    },
    {
      "cell_type": "code",
      "metadata": {
        "id": "JAyF8Cs28hi-"
      },
      "source": [
        "images, gts = shuffle(set_all_images, answ_cat)"
      ],
      "execution_count": null,
      "outputs": []
    },
    {
      "cell_type": "code",
      "metadata": {
        "id": "URnSGP9hNYWP"
      },
      "source": [
        "x_vld = set_all_images[::10]\n",
        "y_vld = answ_cat[::10]\n",
        "x_trn = np.array([])\n",
        "y_trn = np.array([])\n",
        "for i in range(1,10):\n",
        "  if (i == 1):\n",
        "    x_trn = np.copy(set_all_images[i::10])\n",
        "    y_trn = np.copy(answ_cat[i::10])\n",
        "  else:\n",
        "    x_trn = np.concatenate((x_trn, set_all_images[i::10]), axis = 0)\n",
        "    y_trn = np.concatenate((y_trn, answ_cat[i::10]), axis = 0)"
      ],
      "execution_count": null,
      "outputs": []
    },
    {
      "cell_type": "code",
      "metadata": {
        "id": "TXMZc0JS9YfZ",
        "colab": {
          "base_uri": "https://localhost:8080/"
        },
        "outputId": "860f3214-159c-46e2-f00d-d2b38b7b3ee6"
      },
      "source": [
        "x_trn.shape, y_trn.shape, x_vld.shape, y_vld.shape"
      ],
      "execution_count": null,
      "outputs": [
        {
          "output_type": "execute_result",
          "data": {
            "text/plain": [
              "((2250, 197, 197, 3), (2250, 50), (250, 197, 197, 3), (250, 50))"
            ]
          },
          "metadata": {
            "tags": []
          },
          "execution_count": 25
        }
      ]
    },
    {
      "cell_type": "code",
      "metadata": {
        "id": "Qe9yH67N8sHy",
        "colab": {
          "base_uri": "https://localhost:8080/",
          "height": 692
        },
        "outputId": "0fb2eebf-eca3-4c50-930e-405ee7285b1c"
      },
      "source": [
        " model.fit(datagen.flow(x_trn,\n",
        "          y_trn,\n",
        "          batch_size=120),\n",
        "          epochs=100,\n",
        "          verbose=1,\n",
        "          validation_data = (x_vld, y_vld),\n",
        "          shuffle=True)"
      ],
      "execution_count": null,
      "outputs": [
        {
          "output_type": "stream",
          "text": [
            "Epoch 1/100\n",
            "19/19 [==============================] - 23s 1s/step - loss: 2.8671 - mse: 0.0175 - accuracy: 0.2778 - val_loss: 3.8451 - val_mse: 0.0196 - val_accuracy: 0.4040\n",
            "Epoch 2/100\n",
            "19/19 [==============================] - 20s 1s/step - loss: 1.8988 - mse: 0.0141 - accuracy: 0.4502 - val_loss: 2.9428 - val_mse: 0.0175 - val_accuracy: 0.4520\n",
            "Epoch 3/100\n",
            "19/19 [==============================] - 20s 1s/step - loss: 1.7164 - mse: 0.0132 - accuracy: 0.4898 - val_loss: 2.6870 - val_mse: 0.0161 - val_accuracy: 0.4840\n",
            "Epoch 4/100\n",
            "19/19 [==============================] - 21s 1s/step - loss: 1.6046 - mse: 0.0127 - accuracy: 0.5191 - val_loss: 2.6457 - val_mse: 0.0167 - val_accuracy: 0.4760\n",
            "Epoch 5/100\n",
            "19/19 [==============================] - 21s 1s/step - loss: 1.4528 - mse: 0.0118 - accuracy: 0.5524 - val_loss: 2.2134 - val_mse: 0.0166 - val_accuracy: 0.4680\n",
            "Epoch 6/100\n",
            "19/19 [==============================] - 21s 1s/step - loss: 1.3782 - mse: 0.0111 - accuracy: 0.5871 - val_loss: 2.0838 - val_mse: 0.0155 - val_accuracy: 0.4640\n",
            "Epoch 7/100\n",
            "19/19 [==============================] - 21s 1s/step - loss: 1.2675 - mse: 0.0105 - accuracy: 0.6036 - val_loss: 1.9820 - val_mse: 0.0144 - val_accuracy: 0.5080\n",
            "Epoch 8/100\n",
            "19/19 [==============================] - 21s 1s/step - loss: 1.2002 - mse: 0.0101 - accuracy: 0.6276 - val_loss: 1.7037 - val_mse: 0.0131 - val_accuracy: 0.5400\n",
            "Epoch 9/100\n",
            "19/19 [==============================] - 21s 1s/step - loss: 1.1367 - mse: 0.0097 - accuracy: 0.6498 - val_loss: 1.7566 - val_mse: 0.0127 - val_accuracy: 0.5720\n",
            "Epoch 10/100\n",
            " 9/19 [=============>................] - ETA: 9s - loss: 1.1391 - mse: 0.0097 - accuracy: 0.6524 "
          ],
          "name": "stdout"
        },
        {
          "output_type": "error",
          "ename": "KeyboardInterrupt",
          "evalue": "ignored",
          "traceback": [
            "\u001b[0;31m---------------------------------------------------------------------------\u001b[0m",
            "\u001b[0;31mKeyboardInterrupt\u001b[0m                         Traceback (most recent call last)",
            "\u001b[0;32m<ipython-input-26-5efbef797d7e>\u001b[0m in \u001b[0;36m<module>\u001b[0;34m()\u001b[0m\n\u001b[1;32m      5\u001b[0m          \u001b[0mverbose\u001b[0m\u001b[0;34m=\u001b[0m\u001b[0;36m1\u001b[0m\u001b[0;34m,\u001b[0m\u001b[0;34m\u001b[0m\u001b[0;34m\u001b[0m\u001b[0m\n\u001b[1;32m      6\u001b[0m          \u001b[0mvalidation_data\u001b[0m \u001b[0;34m=\u001b[0m \u001b[0;34m(\u001b[0m\u001b[0mx_vld\u001b[0m\u001b[0;34m,\u001b[0m \u001b[0my_vld\u001b[0m\u001b[0;34m)\u001b[0m\u001b[0;34m,\u001b[0m\u001b[0;34m\u001b[0m\u001b[0;34m\u001b[0m\u001b[0m\n\u001b[0;32m----> 7\u001b[0;31m          shuffle=True)\n\u001b[0m",
            "\u001b[0;32m/usr/local/lib/python3.6/dist-packages/tensorflow/python/keras/engine/training.py\u001b[0m in \u001b[0;36m_method_wrapper\u001b[0;34m(self, *args, **kwargs)\u001b[0m\n\u001b[1;32m    106\u001b[0m   \u001b[0;32mdef\u001b[0m \u001b[0m_method_wrapper\u001b[0m\u001b[0;34m(\u001b[0m\u001b[0mself\u001b[0m\u001b[0;34m,\u001b[0m \u001b[0;34m*\u001b[0m\u001b[0margs\u001b[0m\u001b[0;34m,\u001b[0m \u001b[0;34m**\u001b[0m\u001b[0mkwargs\u001b[0m\u001b[0;34m)\u001b[0m\u001b[0;34m:\u001b[0m\u001b[0;34m\u001b[0m\u001b[0;34m\u001b[0m\u001b[0m\n\u001b[1;32m    107\u001b[0m     \u001b[0;32mif\u001b[0m \u001b[0;32mnot\u001b[0m \u001b[0mself\u001b[0m\u001b[0;34m.\u001b[0m\u001b[0m_in_multi_worker_mode\u001b[0m\u001b[0;34m(\u001b[0m\u001b[0;34m)\u001b[0m\u001b[0;34m:\u001b[0m  \u001b[0;31m# pylint: disable=protected-access\u001b[0m\u001b[0;34m\u001b[0m\u001b[0;34m\u001b[0m\u001b[0m\n\u001b[0;32m--> 108\u001b[0;31m       \u001b[0;32mreturn\u001b[0m \u001b[0mmethod\u001b[0m\u001b[0;34m(\u001b[0m\u001b[0mself\u001b[0m\u001b[0;34m,\u001b[0m \u001b[0;34m*\u001b[0m\u001b[0margs\u001b[0m\u001b[0;34m,\u001b[0m \u001b[0;34m**\u001b[0m\u001b[0mkwargs\u001b[0m\u001b[0;34m)\u001b[0m\u001b[0;34m\u001b[0m\u001b[0;34m\u001b[0m\u001b[0m\n\u001b[0m\u001b[1;32m    109\u001b[0m \u001b[0;34m\u001b[0m\u001b[0m\n\u001b[1;32m    110\u001b[0m     \u001b[0;31m# Running inside `run_distribute_coordinator` already.\u001b[0m\u001b[0;34m\u001b[0m\u001b[0;34m\u001b[0m\u001b[0;34m\u001b[0m\u001b[0m\n",
            "\u001b[0;32m/usr/local/lib/python3.6/dist-packages/tensorflow/python/keras/engine/training.py\u001b[0m in \u001b[0;36mfit\u001b[0;34m(self, x, y, batch_size, epochs, verbose, callbacks, validation_split, validation_data, shuffle, class_weight, sample_weight, initial_epoch, steps_per_epoch, validation_steps, validation_batch_size, validation_freq, max_queue_size, workers, use_multiprocessing)\u001b[0m\n\u001b[1;32m   1096\u001b[0m                 batch_size=batch_size):\n\u001b[1;32m   1097\u001b[0m               \u001b[0mcallbacks\u001b[0m\u001b[0;34m.\u001b[0m\u001b[0mon_train_batch_begin\u001b[0m\u001b[0;34m(\u001b[0m\u001b[0mstep\u001b[0m\u001b[0;34m)\u001b[0m\u001b[0;34m\u001b[0m\u001b[0;34m\u001b[0m\u001b[0m\n\u001b[0;32m-> 1098\u001b[0;31m               \u001b[0mtmp_logs\u001b[0m \u001b[0;34m=\u001b[0m \u001b[0mtrain_function\u001b[0m\u001b[0;34m(\u001b[0m\u001b[0miterator\u001b[0m\u001b[0;34m)\u001b[0m\u001b[0;34m\u001b[0m\u001b[0;34m\u001b[0m\u001b[0m\n\u001b[0m\u001b[1;32m   1099\u001b[0m               \u001b[0;32mif\u001b[0m \u001b[0mdata_handler\u001b[0m\u001b[0;34m.\u001b[0m\u001b[0mshould_sync\u001b[0m\u001b[0;34m:\u001b[0m\u001b[0;34m\u001b[0m\u001b[0;34m\u001b[0m\u001b[0m\n\u001b[1;32m   1100\u001b[0m                 \u001b[0mcontext\u001b[0m\u001b[0;34m.\u001b[0m\u001b[0masync_wait\u001b[0m\u001b[0;34m(\u001b[0m\u001b[0;34m)\u001b[0m\u001b[0;34m\u001b[0m\u001b[0;34m\u001b[0m\u001b[0m\n",
            "\u001b[0;32m/usr/local/lib/python3.6/dist-packages/tensorflow/python/eager/def_function.py\u001b[0m in \u001b[0;36m__call__\u001b[0;34m(self, *args, **kwds)\u001b[0m\n\u001b[1;32m    778\u001b[0m       \u001b[0;32melse\u001b[0m\u001b[0;34m:\u001b[0m\u001b[0;34m\u001b[0m\u001b[0;34m\u001b[0m\u001b[0m\n\u001b[1;32m    779\u001b[0m         \u001b[0mcompiler\u001b[0m \u001b[0;34m=\u001b[0m \u001b[0;34m\"nonXla\"\u001b[0m\u001b[0;34m\u001b[0m\u001b[0;34m\u001b[0m\u001b[0m\n\u001b[0;32m--> 780\u001b[0;31m         \u001b[0mresult\u001b[0m \u001b[0;34m=\u001b[0m \u001b[0mself\u001b[0m\u001b[0;34m.\u001b[0m\u001b[0m_call\u001b[0m\u001b[0;34m(\u001b[0m\u001b[0;34m*\u001b[0m\u001b[0margs\u001b[0m\u001b[0;34m,\u001b[0m \u001b[0;34m**\u001b[0m\u001b[0mkwds\u001b[0m\u001b[0;34m)\u001b[0m\u001b[0;34m\u001b[0m\u001b[0;34m\u001b[0m\u001b[0m\n\u001b[0m\u001b[1;32m    781\u001b[0m \u001b[0;34m\u001b[0m\u001b[0m\n\u001b[1;32m    782\u001b[0m       \u001b[0mnew_tracing_count\u001b[0m \u001b[0;34m=\u001b[0m \u001b[0mself\u001b[0m\u001b[0;34m.\u001b[0m\u001b[0m_get_tracing_count\u001b[0m\u001b[0;34m(\u001b[0m\u001b[0;34m)\u001b[0m\u001b[0;34m\u001b[0m\u001b[0;34m\u001b[0m\u001b[0m\n",
            "\u001b[0;32m/usr/local/lib/python3.6/dist-packages/tensorflow/python/eager/def_function.py\u001b[0m in \u001b[0;36m_call\u001b[0;34m(self, *args, **kwds)\u001b[0m\n\u001b[1;32m    805\u001b[0m       \u001b[0;31m# In this case we have created variables on the first call, so we run the\u001b[0m\u001b[0;34m\u001b[0m\u001b[0;34m\u001b[0m\u001b[0;34m\u001b[0m\u001b[0m\n\u001b[1;32m    806\u001b[0m       \u001b[0;31m# defunned version which is guaranteed to never create variables.\u001b[0m\u001b[0;34m\u001b[0m\u001b[0;34m\u001b[0m\u001b[0;34m\u001b[0m\u001b[0m\n\u001b[0;32m--> 807\u001b[0;31m       \u001b[0;32mreturn\u001b[0m \u001b[0mself\u001b[0m\u001b[0;34m.\u001b[0m\u001b[0m_stateless_fn\u001b[0m\u001b[0;34m(\u001b[0m\u001b[0;34m*\u001b[0m\u001b[0margs\u001b[0m\u001b[0;34m,\u001b[0m \u001b[0;34m**\u001b[0m\u001b[0mkwds\u001b[0m\u001b[0;34m)\u001b[0m  \u001b[0;31m# pylint: disable=not-callable\u001b[0m\u001b[0;34m\u001b[0m\u001b[0;34m\u001b[0m\u001b[0m\n\u001b[0m\u001b[1;32m    808\u001b[0m     \u001b[0;32melif\u001b[0m \u001b[0mself\u001b[0m\u001b[0;34m.\u001b[0m\u001b[0m_stateful_fn\u001b[0m \u001b[0;32mis\u001b[0m \u001b[0;32mnot\u001b[0m \u001b[0;32mNone\u001b[0m\u001b[0;34m:\u001b[0m\u001b[0;34m\u001b[0m\u001b[0;34m\u001b[0m\u001b[0m\n\u001b[1;32m    809\u001b[0m       \u001b[0;31m# Release the lock early so that multiple threads can perform the call\u001b[0m\u001b[0;34m\u001b[0m\u001b[0;34m\u001b[0m\u001b[0;34m\u001b[0m\u001b[0m\n",
            "\u001b[0;32m/usr/local/lib/python3.6/dist-packages/tensorflow/python/eager/function.py\u001b[0m in \u001b[0;36m__call__\u001b[0;34m(self, *args, **kwargs)\u001b[0m\n\u001b[1;32m   2827\u001b[0m     \u001b[0;32mwith\u001b[0m \u001b[0mself\u001b[0m\u001b[0;34m.\u001b[0m\u001b[0m_lock\u001b[0m\u001b[0;34m:\u001b[0m\u001b[0;34m\u001b[0m\u001b[0;34m\u001b[0m\u001b[0m\n\u001b[1;32m   2828\u001b[0m       \u001b[0mgraph_function\u001b[0m\u001b[0;34m,\u001b[0m \u001b[0margs\u001b[0m\u001b[0;34m,\u001b[0m \u001b[0mkwargs\u001b[0m \u001b[0;34m=\u001b[0m \u001b[0mself\u001b[0m\u001b[0;34m.\u001b[0m\u001b[0m_maybe_define_function\u001b[0m\u001b[0;34m(\u001b[0m\u001b[0margs\u001b[0m\u001b[0;34m,\u001b[0m \u001b[0mkwargs\u001b[0m\u001b[0;34m)\u001b[0m\u001b[0;34m\u001b[0m\u001b[0;34m\u001b[0m\u001b[0m\n\u001b[0;32m-> 2829\u001b[0;31m     \u001b[0;32mreturn\u001b[0m \u001b[0mgraph_function\u001b[0m\u001b[0;34m.\u001b[0m\u001b[0m_filtered_call\u001b[0m\u001b[0;34m(\u001b[0m\u001b[0margs\u001b[0m\u001b[0;34m,\u001b[0m \u001b[0mkwargs\u001b[0m\u001b[0;34m)\u001b[0m  \u001b[0;31m# pylint: disable=protected-access\u001b[0m\u001b[0;34m\u001b[0m\u001b[0;34m\u001b[0m\u001b[0m\n\u001b[0m\u001b[1;32m   2830\u001b[0m \u001b[0;34m\u001b[0m\u001b[0m\n\u001b[1;32m   2831\u001b[0m   \u001b[0;34m@\u001b[0m\u001b[0mproperty\u001b[0m\u001b[0;34m\u001b[0m\u001b[0;34m\u001b[0m\u001b[0m\n",
            "\u001b[0;32m/usr/local/lib/python3.6/dist-packages/tensorflow/python/eager/function.py\u001b[0m in \u001b[0;36m_filtered_call\u001b[0;34m(self, args, kwargs, cancellation_manager)\u001b[0m\n\u001b[1;32m   1846\u001b[0m                            resource_variable_ops.BaseResourceVariable))],\n\u001b[1;32m   1847\u001b[0m         \u001b[0mcaptured_inputs\u001b[0m\u001b[0;34m=\u001b[0m\u001b[0mself\u001b[0m\u001b[0;34m.\u001b[0m\u001b[0mcaptured_inputs\u001b[0m\u001b[0;34m,\u001b[0m\u001b[0;34m\u001b[0m\u001b[0;34m\u001b[0m\u001b[0m\n\u001b[0;32m-> 1848\u001b[0;31m         cancellation_manager=cancellation_manager)\n\u001b[0m\u001b[1;32m   1849\u001b[0m \u001b[0;34m\u001b[0m\u001b[0m\n\u001b[1;32m   1850\u001b[0m   \u001b[0;32mdef\u001b[0m \u001b[0m_call_flat\u001b[0m\u001b[0;34m(\u001b[0m\u001b[0mself\u001b[0m\u001b[0;34m,\u001b[0m \u001b[0margs\u001b[0m\u001b[0;34m,\u001b[0m \u001b[0mcaptured_inputs\u001b[0m\u001b[0;34m,\u001b[0m \u001b[0mcancellation_manager\u001b[0m\u001b[0;34m=\u001b[0m\u001b[0;32mNone\u001b[0m\u001b[0;34m)\u001b[0m\u001b[0;34m:\u001b[0m\u001b[0;34m\u001b[0m\u001b[0;34m\u001b[0m\u001b[0m\n",
            "\u001b[0;32m/usr/local/lib/python3.6/dist-packages/tensorflow/python/eager/function.py\u001b[0m in \u001b[0;36m_call_flat\u001b[0;34m(self, args, captured_inputs, cancellation_manager)\u001b[0m\n\u001b[1;32m   1922\u001b[0m       \u001b[0;31m# No tape is watching; skip to running the function.\u001b[0m\u001b[0;34m\u001b[0m\u001b[0;34m\u001b[0m\u001b[0;34m\u001b[0m\u001b[0m\n\u001b[1;32m   1923\u001b[0m       return self._build_call_outputs(self._inference_function.call(\n\u001b[0;32m-> 1924\u001b[0;31m           ctx, args, cancellation_manager=cancellation_manager))\n\u001b[0m\u001b[1;32m   1925\u001b[0m     forward_backward = self._select_forward_and_backward_functions(\n\u001b[1;32m   1926\u001b[0m         \u001b[0margs\u001b[0m\u001b[0;34m,\u001b[0m\u001b[0;34m\u001b[0m\u001b[0;34m\u001b[0m\u001b[0m\n",
            "\u001b[0;32m/usr/local/lib/python3.6/dist-packages/tensorflow/python/eager/function.py\u001b[0m in \u001b[0;36mcall\u001b[0;34m(self, ctx, args, cancellation_manager)\u001b[0m\n\u001b[1;32m    548\u001b[0m               \u001b[0minputs\u001b[0m\u001b[0;34m=\u001b[0m\u001b[0margs\u001b[0m\u001b[0;34m,\u001b[0m\u001b[0;34m\u001b[0m\u001b[0;34m\u001b[0m\u001b[0m\n\u001b[1;32m    549\u001b[0m               \u001b[0mattrs\u001b[0m\u001b[0;34m=\u001b[0m\u001b[0mattrs\u001b[0m\u001b[0;34m,\u001b[0m\u001b[0;34m\u001b[0m\u001b[0;34m\u001b[0m\u001b[0m\n\u001b[0;32m--> 550\u001b[0;31m               ctx=ctx)\n\u001b[0m\u001b[1;32m    551\u001b[0m         \u001b[0;32melse\u001b[0m\u001b[0;34m:\u001b[0m\u001b[0;34m\u001b[0m\u001b[0;34m\u001b[0m\u001b[0m\n\u001b[1;32m    552\u001b[0m           outputs = execute.execute_with_cancellation(\n",
            "\u001b[0;32m/usr/local/lib/python3.6/dist-packages/tensorflow/python/eager/execute.py\u001b[0m in \u001b[0;36mquick_execute\u001b[0;34m(op_name, num_outputs, inputs, attrs, ctx, name)\u001b[0m\n\u001b[1;32m     58\u001b[0m     \u001b[0mctx\u001b[0m\u001b[0;34m.\u001b[0m\u001b[0mensure_initialized\u001b[0m\u001b[0;34m(\u001b[0m\u001b[0;34m)\u001b[0m\u001b[0;34m\u001b[0m\u001b[0;34m\u001b[0m\u001b[0m\n\u001b[1;32m     59\u001b[0m     tensors = pywrap_tfe.TFE_Py_Execute(ctx._handle, device_name, op_name,\n\u001b[0;32m---> 60\u001b[0;31m                                         inputs, attrs, num_outputs)\n\u001b[0m\u001b[1;32m     61\u001b[0m   \u001b[0;32mexcept\u001b[0m \u001b[0mcore\u001b[0m\u001b[0;34m.\u001b[0m\u001b[0m_NotOkStatusException\u001b[0m \u001b[0;32mas\u001b[0m \u001b[0me\u001b[0m\u001b[0;34m:\u001b[0m\u001b[0;34m\u001b[0m\u001b[0;34m\u001b[0m\u001b[0m\n\u001b[1;32m     62\u001b[0m     \u001b[0;32mif\u001b[0m \u001b[0mname\u001b[0m \u001b[0;32mis\u001b[0m \u001b[0;32mnot\u001b[0m \u001b[0;32mNone\u001b[0m\u001b[0;34m:\u001b[0m\u001b[0;34m\u001b[0m\u001b[0;34m\u001b[0m\u001b[0m\n",
            "\u001b[0;31mKeyboardInterrupt\u001b[0m: "
          ]
        }
      ]
    },
    {
      "cell_type": "code",
      "metadata": {
        "id": "WzrZdhmW9NrD"
      },
      "source": [
        "model.save('first_etap.hdf5')"
      ],
      "execution_count": null,
      "outputs": []
    },
    {
      "cell_type": "code",
      "metadata": {
        "id": "kFLoKwhpNewU",
        "colab": {
          "base_uri": "https://localhost:8080/"
        },
        "outputId": "79869d92-cad2-43c0-8e3c-87711605a735"
      },
      "source": [
        "from keras.models import load_model\n",
        "\n",
        "model = load_model('second_etap.hdf5')\n",
        "model.evaluate(set_all_images, answ_cat)"
      ],
      "execution_count": null,
      "outputs": [
        {
          "output_type": "stream",
          "text": [
            "WARNING:tensorflow:Error in loading the saved optimizer state. As a result, your model is starting with a freshly initialized optimizer.\n",
            "79/79 [==============================] - 8s 99ms/step - loss: 0.1828 - mean_squared_error: 0.0014 - accuracy: 0.9516\n"
          ],
          "name": "stdout"
        },
        {
          "output_type": "execute_result",
          "data": {
            "text/plain": [
              "[0.1827937662601471, 0.0014452259056270123, 0.9516000151634216]"
            ]
          },
          "metadata": {
            "tags": []
          },
          "execution_count": 31
        }
      ]
    },
    {
      "cell_type": "code",
      "metadata": {
        "id": "XiFEFfd5uioj"
      },
      "source": [
        "for layer in base_model.layers[-19:]:\n",
        "   layer.trainable = True"
      ],
      "execution_count": null,
      "outputs": []
    },
    {
      "cell_type": "code",
      "metadata": {
        "id": "Umm3HRgev46W"
      },
      "source": [
        "from keras import optimizers\n",
        "\n",
        "model.compile(\n",
        "    loss = 'categorical_crossentropy',\n",
        "    optimizer=optimizers.SGD(lr=1e-4, momentum=0.9),\n",
        "    metrics = ['mse', 'accuracy']\n",
        ")"
      ],
      "execution_count": null,
      "outputs": []
    },
    {
      "cell_type": "code",
      "metadata": {
        "id": "9NHRpIJuwcn_",
        "colab": {
          "base_uri": "https://localhost:8080/"
        },
        "outputId": "6f31f290-fd8e-46e7-f2ac-118bb77fbccc"
      },
      "source": [
        " model.fit(datagen.flow(x_trn,\n",
        "          y_trn,\n",
        "          batch_size=120),\n",
        "          epochs=200,\n",
        "          verbose=1,\n",
        "          validation_data = (x_vld, y_vld),\n",
        "          shuffle=True)"
      ],
      "execution_count": null,
      "outputs": [
        {
          "output_type": "stream",
          "text": [
            "Epoch 1/200\n",
            "19/19 [==============================] - 20s 1s/step - loss: 0.1704 - mse: 0.0017 - accuracy: 0.9387 - val_loss: 1.4525 - val_mse: 0.0103 - val_accuracy: 0.6520\n",
            "Epoch 2/200\n",
            "19/19 [==============================] - 20s 1s/step - loss: 0.1674 - mse: 0.0016 - accuracy: 0.9467 - val_loss: 1.4448 - val_mse: 0.0102 - val_accuracy: 0.6560\n",
            "Epoch 3/200\n",
            "19/19 [==============================] - 19s 1s/step - loss: 0.1766 - mse: 0.0017 - accuracy: 0.9467 - val_loss: 1.4371 - val_mse: 0.0102 - val_accuracy: 0.6560\n",
            "Epoch 4/200\n",
            "19/19 [==============================] - 20s 1s/step - loss: 0.1775 - mse: 0.0017 - accuracy: 0.9440 - val_loss: 1.4301 - val_mse: 0.0101 - val_accuracy: 0.6560\n",
            "Epoch 5/200\n",
            "19/19 [==============================] - 20s 1s/step - loss: 0.1601 - mse: 0.0016 - accuracy: 0.9449 - val_loss: 1.4230 - val_mse: 0.0101 - val_accuracy: 0.6560\n",
            "Epoch 6/200\n",
            "19/19 [==============================] - 20s 1s/step - loss: 0.1661 - mse: 0.0016 - accuracy: 0.9458 - val_loss: 1.4163 - val_mse: 0.0100 - val_accuracy: 0.6560\n",
            "Epoch 7/200\n",
            "19/19 [==============================] - 20s 1s/step - loss: 0.1556 - mse: 0.0015 - accuracy: 0.9529 - val_loss: 1.4098 - val_mse: 0.0100 - val_accuracy: 0.6560\n",
            "Epoch 8/200\n",
            "19/19 [==============================] - 20s 1s/step - loss: 0.1594 - mse: 0.0015 - accuracy: 0.9516 - val_loss: 1.4040 - val_mse: 0.0100 - val_accuracy: 0.6560\n",
            "Epoch 9/200\n",
            "19/19 [==============================] - 20s 1s/step - loss: 0.1629 - mse: 0.0017 - accuracy: 0.9458 - val_loss: 1.3978 - val_mse: 0.0099 - val_accuracy: 0.6600\n",
            "Epoch 10/200\n",
            "19/19 [==============================] - 20s 1s/step - loss: 0.1695 - mse: 0.0017 - accuracy: 0.9418 - val_loss: 1.3920 - val_mse: 0.0099 - val_accuracy: 0.6640\n",
            "Epoch 11/200\n",
            "19/19 [==============================] - 20s 1s/step - loss: 0.1247 - mse: 0.0012 - accuracy: 0.9613 - val_loss: 1.3869 - val_mse: 0.0098 - val_accuracy: 0.6680\n",
            "Epoch 12/200\n",
            "19/19 [==============================] - 20s 1s/step - loss: 0.1439 - mse: 0.0014 - accuracy: 0.9542 - val_loss: 1.3825 - val_mse: 0.0098 - val_accuracy: 0.6680\n",
            "Epoch 13/200\n",
            "19/19 [==============================] - 20s 1s/step - loss: 0.1427 - mse: 0.0013 - accuracy: 0.9551 - val_loss: 1.3786 - val_mse: 0.0098 - val_accuracy: 0.6680\n",
            "Epoch 14/200\n",
            "19/19 [==============================] - 20s 1s/step - loss: 0.1490 - mse: 0.0014 - accuracy: 0.9520 - val_loss: 1.3748 - val_mse: 0.0097 - val_accuracy: 0.6680\n",
            "Epoch 15/200\n",
            "19/19 [==============================] - 20s 1s/step - loss: 0.1514 - mse: 0.0014 - accuracy: 0.9516 - val_loss: 1.3714 - val_mse: 0.0097 - val_accuracy: 0.6680\n",
            "Epoch 16/200\n",
            "19/19 [==============================] - 20s 1s/step - loss: 0.1522 - mse: 0.0014 - accuracy: 0.9520 - val_loss: 1.3679 - val_mse: 0.0097 - val_accuracy: 0.6680\n",
            "Epoch 17/200\n",
            "19/19 [==============================] - 20s 1s/step - loss: 0.1451 - mse: 0.0014 - accuracy: 0.9498 - val_loss: 1.3647 - val_mse: 0.0097 - val_accuracy: 0.6680\n",
            "Epoch 18/200\n",
            "19/19 [==============================] - 20s 1s/step - loss: 0.1565 - mse: 0.0015 - accuracy: 0.9489 - val_loss: 1.3612 - val_mse: 0.0096 - val_accuracy: 0.6680\n",
            "Epoch 19/200\n",
            "19/19 [==============================] - 20s 1s/step - loss: 0.1416 - mse: 0.0014 - accuracy: 0.9489 - val_loss: 1.3582 - val_mse: 0.0096 - val_accuracy: 0.6680\n",
            "Epoch 20/200\n",
            "19/19 [==============================] - 20s 1s/step - loss: 0.1604 - mse: 0.0016 - accuracy: 0.9418 - val_loss: 1.3549 - val_mse: 0.0096 - val_accuracy: 0.6680\n",
            "Epoch 21/200\n",
            "19/19 [==============================] - 20s 1s/step - loss: 0.1266 - mse: 0.0012 - accuracy: 0.9596 - val_loss: 1.3523 - val_mse: 0.0096 - val_accuracy: 0.6760\n",
            "Epoch 22/200\n",
            "19/19 [==============================] - 20s 1s/step - loss: 0.1459 - mse: 0.0014 - accuracy: 0.9582 - val_loss: 1.3501 - val_mse: 0.0096 - val_accuracy: 0.6760\n",
            "Epoch 23/200\n",
            "19/19 [==============================] - 20s 1s/step - loss: 0.1522 - mse: 0.0015 - accuracy: 0.9533 - val_loss: 1.3475 - val_mse: 0.0095 - val_accuracy: 0.6760\n",
            "Epoch 24/200\n",
            "19/19 [==============================] - 20s 1s/step - loss: 0.1349 - mse: 0.0013 - accuracy: 0.9569 - val_loss: 1.3449 - val_mse: 0.0095 - val_accuracy: 0.6760\n",
            "Epoch 25/200\n",
            "19/19 [==============================] - 20s 1s/step - loss: 0.1471 - mse: 0.0014 - accuracy: 0.9547 - val_loss: 1.3426 - val_mse: 0.0095 - val_accuracy: 0.6760\n",
            "Epoch 26/200\n",
            "19/19 [==============================] - 20s 1s/step - loss: 0.1451 - mse: 0.0014 - accuracy: 0.9547 - val_loss: 1.3401 - val_mse: 0.0095 - val_accuracy: 0.6760\n",
            "Epoch 27/200\n",
            "19/19 [==============================] - 20s 1s/step - loss: 0.1489 - mse: 0.0014 - accuracy: 0.9520 - val_loss: 1.3383 - val_mse: 0.0095 - val_accuracy: 0.6760\n",
            "Epoch 28/200\n",
            "19/19 [==============================] - 20s 1s/step - loss: 0.1473 - mse: 0.0014 - accuracy: 0.9551 - val_loss: 1.3367 - val_mse: 0.0094 - val_accuracy: 0.6760\n",
            "Epoch 29/200\n",
            "19/19 [==============================] - 20s 1s/step - loss: 0.1245 - mse: 0.0012 - accuracy: 0.9569 - val_loss: 1.3351 - val_mse: 0.0094 - val_accuracy: 0.6760\n",
            "Epoch 30/200\n",
            "19/19 [==============================] - 20s 1s/step - loss: 0.1257 - mse: 0.0012 - accuracy: 0.9618 - val_loss: 1.3337 - val_mse: 0.0094 - val_accuracy: 0.6760\n",
            "Epoch 31/200\n",
            "19/19 [==============================] - 20s 1s/step - loss: 0.1497 - mse: 0.0015 - accuracy: 0.9480 - val_loss: 1.3322 - val_mse: 0.0094 - val_accuracy: 0.6760\n",
            "Epoch 32/200\n",
            "19/19 [==============================] - 20s 1s/step - loss: 0.1386 - mse: 0.0014 - accuracy: 0.9538 - val_loss: 1.3309 - val_mse: 0.0094 - val_accuracy: 0.6760\n",
            "Epoch 33/200\n",
            "19/19 [==============================] - 20s 1s/step - loss: 0.1320 - mse: 0.0014 - accuracy: 0.9560 - val_loss: 1.3294 - val_mse: 0.0094 - val_accuracy: 0.6760\n",
            "Epoch 34/200\n",
            "19/19 [==============================] - 20s 1s/step - loss: 0.1503 - mse: 0.0014 - accuracy: 0.9533 - val_loss: 1.3272 - val_mse: 0.0094 - val_accuracy: 0.6760\n",
            "Epoch 35/200\n",
            "19/19 [==============================] - 20s 1s/step - loss: 0.1195 - mse: 0.0012 - accuracy: 0.9618 - val_loss: 1.3259 - val_mse: 0.0094 - val_accuracy: 0.6760\n",
            "Epoch 36/200\n",
            "19/19 [==============================] - 20s 1s/step - loss: 0.1368 - mse: 0.0013 - accuracy: 0.9582 - val_loss: 1.3250 - val_mse: 0.0093 - val_accuracy: 0.6760\n",
            "Epoch 37/200\n",
            "19/19 [==============================] - 20s 1s/step - loss: 0.1377 - mse: 0.0014 - accuracy: 0.9564 - val_loss: 1.3243 - val_mse: 0.0093 - val_accuracy: 0.6760\n",
            "Epoch 38/200\n",
            "19/19 [==============================] - 20s 1s/step - loss: 0.1463 - mse: 0.0014 - accuracy: 0.9533 - val_loss: 1.3232 - val_mse: 0.0093 - val_accuracy: 0.6760\n",
            "Epoch 39/200\n",
            "19/19 [==============================] - 20s 1s/step - loss: 0.1421 - mse: 0.0013 - accuracy: 0.9600 - val_loss: 1.3223 - val_mse: 0.0093 - val_accuracy: 0.6800\n",
            "Epoch 40/200\n",
            "19/19 [==============================] - 20s 1s/step - loss: 0.1450 - mse: 0.0014 - accuracy: 0.9538 - val_loss: 1.3216 - val_mse: 0.0093 - val_accuracy: 0.6800\n",
            "Epoch 41/200\n",
            "19/19 [==============================] - 20s 1s/step - loss: 0.1408 - mse: 0.0013 - accuracy: 0.9578 - val_loss: 1.3202 - val_mse: 0.0093 - val_accuracy: 0.6800\n",
            "Epoch 42/200\n",
            "19/19 [==============================] - 20s 1s/step - loss: 0.1305 - mse: 0.0013 - accuracy: 0.9573 - val_loss: 1.3192 - val_mse: 0.0093 - val_accuracy: 0.6840\n",
            "Epoch 43/200\n",
            "19/19 [==============================] - 20s 1s/step - loss: 0.1443 - mse: 0.0014 - accuracy: 0.9507 - val_loss: 1.3181 - val_mse: 0.0093 - val_accuracy: 0.6840\n",
            "Epoch 44/200\n",
            "19/19 [==============================] - 20s 1s/step - loss: 0.1390 - mse: 0.0014 - accuracy: 0.9560 - val_loss: 1.3174 - val_mse: 0.0093 - val_accuracy: 0.6880\n",
            "Epoch 45/200\n",
            "19/19 [==============================] - 20s 1s/step - loss: 0.1378 - mse: 0.0012 - accuracy: 0.9622 - val_loss: 1.3170 - val_mse: 0.0093 - val_accuracy: 0.6880\n",
            "Epoch 46/200\n",
            "19/19 [==============================] - 20s 1s/step - loss: 0.1248 - mse: 0.0012 - accuracy: 0.9640 - val_loss: 1.3161 - val_mse: 0.0093 - val_accuracy: 0.6840\n",
            "Epoch 47/200\n",
            "19/19 [==============================] - 20s 1s/step - loss: 0.1417 - mse: 0.0013 - accuracy: 0.9551 - val_loss: 1.3154 - val_mse: 0.0093 - val_accuracy: 0.6840\n",
            "Epoch 48/200\n",
            "19/19 [==============================] - 20s 1s/step - loss: 0.1381 - mse: 0.0013 - accuracy: 0.9582 - val_loss: 1.3141 - val_mse: 0.0093 - val_accuracy: 0.6840\n",
            "Epoch 49/200\n",
            "19/19 [==============================] - 21s 1s/step - loss: 0.1205 - mse: 0.0011 - accuracy: 0.9662 - val_loss: 1.3132 - val_mse: 0.0092 - val_accuracy: 0.6880\n",
            "Epoch 50/200\n",
            "19/19 [==============================] - 20s 1s/step - loss: 0.1398 - mse: 0.0013 - accuracy: 0.9587 - val_loss: 1.3119 - val_mse: 0.0092 - val_accuracy: 0.6880\n",
            "Epoch 51/200\n",
            "19/19 [==============================] - 20s 1s/step - loss: 0.1183 - mse: 0.0012 - accuracy: 0.9631 - val_loss: 1.3112 - val_mse: 0.0092 - val_accuracy: 0.6880\n",
            "Epoch 52/200\n",
            "19/19 [==============================] - 20s 1s/step - loss: 0.1247 - mse: 0.0012 - accuracy: 0.9600 - val_loss: 1.3101 - val_mse: 0.0092 - val_accuracy: 0.6880\n",
            "Epoch 53/200\n",
            "19/19 [==============================] - 20s 1s/step - loss: 0.1360 - mse: 0.0013 - accuracy: 0.9529 - val_loss: 1.3095 - val_mse: 0.0092 - val_accuracy: 0.6880\n",
            "Epoch 54/200\n",
            "19/19 [==============================] - 20s 1s/step - loss: 0.1367 - mse: 0.0013 - accuracy: 0.9542 - val_loss: 1.3086 - val_mse: 0.0092 - val_accuracy: 0.6880\n",
            "Epoch 55/200\n",
            "19/19 [==============================] - 20s 1s/step - loss: 0.1444 - mse: 0.0013 - accuracy: 0.9582 - val_loss: 1.3078 - val_mse: 0.0092 - val_accuracy: 0.6880\n",
            "Epoch 56/200\n",
            "19/19 [==============================] - 20s 1s/step - loss: 0.1242 - mse: 0.0012 - accuracy: 0.9604 - val_loss: 1.3071 - val_mse: 0.0092 - val_accuracy: 0.6880\n",
            "Epoch 57/200\n",
            "19/19 [==============================] - 20s 1s/step - loss: 0.1107 - mse: 0.0011 - accuracy: 0.9644 - val_loss: 1.3067 - val_mse: 0.0092 - val_accuracy: 0.6880\n",
            "Epoch 58/200\n",
            "19/19 [==============================] - 20s 1s/step - loss: 0.1277 - mse: 0.0012 - accuracy: 0.9596 - val_loss: 1.3063 - val_mse: 0.0092 - val_accuracy: 0.6880\n",
            "Epoch 59/200\n",
            "19/19 [==============================] - 20s 1s/step - loss: 0.1142 - mse: 0.0011 - accuracy: 0.9676 - val_loss: 1.3058 - val_mse: 0.0092 - val_accuracy: 0.6880\n",
            "Epoch 60/200\n",
            "19/19 [==============================] - 20s 1s/step - loss: 0.1267 - mse: 0.0013 - accuracy: 0.9613 - val_loss: 1.3053 - val_mse: 0.0092 - val_accuracy: 0.6880\n",
            "Epoch 61/200\n",
            "19/19 [==============================] - 20s 1s/step - loss: 0.1325 - mse: 0.0013 - accuracy: 0.9582 - val_loss: 1.3048 - val_mse: 0.0092 - val_accuracy: 0.6880\n",
            "Epoch 62/200\n",
            "19/19 [==============================] - 20s 1s/step - loss: 0.1416 - mse: 0.0014 - accuracy: 0.9542 - val_loss: 1.3044 - val_mse: 0.0092 - val_accuracy: 0.6840\n",
            "Epoch 63/200\n",
            "19/19 [==============================] - 20s 1s/step - loss: 0.1375 - mse: 0.0013 - accuracy: 0.9591 - val_loss: 1.3035 - val_mse: 0.0092 - val_accuracy: 0.6840\n",
            "Epoch 64/200\n",
            "19/19 [==============================] - 20s 1s/step - loss: 0.1457 - mse: 0.0014 - accuracy: 0.9502 - val_loss: 1.3032 - val_mse: 0.0092 - val_accuracy: 0.6840\n",
            "Epoch 65/200\n",
            "19/19 [==============================] - 20s 1s/step - loss: 0.1335 - mse: 0.0013 - accuracy: 0.9547 - val_loss: 1.3033 - val_mse: 0.0092 - val_accuracy: 0.6880\n",
            "Epoch 66/200\n",
            "19/19 [==============================] - 20s 1s/step - loss: 0.1307 - mse: 0.0012 - accuracy: 0.9604 - val_loss: 1.3029 - val_mse: 0.0092 - val_accuracy: 0.6880\n",
            "Epoch 67/200\n",
            "19/19 [==============================] - 20s 1s/step - loss: 0.1229 - mse: 0.0011 - accuracy: 0.9644 - val_loss: 1.3024 - val_mse: 0.0092 - val_accuracy: 0.6920\n",
            "Epoch 68/200\n",
            "19/19 [==============================] - 20s 1s/step - loss: 0.1500 - mse: 0.0014 - accuracy: 0.9520 - val_loss: 1.3022 - val_mse: 0.0092 - val_accuracy: 0.6920\n",
            "Epoch 69/200\n",
            "19/19 [==============================] - 20s 1s/step - loss: 0.1305 - mse: 0.0013 - accuracy: 0.9604 - val_loss: 1.3014 - val_mse: 0.0091 - val_accuracy: 0.6920\n",
            "Epoch 70/200\n",
            "19/19 [==============================] - 20s 1s/step - loss: 0.1300 - mse: 0.0013 - accuracy: 0.9609 - val_loss: 1.3011 - val_mse: 0.0091 - val_accuracy: 0.6960\n",
            "Epoch 71/200\n",
            "19/19 [==============================] - 20s 1s/step - loss: 0.1263 - mse: 0.0012 - accuracy: 0.9618 - val_loss: 1.3006 - val_mse: 0.0091 - val_accuracy: 0.6960\n",
            "Epoch 72/200\n",
            "19/19 [==============================] - 20s 1s/step - loss: 0.1285 - mse: 0.0012 - accuracy: 0.9613 - val_loss: 1.3004 - val_mse: 0.0091 - val_accuracy: 0.6960\n",
            "Epoch 73/200\n",
            "19/19 [==============================] - 20s 1s/step - loss: 0.1545 - mse: 0.0014 - accuracy: 0.9511 - val_loss: 1.2995 - val_mse: 0.0091 - val_accuracy: 0.6960\n",
            "Epoch 74/200\n",
            "19/19 [==============================] - 20s 1s/step - loss: 0.1166 - mse: 0.0011 - accuracy: 0.9653 - val_loss: 1.2992 - val_mse: 0.0091 - val_accuracy: 0.6960\n",
            "Epoch 75/200\n",
            "19/19 [==============================] - 20s 1s/step - loss: 0.1292 - mse: 0.0012 - accuracy: 0.9573 - val_loss: 1.2988 - val_mse: 0.0091 - val_accuracy: 0.6960\n",
            "Epoch 76/200\n",
            "19/19 [==============================] - 20s 1s/step - loss: 0.1309 - mse: 0.0013 - accuracy: 0.9582 - val_loss: 1.2987 - val_mse: 0.0091 - val_accuracy: 0.6960\n",
            "Epoch 77/200\n",
            "19/19 [==============================] - 20s 1s/step - loss: 0.1394 - mse: 0.0013 - accuracy: 0.9556 - val_loss: 1.2983 - val_mse: 0.0091 - val_accuracy: 0.6960\n",
            "Epoch 78/200\n",
            "19/19 [==============================] - 20s 1s/step - loss: 0.1221 - mse: 0.0012 - accuracy: 0.9604 - val_loss: 1.2974 - val_mse: 0.0091 - val_accuracy: 0.6960\n",
            "Epoch 79/200\n",
            "19/19 [==============================] - 20s 1s/step - loss: 0.1272 - mse: 0.0012 - accuracy: 0.9573 - val_loss: 1.2968 - val_mse: 0.0091 - val_accuracy: 0.6960\n",
            "Epoch 80/200\n",
            "19/19 [==============================] - 20s 1s/step - loss: 0.1329 - mse: 0.0013 - accuracy: 0.9600 - val_loss: 1.2969 - val_mse: 0.0091 - val_accuracy: 0.6960\n",
            "Epoch 81/200\n",
            "19/19 [==============================] - 20s 1s/step - loss: 0.1299 - mse: 0.0013 - accuracy: 0.9613 - val_loss: 1.2969 - val_mse: 0.0091 - val_accuracy: 0.6960\n",
            "Epoch 82/200\n",
            "19/19 [==============================] - 20s 1s/step - loss: 0.1269 - mse: 0.0012 - accuracy: 0.9596 - val_loss: 1.2966 - val_mse: 0.0091 - val_accuracy: 0.6960\n",
            "Epoch 83/200\n",
            "19/19 [==============================] - 20s 1s/step - loss: 0.1361 - mse: 0.0014 - accuracy: 0.9538 - val_loss: 1.2962 - val_mse: 0.0091 - val_accuracy: 0.6920\n",
            "Epoch 84/200\n",
            "19/19 [==============================] - 20s 1s/step - loss: 0.1421 - mse: 0.0014 - accuracy: 0.9529 - val_loss: 1.2957 - val_mse: 0.0091 - val_accuracy: 0.6920\n",
            "Epoch 85/200\n",
            "19/19 [==============================] - 20s 1s/step - loss: 0.1311 - mse: 0.0013 - accuracy: 0.9560 - val_loss: 1.2958 - val_mse: 0.0091 - val_accuracy: 0.6920\n",
            "Epoch 86/200\n",
            "19/19 [==============================] - 20s 1s/step - loss: 0.1235 - mse: 0.0012 - accuracy: 0.9662 - val_loss: 1.2959 - val_mse: 0.0091 - val_accuracy: 0.6920\n",
            "Epoch 87/200\n",
            "19/19 [==============================] - 20s 1s/step - loss: 0.1210 - mse: 0.0011 - accuracy: 0.9644 - val_loss: 1.2959 - val_mse: 0.0091 - val_accuracy: 0.6920\n",
            "Epoch 88/200\n",
            "19/19 [==============================] - 20s 1s/step - loss: 0.1211 - mse: 0.0011 - accuracy: 0.9662 - val_loss: 1.2958 - val_mse: 0.0091 - val_accuracy: 0.6920\n",
            "Epoch 89/200\n",
            "19/19 [==============================] - 20s 1s/step - loss: 0.1278 - mse: 0.0012 - accuracy: 0.9578 - val_loss: 1.2958 - val_mse: 0.0091 - val_accuracy: 0.6920\n",
            "Epoch 90/200\n",
            "19/19 [==============================] - 20s 1s/step - loss: 0.1168 - mse: 0.0011 - accuracy: 0.9644 - val_loss: 1.2956 - val_mse: 0.0091 - val_accuracy: 0.6960\n",
            "Epoch 91/200\n",
            "19/19 [==============================] - 20s 1s/step - loss: 0.1317 - mse: 0.0013 - accuracy: 0.9573 - val_loss: 1.2952 - val_mse: 0.0091 - val_accuracy: 0.6960\n",
            "Epoch 92/200\n",
            "19/19 [==============================] - 20s 1s/step - loss: 0.1248 - mse: 0.0012 - accuracy: 0.9622 - val_loss: 1.2944 - val_mse: 0.0091 - val_accuracy: 0.6920\n",
            "Epoch 93/200\n",
            "19/19 [==============================] - 20s 1s/step - loss: 0.1365 - mse: 0.0012 - accuracy: 0.9613 - val_loss: 1.2942 - val_mse: 0.0091 - val_accuracy: 0.6960\n",
            "Epoch 94/200\n",
            "19/19 [==============================] - 20s 1s/step - loss: 0.1311 - mse: 0.0013 - accuracy: 0.9573 - val_loss: 1.2938 - val_mse: 0.0091 - val_accuracy: 0.6960\n",
            "Epoch 95/200\n",
            "19/19 [==============================] - 20s 1s/step - loss: 0.1244 - mse: 0.0011 - accuracy: 0.9658 - val_loss: 1.2936 - val_mse: 0.0091 - val_accuracy: 0.6920\n",
            "Epoch 96/200\n",
            "19/19 [==============================] - 20s 1s/step - loss: 0.1146 - mse: 0.0011 - accuracy: 0.9658 - val_loss: 1.2937 - val_mse: 0.0091 - val_accuracy: 0.6920\n",
            "Epoch 97/200\n",
            "19/19 [==============================] - 20s 1s/step - loss: 0.1211 - mse: 0.0011 - accuracy: 0.9640 - val_loss: 1.2936 - val_mse: 0.0091 - val_accuracy: 0.6920\n",
            "Epoch 98/200\n",
            "19/19 [==============================] - 20s 1s/step - loss: 0.1243 - mse: 0.0012 - accuracy: 0.9627 - val_loss: 1.2932 - val_mse: 0.0091 - val_accuracy: 0.6920\n",
            "Epoch 99/200\n",
            "19/19 [==============================] - 20s 1s/step - loss: 0.1364 - mse: 0.0013 - accuracy: 0.9587 - val_loss: 1.2927 - val_mse: 0.0091 - val_accuracy: 0.6920\n",
            "Epoch 100/200\n",
            "19/19 [==============================] - 20s 1s/step - loss: 0.1162 - mse: 0.0011 - accuracy: 0.9662 - val_loss: 1.2925 - val_mse: 0.0091 - val_accuracy: 0.6920\n",
            "Epoch 101/200\n",
            "19/19 [==============================] - 20s 1s/step - loss: 0.1173 - mse: 0.0011 - accuracy: 0.9693 - val_loss: 1.2916 - val_mse: 0.0091 - val_accuracy: 0.6920\n",
            "Epoch 102/200\n",
            "19/19 [==============================] - 20s 1s/step - loss: 0.1289 - mse: 0.0012 - accuracy: 0.9636 - val_loss: 1.2913 - val_mse: 0.0091 - val_accuracy: 0.6920\n",
            "Epoch 103/200\n",
            "19/19 [==============================] - 20s 1s/step - loss: 0.1133 - mse: 0.0011 - accuracy: 0.9684 - val_loss: 1.2910 - val_mse: 0.0091 - val_accuracy: 0.6920\n",
            "Epoch 104/200\n",
            "19/19 [==============================] - 20s 1s/step - loss: 0.1158 - mse: 0.0011 - accuracy: 0.9671 - val_loss: 1.2905 - val_mse: 0.0091 - val_accuracy: 0.6920\n",
            "Epoch 105/200\n",
            "19/19 [==============================] - 20s 1s/step - loss: 0.1329 - mse: 0.0013 - accuracy: 0.9564 - val_loss: 1.2901 - val_mse: 0.0091 - val_accuracy: 0.6960\n",
            "Epoch 106/200\n",
            "19/19 [==============================] - 20s 1s/step - loss: 0.1097 - mse: 0.0011 - accuracy: 0.9658 - val_loss: 1.2900 - val_mse: 0.0091 - val_accuracy: 0.6960\n",
            "Epoch 107/200\n",
            "19/19 [==============================] - 20s 1s/step - loss: 0.1260 - mse: 0.0012 - accuracy: 0.9649 - val_loss: 1.2896 - val_mse: 0.0091 - val_accuracy: 0.6960\n",
            "Epoch 108/200\n",
            "19/19 [==============================] - 20s 1s/step - loss: 0.1263 - mse: 0.0012 - accuracy: 0.9622 - val_loss: 1.2891 - val_mse: 0.0091 - val_accuracy: 0.6960\n",
            "Epoch 109/200\n",
            "19/19 [==============================] - 20s 1s/step - loss: 0.1245 - mse: 0.0012 - accuracy: 0.9613 - val_loss: 1.2886 - val_mse: 0.0091 - val_accuracy: 0.6960\n",
            "Epoch 110/200\n",
            "19/19 [==============================] - 20s 1s/step - loss: 0.1288 - mse: 0.0012 - accuracy: 0.9609 - val_loss: 1.2886 - val_mse: 0.0091 - val_accuracy: 0.6960\n",
            "Epoch 111/200\n",
            "19/19 [==============================] - 20s 1s/step - loss: 0.1165 - mse: 0.0012 - accuracy: 0.9627 - val_loss: 1.2888 - val_mse: 0.0091 - val_accuracy: 0.6960\n",
            "Epoch 112/200\n",
            "19/19 [==============================] - 20s 1s/step - loss: 0.1373 - mse: 0.0014 - accuracy: 0.9524 - val_loss: 1.2888 - val_mse: 0.0091 - val_accuracy: 0.6960\n",
            "Epoch 113/200\n",
            "19/19 [==============================] - 20s 1s/step - loss: 0.1170 - mse: 0.0011 - accuracy: 0.9653 - val_loss: 1.2885 - val_mse: 0.0091 - val_accuracy: 0.6960\n",
            "Epoch 114/200\n",
            "19/19 [==============================] - 20s 1s/step - loss: 0.1192 - mse: 0.0012 - accuracy: 0.9636 - val_loss: 1.2883 - val_mse: 0.0091 - val_accuracy: 0.6960\n",
            "Epoch 115/200\n",
            "19/19 [==============================] - 20s 1s/step - loss: 0.1352 - mse: 0.0013 - accuracy: 0.9551 - val_loss: 1.2882 - val_mse: 0.0091 - val_accuracy: 0.6960\n",
            "Epoch 116/200\n",
            "19/19 [==============================] - 20s 1s/step - loss: 0.1423 - mse: 0.0014 - accuracy: 0.9520 - val_loss: 1.2878 - val_mse: 0.0091 - val_accuracy: 0.6960\n",
            "Epoch 117/200\n",
            "19/19 [==============================] - 20s 1s/step - loss: 0.1287 - mse: 0.0012 - accuracy: 0.9564 - val_loss: 1.2878 - val_mse: 0.0091 - val_accuracy: 0.6960\n",
            "Epoch 118/200\n",
            "19/19 [==============================] - 20s 1s/step - loss: 0.1238 - mse: 0.0012 - accuracy: 0.9627 - val_loss: 1.2875 - val_mse: 0.0091 - val_accuracy: 0.6960\n",
            "Epoch 119/200\n",
            "19/19 [==============================] - 20s 1s/step - loss: 0.1250 - mse: 0.0012 - accuracy: 0.9600 - val_loss: 1.2872 - val_mse: 0.0091 - val_accuracy: 0.6960\n",
            "Epoch 120/200\n",
            "19/19 [==============================] - 20s 1s/step - loss: 0.1387 - mse: 0.0013 - accuracy: 0.9600 - val_loss: 1.2873 - val_mse: 0.0091 - val_accuracy: 0.6960\n",
            "Epoch 121/200\n",
            "19/19 [==============================] - 20s 1s/step - loss: 0.1192 - mse: 0.0011 - accuracy: 0.9636 - val_loss: 1.2874 - val_mse: 0.0091 - val_accuracy: 0.6960\n",
            "Epoch 122/200\n",
            "19/19 [==============================] - 20s 1s/step - loss: 0.1275 - mse: 0.0012 - accuracy: 0.9613 - val_loss: 1.2871 - val_mse: 0.0091 - val_accuracy: 0.6960\n",
            "Epoch 123/200\n",
            "19/19 [==============================] - 20s 1s/step - loss: 0.1293 - mse: 0.0012 - accuracy: 0.9622 - val_loss: 1.2867 - val_mse: 0.0091 - val_accuracy: 0.6960\n",
            "Epoch 124/200\n",
            "19/19 [==============================] - 20s 1s/step - loss: 0.1246 - mse: 0.0012 - accuracy: 0.9627 - val_loss: 1.2865 - val_mse: 0.0091 - val_accuracy: 0.6960\n",
            "Epoch 125/200\n",
            "19/19 [==============================] - 20s 1s/step - loss: 0.1158 - mse: 0.0011 - accuracy: 0.9662 - val_loss: 1.2862 - val_mse: 0.0091 - val_accuracy: 0.6960\n",
            "Epoch 126/200\n",
            "19/19 [==============================] - 20s 1s/step - loss: 0.1133 - mse: 0.0011 - accuracy: 0.9671 - val_loss: 1.2859 - val_mse: 0.0091 - val_accuracy: 0.6960\n",
            "Epoch 127/200\n",
            "19/19 [==============================] - 20s 1s/step - loss: 0.1231 - mse: 0.0012 - accuracy: 0.9573 - val_loss: 1.2856 - val_mse: 0.0091 - val_accuracy: 0.6960\n",
            "Epoch 128/200\n",
            "19/19 [==============================] - 20s 1s/step - loss: 0.1180 - mse: 0.0011 - accuracy: 0.9667 - val_loss: 1.2857 - val_mse: 0.0091 - val_accuracy: 0.6960\n",
            "Epoch 129/200\n",
            "19/19 [==============================] - 20s 1s/step - loss: 0.1297 - mse: 0.0012 - accuracy: 0.9649 - val_loss: 1.2852 - val_mse: 0.0090 - val_accuracy: 0.6960\n",
            "Epoch 130/200\n",
            "19/19 [==============================] - 20s 1s/step - loss: 0.1195 - mse: 0.0011 - accuracy: 0.9662 - val_loss: 1.2851 - val_mse: 0.0090 - val_accuracy: 0.6960\n",
            "Epoch 131/200\n",
            "19/19 [==============================] - 20s 1s/step - loss: 0.1321 - mse: 0.0012 - accuracy: 0.9640 - val_loss: 1.2851 - val_mse: 0.0090 - val_accuracy: 0.6960\n",
            "Epoch 132/200\n",
            "19/19 [==============================] - 20s 1s/step - loss: 0.1322 - mse: 0.0013 - accuracy: 0.9551 - val_loss: 1.2848 - val_mse: 0.0090 - val_accuracy: 0.6960\n",
            "Epoch 133/200\n",
            "19/19 [==============================] - 20s 1s/step - loss: 0.1148 - mse: 0.0011 - accuracy: 0.9653 - val_loss: 1.2851 - val_mse: 0.0090 - val_accuracy: 0.6960\n",
            "Epoch 134/200\n",
            "19/19 [==============================] - 20s 1s/step - loss: 0.1269 - mse: 0.0012 - accuracy: 0.9618 - val_loss: 1.2847 - val_mse: 0.0090 - val_accuracy: 0.6920\n",
            "Epoch 135/200\n",
            "19/19 [==============================] - 20s 1s/step - loss: 0.1249 - mse: 0.0012 - accuracy: 0.9600 - val_loss: 1.2841 - val_mse: 0.0090 - val_accuracy: 0.6920\n",
            "Epoch 136/200\n",
            "19/19 [==============================] - 20s 1s/step - loss: 0.1339 - mse: 0.0013 - accuracy: 0.9596 - val_loss: 1.2837 - val_mse: 0.0090 - val_accuracy: 0.6920\n",
            "Epoch 137/200\n",
            "19/19 [==============================] - 20s 1s/step - loss: 0.1281 - mse: 0.0012 - accuracy: 0.9591 - val_loss: 1.2832 - val_mse: 0.0090 - val_accuracy: 0.6920\n",
            "Epoch 138/200\n",
            "19/19 [==============================] - 20s 1s/step - loss: 0.1185 - mse: 0.0012 - accuracy: 0.9618 - val_loss: 1.2836 - val_mse: 0.0090 - val_accuracy: 0.6960\n",
            "Epoch 139/200\n",
            "19/19 [==============================] - 20s 1s/step - loss: 0.1247 - mse: 0.0012 - accuracy: 0.9631 - val_loss: 1.2836 - val_mse: 0.0090 - val_accuracy: 0.6960\n",
            "Epoch 140/200\n",
            "19/19 [==============================] - 20s 1s/step - loss: 0.1150 - mse: 0.0011 - accuracy: 0.9627 - val_loss: 1.2834 - val_mse: 0.0090 - val_accuracy: 0.7000\n",
            "Epoch 141/200\n",
            "19/19 [==============================] - 20s 1s/step - loss: 0.1222 - mse: 0.0012 - accuracy: 0.9653 - val_loss: 1.2830 - val_mse: 0.0090 - val_accuracy: 0.7000\n",
            "Epoch 142/200\n",
            "19/19 [==============================] - 20s 1s/step - loss: 0.1390 - mse: 0.0013 - accuracy: 0.9547 - val_loss: 1.2831 - val_mse: 0.0090 - val_accuracy: 0.7000\n",
            "Epoch 143/200\n",
            "19/19 [==============================] - 20s 1s/step - loss: 0.1343 - mse: 0.0013 - accuracy: 0.9578 - val_loss: 1.2828 - val_mse: 0.0090 - val_accuracy: 0.6960\n",
            "Epoch 144/200\n",
            "19/19 [==============================] - 20s 1s/step - loss: 0.1265 - mse: 0.0012 - accuracy: 0.9622 - val_loss: 1.2825 - val_mse: 0.0090 - val_accuracy: 0.6960\n",
            "Epoch 145/200\n",
            "19/19 [==============================] - 20s 1s/step - loss: 0.1173 - mse: 0.0011 - accuracy: 0.9662 - val_loss: 1.2830 - val_mse: 0.0090 - val_accuracy: 0.6960\n",
            "Epoch 146/200\n",
            "19/19 [==============================] - 20s 1s/step - loss: 0.1098 - mse: 0.0011 - accuracy: 0.9618 - val_loss: 1.2831 - val_mse: 0.0090 - val_accuracy: 0.6920\n",
            "Epoch 147/200\n",
            "19/19 [==============================] - 20s 1s/step - loss: 0.1324 - mse: 0.0013 - accuracy: 0.9587 - val_loss: 1.2831 - val_mse: 0.0090 - val_accuracy: 0.6960\n",
            "Epoch 148/200\n",
            "19/19 [==============================] - 20s 1s/step - loss: 0.1318 - mse: 0.0013 - accuracy: 0.9551 - val_loss: 1.2829 - val_mse: 0.0090 - val_accuracy: 0.6920\n",
            "Epoch 149/200\n",
            "19/19 [==============================] - 20s 1s/step - loss: 0.1173 - mse: 0.0011 - accuracy: 0.9609 - val_loss: 1.2828 - val_mse: 0.0090 - val_accuracy: 0.6920\n",
            "Epoch 150/200\n",
            "19/19 [==============================] - 20s 1s/step - loss: 0.1104 - mse: 0.0011 - accuracy: 0.9627 - val_loss: 1.2824 - val_mse: 0.0090 - val_accuracy: 0.6920\n",
            "Epoch 151/200\n",
            "19/19 [==============================] - 20s 1s/step - loss: 0.1321 - mse: 0.0013 - accuracy: 0.9596 - val_loss: 1.2824 - val_mse: 0.0090 - val_accuracy: 0.7000\n",
            "Epoch 152/200\n",
            "19/19 [==============================] - 20s 1s/step - loss: 0.1186 - mse: 0.0011 - accuracy: 0.9644 - val_loss: 1.2822 - val_mse: 0.0090 - val_accuracy: 0.7000\n",
            "Epoch 153/200\n",
            "19/19 [==============================] - 20s 1s/step - loss: 0.1251 - mse: 0.0012 - accuracy: 0.9596 - val_loss: 1.2818 - val_mse: 0.0090 - val_accuracy: 0.6960\n",
            "Epoch 154/200\n",
            "19/19 [==============================] - 20s 1s/step - loss: 0.1314 - mse: 0.0012 - accuracy: 0.9596 - val_loss: 1.2818 - val_mse: 0.0090 - val_accuracy: 0.6960\n",
            "Epoch 155/200\n",
            "19/19 [==============================] - 20s 1s/step - loss: 0.1322 - mse: 0.0013 - accuracy: 0.9600 - val_loss: 1.2816 - val_mse: 0.0090 - val_accuracy: 0.6960\n",
            "Epoch 156/200\n",
            "19/19 [==============================] - 20s 1s/step - loss: 0.1302 - mse: 0.0012 - accuracy: 0.9587 - val_loss: 1.2814 - val_mse: 0.0090 - val_accuracy: 0.6960\n",
            "Epoch 157/200\n",
            "19/19 [==============================] - 20s 1s/step - loss: 0.1289 - mse: 0.0013 - accuracy: 0.9591 - val_loss: 1.2814 - val_mse: 0.0090 - val_accuracy: 0.6960\n",
            "Epoch 158/200\n",
            "19/19 [==============================] - 20s 1s/step - loss: 0.1250 - mse: 0.0012 - accuracy: 0.9591 - val_loss: 1.2817 - val_mse: 0.0090 - val_accuracy: 0.6960\n",
            "Epoch 159/200\n",
            "19/19 [==============================] - 20s 1s/step - loss: 0.1221 - mse: 0.0012 - accuracy: 0.9618 - val_loss: 1.2820 - val_mse: 0.0090 - val_accuracy: 0.6920\n",
            "Epoch 160/200\n",
            "19/19 [==============================] - 20s 1s/step - loss: 0.1230 - mse: 0.0012 - accuracy: 0.9631 - val_loss: 1.2824 - val_mse: 0.0090 - val_accuracy: 0.6920\n",
            "Epoch 161/200\n",
            "19/19 [==============================] - 20s 1s/step - loss: 0.1476 - mse: 0.0014 - accuracy: 0.9542 - val_loss: 1.2821 - val_mse: 0.0090 - val_accuracy: 0.6920\n",
            "Epoch 162/200\n",
            "19/19 [==============================] - 20s 1s/step - loss: 0.1268 - mse: 0.0012 - accuracy: 0.9600 - val_loss: 1.2824 - val_mse: 0.0090 - val_accuracy: 0.6960\n",
            "Epoch 163/200\n",
            "19/19 [==============================] - 20s 1s/step - loss: 0.1211 - mse: 0.0012 - accuracy: 0.9600 - val_loss: 1.2824 - val_mse: 0.0090 - val_accuracy: 0.6960\n",
            "Epoch 164/200\n",
            "19/19 [==============================] - 20s 1s/step - loss: 0.1299 - mse: 0.0012 - accuracy: 0.9613 - val_loss: 1.2816 - val_mse: 0.0090 - val_accuracy: 0.6960\n",
            "Epoch 165/200\n",
            "19/19 [==============================] - 20s 1s/step - loss: 0.1398 - mse: 0.0013 - accuracy: 0.9604 - val_loss: 1.2810 - val_mse: 0.0090 - val_accuracy: 0.6960\n",
            "Epoch 166/200\n",
            "19/19 [==============================] - 20s 1s/step - loss: 0.1217 - mse: 0.0011 - accuracy: 0.9618 - val_loss: 1.2809 - val_mse: 0.0090 - val_accuracy: 0.6960\n",
            "Epoch 167/200\n",
            "19/19 [==============================] - 20s 1s/step - loss: 0.1208 - mse: 0.0012 - accuracy: 0.9596 - val_loss: 1.2808 - val_mse: 0.0090 - val_accuracy: 0.6960\n",
            "Epoch 168/200\n",
            "19/19 [==============================] - 20s 1s/step - loss: 0.1233 - mse: 0.0012 - accuracy: 0.9609 - val_loss: 1.2807 - val_mse: 0.0090 - val_accuracy: 0.7000\n",
            "Epoch 169/200\n",
            "19/19 [==============================] - 20s 1s/step - loss: 0.1240 - mse: 0.0012 - accuracy: 0.9591 - val_loss: 1.2806 - val_mse: 0.0090 - val_accuracy: 0.6960\n",
            "Epoch 170/200\n",
            "19/19 [==============================] - 20s 1s/step - loss: 0.1206 - mse: 0.0012 - accuracy: 0.9622 - val_loss: 1.2804 - val_mse: 0.0090 - val_accuracy: 0.6960\n",
            "Epoch 171/200\n",
            "19/19 [==============================] - 20s 1s/step - loss: 0.1352 - mse: 0.0013 - accuracy: 0.9587 - val_loss: 1.2802 - val_mse: 0.0090 - val_accuracy: 0.7000\n",
            "Epoch 172/200\n",
            "19/19 [==============================] - 20s 1s/step - loss: 0.1228 - mse: 0.0012 - accuracy: 0.9596 - val_loss: 1.2797 - val_mse: 0.0090 - val_accuracy: 0.7000\n",
            "Epoch 173/200\n",
            "19/19 [==============================] - 20s 1s/step - loss: 0.1146 - mse: 0.0011 - accuracy: 0.9662 - val_loss: 1.2793 - val_mse: 0.0090 - val_accuracy: 0.7000\n",
            "Epoch 174/200\n",
            "19/19 [==============================] - 20s 1s/step - loss: 0.1249 - mse: 0.0012 - accuracy: 0.9622 - val_loss: 1.2796 - val_mse: 0.0090 - val_accuracy: 0.7000\n",
            "Epoch 175/200\n",
            "19/19 [==============================] - 20s 1s/step - loss: 0.1288 - mse: 0.0012 - accuracy: 0.9622 - val_loss: 1.2793 - val_mse: 0.0090 - val_accuracy: 0.7000\n",
            "Epoch 176/200\n",
            "19/19 [==============================] - 20s 1s/step - loss: 0.1319 - mse: 0.0013 - accuracy: 0.9587 - val_loss: 1.2790 - val_mse: 0.0090 - val_accuracy: 0.7000\n",
            "Epoch 177/200\n",
            "19/19 [==============================] - 20s 1s/step - loss: 0.1211 - mse: 0.0012 - accuracy: 0.9596 - val_loss: 1.2789 - val_mse: 0.0090 - val_accuracy: 0.7000\n",
            "Epoch 178/200\n",
            "19/19 [==============================] - 20s 1s/step - loss: 0.1175 - mse: 0.0011 - accuracy: 0.9631 - val_loss: 1.2793 - val_mse: 0.0090 - val_accuracy: 0.6960\n",
            "Epoch 179/200\n",
            "19/19 [==============================] - 20s 1s/step - loss: 0.1172 - mse: 0.0011 - accuracy: 0.9636 - val_loss: 1.2795 - val_mse: 0.0090 - val_accuracy: 0.7000\n",
            "Epoch 180/200\n",
            "19/19 [==============================] - 20s 1s/step - loss: 0.1242 - mse: 0.0012 - accuracy: 0.9596 - val_loss: 1.2795 - val_mse: 0.0090 - val_accuracy: 0.7000\n",
            "Epoch 181/200\n",
            "19/19 [==============================] - 20s 1s/step - loss: 0.1220 - mse: 0.0012 - accuracy: 0.9636 - val_loss: 1.2800 - val_mse: 0.0090 - val_accuracy: 0.7000\n",
            "Epoch 182/200\n",
            "19/19 [==============================] - 20s 1s/step - loss: 0.1283 - mse: 0.0012 - accuracy: 0.9600 - val_loss: 1.2800 - val_mse: 0.0090 - val_accuracy: 0.7000\n",
            "Epoch 183/200\n",
            "19/19 [==============================] - 20s 1s/step - loss: 0.1174 - mse: 0.0011 - accuracy: 0.9609 - val_loss: 1.2796 - val_mse: 0.0090 - val_accuracy: 0.7000\n",
            "Epoch 184/200\n",
            "19/19 [==============================] - 20s 1s/step - loss: 0.1208 - mse: 0.0011 - accuracy: 0.9653 - val_loss: 1.2791 - val_mse: 0.0090 - val_accuracy: 0.7000\n",
            "Epoch 185/200\n",
            "19/19 [==============================] - 20s 1s/step - loss: 0.1263 - mse: 0.0012 - accuracy: 0.9600 - val_loss: 1.2786 - val_mse: 0.0090 - val_accuracy: 0.7000\n",
            "Epoch 186/200\n",
            "19/19 [==============================] - 20s 1s/step - loss: 0.1229 - mse: 0.0012 - accuracy: 0.9600 - val_loss: 1.2782 - val_mse: 0.0090 - val_accuracy: 0.7000\n",
            "Epoch 187/200\n",
            "19/19 [==============================] - 20s 1s/step - loss: 0.1273 - mse: 0.0011 - accuracy: 0.9662 - val_loss: 1.2781 - val_mse: 0.0090 - val_accuracy: 0.7000\n",
            "Epoch 188/200\n",
            "19/19 [==============================] - 20s 1s/step - loss: 0.1239 - mse: 0.0012 - accuracy: 0.9631 - val_loss: 1.2780 - val_mse: 0.0090 - val_accuracy: 0.7000\n",
            "Epoch 189/200\n",
            "19/19 [==============================] - 20s 1s/step - loss: 0.1501 - mse: 0.0014 - accuracy: 0.9542 - val_loss: 1.2778 - val_mse: 0.0090 - val_accuracy: 0.7000\n",
            "Epoch 190/200\n",
            "19/19 [==============================] - 20s 1s/step - loss: 0.1262 - mse: 0.0011 - accuracy: 0.9640 - val_loss: 1.2773 - val_mse: 0.0090 - val_accuracy: 0.7000\n",
            "Epoch 191/200\n",
            "19/19 [==============================] - 20s 1s/step - loss: 0.1292 - mse: 0.0012 - accuracy: 0.9613 - val_loss: 1.2767 - val_mse: 0.0090 - val_accuracy: 0.7000\n",
            "Epoch 192/200\n",
            "19/19 [==============================] - 20s 1s/step - loss: 0.1403 - mse: 0.0014 - accuracy: 0.9520 - val_loss: 1.2761 - val_mse: 0.0090 - val_accuracy: 0.7000\n",
            "Epoch 193/200\n",
            "19/19 [==============================] - 20s 1s/step - loss: 0.1223 - mse: 0.0012 - accuracy: 0.9636 - val_loss: 1.2761 - val_mse: 0.0090 - val_accuracy: 0.7000\n",
            "Epoch 194/200\n",
            "19/19 [==============================] - 20s 1s/step - loss: 0.1110 - mse: 0.0010 - accuracy: 0.9689 - val_loss: 1.2760 - val_mse: 0.0090 - val_accuracy: 0.7000\n",
            "Epoch 195/200\n",
            "19/19 [==============================] - 20s 1s/step - loss: 0.1142 - mse: 0.0011 - accuracy: 0.9640 - val_loss: 1.2755 - val_mse: 0.0090 - val_accuracy: 0.7000\n",
            "Epoch 196/200\n",
            "19/19 [==============================] - 20s 1s/step - loss: 0.1321 - mse: 0.0013 - accuracy: 0.9560 - val_loss: 1.2756 - val_mse: 0.0090 - val_accuracy: 0.7000\n",
            "Epoch 197/200\n",
            "19/19 [==============================] - 20s 1s/step - loss: 0.1226 - mse: 0.0011 - accuracy: 0.9631 - val_loss: 1.2756 - val_mse: 0.0090 - val_accuracy: 0.7000\n",
            "Epoch 198/200\n",
            "19/19 [==============================] - 20s 1s/step - loss: 0.1399 - mse: 0.0012 - accuracy: 0.9609 - val_loss: 1.2755 - val_mse: 0.0090 - val_accuracy: 0.7000\n",
            "Epoch 199/200\n",
            "19/19 [==============================] - 20s 1s/step - loss: 0.1165 - mse: 0.0011 - accuracy: 0.9636 - val_loss: 1.2759 - val_mse: 0.0090 - val_accuracy: 0.7000\n",
            "Epoch 200/200\n",
            "19/19 [==============================] - 20s 1s/step - loss: 0.1287 - mse: 0.0012 - accuracy: 0.9587 - val_loss: 1.2763 - val_mse: 0.0090 - val_accuracy: 0.7000\n"
          ],
          "name": "stdout"
        },
        {
          "output_type": "execute_result",
          "data": {
            "text/plain": [
              "<tensorflow.python.keras.callbacks.History at 0x7fd4483cf048>"
            ]
          },
          "metadata": {
            "tags": []
          },
          "execution_count": 32
        }
      ]
    },
    {
      "cell_type": "code",
      "metadata": {
        "id": "BwDS85R9w2Zw"
      },
      "source": [
        "model.save('second_etap.hdf5')"
      ],
      "execution_count": null,
      "outputs": []
    },
    {
      "cell_type": "code",
      "metadata": {
        "id": "g6CmpQBJB93L",
        "colab": {
          "base_uri": "https://localhost:8080/"
        },
        "outputId": "77d4eaaf-4133-4c98-d33f-dd53cd0e4baa"
      },
      "source": [
        "ls"
      ],
      "execution_count": null,
      "outputs": [
        {
          "output_type": "stream",
          "text": [
            "\u001b[0m\u001b[01;34msample_data\u001b[0m/\n"
          ],
          "name": "stdout"
        }
      ]
    },
    {
      "cell_type": "code",
      "metadata": {
        "id": "wAuCRhmDnqUI"
      },
      "source": [
        ""
      ],
      "execution_count": null,
      "outputs": []
    },
    {
      "cell_type": "markdown",
      "metadata": {
        "id": "OVfx1AQ2p8Z6"
      },
      "source": [
        "#Для сдачи"
      ]
    },
    {
      "cell_type": "code",
      "metadata": {
        "id": "NknRE_ChqAHr"
      },
      "source": [
        "def get_data(train_gt, train_img_dir):\n",
        "  import os\n",
        "  import numpy as np\n",
        "  from PIL import Image\n",
        "  from tqdm import tqdm\n",
        "\n",
        "  set_all_images = []\n",
        "  answ = [] \n",
        "  for f in tqdm (sorted(os.listdir())):\n",
        "    jpg = Image.open(f)\n",
        "    gt = answ_files[f]\n",
        "    answ.append(gt) \n",
        "    fixed_size_jpg = jpg.resize((197, 197))\n",
        "    np_image = np.array(fixed_size_jpg)\n",
        "    if(np.size(np_image.shape) == 2):\n",
        "      k = np.dstack((np_image, np_image, np_image))\n",
        "      set_all_images.append(k)\n",
        "    else:\n",
        "      set_all_images.append(np_image)\n",
        "  set_all_images = np.array(set_all_images, dtype = np.flaot64)\n",
        "  answ = np.array(answ, dtype = np.flaot64)\n",
        "  return set_all_images, answ\n",
        "\n",
        "def train_classifier(train_gt, train_img_dir, fast_train=True):\n",
        "  import tensorflow as tf\n",
        "  import numpy as np\n",
        "  from keras import optimizers\n",
        "\n",
        "\n",
        "\n",
        "  set_all_images, answ = get_data(train_gt, train_img_dir)\n",
        "  #normalization\n",
        "  set_all_images /= 255.0\n",
        "  #корректное представление для answ\n",
        "  answ_cat = np.array(tf.keras.utils.to_categorical(answ, num_classes=50))\n",
        "  #архитектура\n",
        "  base_model = tf.keras.applications.Xception(\n",
        "    weights='imagenet',  # Load weights pre-trained on ImageNet.\n",
        "    input_shape=(197, 197, 3),\n",
        "    include_top=False)\n",
        "  \n",
        "  base_model.trainable = False\n",
        "  inputs = tf.keras.Input(shape=(197, 197, 3))\n",
        "  x = base_model(inputs, training=False)\n",
        "  x = tf.keras.layers.GlobalAveragePooling2D()(x)\n",
        "  x = tf.keras.layers.Dense(512, activation='relu')(x)\n",
        "  outputs =  tf.keras.layers.Dense(50, activation = 'softmax')(x)\n",
        "  model = tf.keras.Model(inputs, outputs)\n",
        "  #параметры_1\n",
        "  model.compile(\n",
        "    loss = 'categorical_crossentropy',\n",
        "    optimizer='rmsprop',\n",
        "    metrics = ['mse', 'accuracy'])\n",
        "  #для генерации изображений\n",
        "  datagen = tf.keras.preprocessing.image.ImageDataGenerator(\n",
        "    rotation_range=30,\n",
        "    width_shift_range=0.3,\n",
        "    height_shift_range=0.2,\n",
        "    shear_range=0.3,\n",
        "    zoom_range=0.3,\n",
        "    horizontal_flip=True,\n",
        "    vertical_flip=False,)\n",
        "  #разделение на тренировачную и валид.выборку\n",
        "  x_vld = set_all_images[::10]\n",
        "  y_vld = answ_cat[::10]\n",
        "  x_trn = np.array([])\n",
        "  y_trn = np.array([])\n",
        "  for i in range(1,10):\n",
        "    if (i == 1):\n",
        "      x_trn = np.copy(set_all_images[i::10])\n",
        "      y_trn = np.copy(answ_cat[i::10])\n",
        "    else:\n",
        "      x_trn = np.concatenate((x_trn, set_all_images[i::10]), axis = 0)\n",
        "      y_trn = np.concatenate((y_trn, answ_cat[i::10]), axis = 0)\n",
        "  # тренирую выставленные мной слои\n",
        "  model.fit(datagen.flow(x_trn,\n",
        "          y_trn,\n",
        "          batch_size=120),\n",
        "          epochs=100,\n",
        "          verbose=1,\n",
        "          validation_data = (x_vld, y_vld),\n",
        "          shuffle=True)\n",
        "  #активирую слои базовой архитектуры\n",
        "  for layer in base_model.layers[-19:]:\n",
        "   layer.trainable = True\n",
        "  #compile_2\n",
        "  model.compile(\n",
        "      loss = 'categorical_crossentropy',\n",
        "      optimizer=optimizers.SGD(lr=1e-4, momentum=0.9),\n",
        "      metrics = ['mse', 'accuracy']\n",
        "  )\n",
        "  #обучаю модель с последними активированными слоями\n",
        "  model.fit(datagen.flow(x_trn,\n",
        "        y_trn,\n",
        "        batch_size=120),\n",
        "        epochs=200,\n",
        "        verbose=1,\n",
        "        validation_data = (x_vld, y_vld),\n",
        "        shuffle=True)\n",
        "  return model"
      ],
      "execution_count": null,
      "outputs": []
    },
    {
      "cell_type": "code",
      "metadata": {
        "id": "OwSkV2cYtoW3"
      },
      "source": [
        "def classify(model, test_img_dir):\n",
        "  import os\n",
        "  import numpy as np\n",
        "  from PIL import Image\n",
        "  from tqdm import tqdm\n",
        "\n",
        "  answ_dict = dict()\n",
        "  for f in tqdm (sorted(os.listdir(test_img_dir))):\n",
        "    jpg = Image.open(f)\n",
        "    fixed_size_jpg = jpg.resize((197, 197))\n",
        "    np_image = np.array(fixed_size_jpg)\n",
        "    if(np.size(np_image.shape) == 2):\n",
        "      np_image = np.dstack((np_image, np_image, np_image))\n",
        "    my_cur_prediction = model.predict(np_image)\n",
        "    answ_dict[f] = my_cur_prediction\n",
        "  return answ_dict"
      ],
      "execution_count": null,
      "outputs": []
    },
    {
      "cell_type": "code",
      "metadata": {
        "id": "ygUeeL05wnvc"
      },
      "source": [
        "!chmod +x build.sh"
      ],
      "execution_count": null,
      "outputs": []
    },
    {
      "cell_type": "code",
      "metadata": {
        "id": "jsNGo4Fw0z-Y"
      },
      "source": [
        "!./build.sh"
      ],
      "execution_count": null,
      "outputs": []
    },
    {
      "cell_type": "code",
      "metadata": {
        "id": "euYQjHgpzWO1"
      },
      "source": [
        "!chmod +x run.py"
      ],
      "execution_count": null,
      "outputs": []
    },
    {
      "cell_type": "code",
      "metadata": {
        "id": "Oi-OXaTLxKth",
        "colab": {
          "base_uri": "https://localhost:8080/"
        },
        "outputId": "19c52f17-9be9-4ea1-992c-bae90569c6b1"
      },
      "source": [
        "!./run.py public_tests"
      ],
      "execution_count": null,
      "outputs": [
        {
          "output_type": "stream",
          "text": [
            "second_etap\n",
            "2020-11-09 00:06:33.466185: I tensorflow/stream_executor/platform/default/dso_loader.cc:48] Successfully opened dynamic library libcudart.so.10.1\n",
            "optimizers\n",
            "  0% 0/2500 [00:00<?, ?it/s]\n",
            "2020-11-09 00:06:35.046397: I tensorflow/stream_executor/platform/default/dso_loader.cc:48] Successfully opened dynamic library libcuda.so.1\n",
            "2020-11-09 00:06:35.088948: I tensorflow/stream_executor/cuda/cuda_gpu_executor.cc:982] successful NUMA node read from SysFS had negative value (-1), but there must be at least one NUMA node, so returning NUMA node zero\n",
            "2020-11-09 00:06:35.089643: I tensorflow/core/common_runtime/gpu/gpu_device.cc:1716] Found device 0 with properties: \n",
            "pciBusID: 0000:00:04.0 name: Tesla T4 computeCapability: 7.5\n",
            "coreClock: 1.59GHz coreCount: 40 deviceMemorySize: 14.73GiB deviceMemoryBandwidth: 298.08GiB/s\n",
            "2020-11-09 00:06:35.089697: I tensorflow/stream_executor/platform/default/dso_loader.cc:48] Successfully opened dynamic library libcudart.so.10.1\n",
            "2020-11-09 00:06:35.091674: I tensorflow/stream_executor/platform/default/dso_loader.cc:48] Successfully opened dynamic library libcublas.so.10\n",
            "2020-11-09 00:06:35.093424: I tensorflow/stream_executor/platform/default/dso_loader.cc:48] Successfully opened dynamic library libcufft.so.10\n",
            "2020-11-09 00:06:35.093801: I tensorflow/stream_executor/platform/default/dso_loader.cc:48] Successfully opened dynamic library libcurand.so.10\n",
            "2020-11-09 00:06:35.095519: I tensorflow/stream_executor/platform/default/dso_loader.cc:48] Successfully opened dynamic library libcusolver.so.10\n",
            "2020-11-09 00:06:35.096461: I tensorflow/stream_executor/platform/default/dso_loader.cc:48] Successfully opened dynamic library libcusparse.so.10\n",
            "2020-11-09 00:06:35.100695: I tensorflow/stream_executor/platform/default/dso_loader.cc:48] Successfully opened dynamic library libcudnn.so.7\n",
            "2020-11-09 00:06:35.100836: I tensorflow/stream_executor/cuda/cuda_gpu_executor.cc:982] successful NUMA node read from SysFS had negative value (-1), but there must be at least one NUMA node, so returning NUMA node zero\n",
            "2020-11-09 00:06:35.101501: I tensorflow/stream_executor/cuda/cuda_gpu_executor.cc:982] successful NUMA node read from SysFS had negative value (-1), but there must be at least one NUMA node, so returning NUMA node zero\n",
            "2020-11-09 00:06:35.102066: I tensorflow/core/common_runtime/gpu/gpu_device.cc:1858] Adding visible gpu devices: 0\n",
            "2020-11-09 00:06:35.108316: I tensorflow/core/platform/profile_utils/cpu_utils.cc:104] CPU Frequency: 2200000000 Hz\n",
            "2020-11-09 00:06:35.108555: I tensorflow/compiler/xla/service/service.cc:168] XLA service 0x2462840 initialized for platform Host (this does not guarantee that XLA will be used). Devices:\n",
            "2020-11-09 00:06:35.108589: I tensorflow/compiler/xla/service/service.cc:176]   StreamExecutor device (0): Host, Default Version\n",
            "2020-11-09 00:06:35.232403: I tensorflow/stream_executor/cuda/cuda_gpu_executor.cc:982] successful NUMA node read from SysFS had negative value (-1), but there must be at least one NUMA node, so returning NUMA node zero\n",
            "2020-11-09 00:06:35.233203: I tensorflow/compiler/xla/service/service.cc:168] XLA service 0x2462bc0 initialized for platform CUDA (this does not guarantee that XLA will be used). Devices:\n",
            "2020-11-09 00:06:35.233243: I tensorflow/compiler/xla/service/service.cc:176]   StreamExecutor device (0): Tesla T4, Compute Capability 7.5\n",
            "2020-11-09 00:06:35.233507: I tensorflow/stream_executor/cuda/cuda_gpu_executor.cc:982] successful NUMA node read from SysFS had negative value (-1), but there must be at least one NUMA node, so returning NUMA node zero\n",
            "2020-11-09 00:06:35.234188: I tensorflow/core/common_runtime/gpu/gpu_device.cc:1716] Found device 0 with properties: \n",
            "pciBusID: 0000:00:04.0 name: Tesla T4 computeCapability: 7.5\n",
            "coreClock: 1.59GHz coreCount: 40 deviceMemorySize: 14.73GiB deviceMemoryBandwidth: 298.08GiB/s\n",
            "2020-11-09 00:06:35.234252: I tensorflow/stream_executor/platform/default/dso_loader.cc:48] Successfully opened dynamic library libcudart.so.10.1\n",
            "2020-11-09 00:06:35.234303: I tensorflow/stream_executor/platform/default/dso_loader.cc:48] Successfully opened dynamic library libcublas.so.10\n",
            "2020-11-09 00:06:35.234341: I tensorflow/stream_executor/platform/default/dso_loader.cc:48] Successfully opened dynamic library libcufft.so.10\n",
            "2020-11-09 00:06:35.234362: I tensorflow/stream_executor/platform/default/dso_loader.cc:48] Successfully opened dynamic library libcurand.so.10\n",
            "2020-11-09 00:06:35.234382: I tensorflow/stream_executor/platform/default/dso_loader.cc:48] Successfully opened dynamic library libcusolver.so.10\n",
            "2020-11-09 00:06:35.234401: I tensorflow/stream_executor/platform/default/dso_loader.cc:48] Successfully opened dynamic library libcusparse.so.10\n",
            "2020-11-09 00:06:35.234420: I tensorflow/stream_executor/platform/default/dso_loader.cc:48] Successfully opened dynamic library libcudnn.so.7\n",
            "2020-11-09 00:06:35.234529: I tensorflow/stream_executor/cuda/cuda_gpu_executor.cc:982] successful NUMA node read from SysFS had negative value (-1), but there must be at least one NUMA node, so returning NUMA node zero\n",
            "2020-11-09 00:06:35.235183: I tensorflow/stream_executor/cuda/cuda_gpu_executor.cc:982] successful NUMA node read from SysFS had negative value (-1), but there must be at least one NUMA node, so returning NUMA node zero\n",
            "2020-11-09 00:06:35.235713: I tensorflow/core/common_runtime/gpu/gpu_device.cc:1858] Adding visible gpu devices: 0\n",
            "2020-11-09 00:06:35.235769: I tensorflow/stream_executor/platform/default/dso_loader.cc:48] Successfully opened dynamic library libcudart.so.10.1\n",
            "2020-11-09 00:06:35.915364: I tensorflow/core/common_runtime/gpu/gpu_device.cc:1257] Device interconnect StreamExecutor with strength 1 edge matrix:\n",
            "2020-11-09 00:06:35.915426: I tensorflow/core/common_runtime/gpu/gpu_device.cc:1263]      0 \n",
            "2020-11-09 00:06:35.915438: I tensorflow/core/common_runtime/gpu/gpu_device.cc:1276] 0:   N \n",
            "2020-11-09 00:06:35.915639: I tensorflow/stream_executor/cuda/cuda_gpu_executor.cc:982] successful NUMA node read from SysFS had negative value (-1), but there must be at least one NUMA node, so returning NUMA node zero\n",
            "2020-11-09 00:06:35.916304: I tensorflow/stream_executor/cuda/cuda_gpu_executor.cc:982] successful NUMA node read from SysFS had negative value (-1), but there must be at least one NUMA node, so returning NUMA node zero\n",
            "2020-11-09 00:06:35.916878: W tensorflow/core/common_runtime/gpu/gpu_bfc_allocator.cc:39] Overriding allow_growth setting because the TF_FORCE_GPU_ALLOW_GROWTH environment variable is set. Original config value was 0.\n",
            "2020-11-09 00:06:35.916987: I tensorflow/core/common_runtime/gpu/gpu_device.cc:1402] Created TensorFlow device (/job:localhost/replica:0/task:0/device:GPU:0 with 13962 MB memory) -> physical GPU (device: 0, name: Tesla T4, pci bus id: 0000:00:04.0, compute capability: 7.5)\n",
            "Epoch 1/3\n",
            "2020-11-09 00:06:40.176931: I tensorflow/stream_executor/platform/default/dso_loader.cc:48] Successfully opened dynamic library libcublas.so.10\n",
            "2020-11-09 00:06:40.591568: I tensorflow/stream_executor/platform/default/dso_loader.cc:48] Successfully opened dynamic library libcudnn.so.7\n",
            "1/1 [==============================] - 1s 959ms/step - loss: 4.5914 - mse: 0.0201 - accuracy: 0.0000e+00 - val_loss: 1.1921e-07 - val_mse: 8.2669e-16 - val_accuracy: 1.0000\n",
            "Epoch 2/3\n",
            "1/1 [==============================] - 0s 23ms/step - loss: 3.0465e-07 - mse: 7.1061e-15 - accuracy: 1.0000 - val_loss: 1.1921e-07 - val_mse: 8.2511e-16 - val_accuracy: 1.0000\n",
            "Epoch 3/3\n",
            "1/1 [==============================] - 0s 28ms/step - loss: 2.5166e-07 - mse: 5.1119e-15 - accuracy: 1.0000 - val_loss: 1.1921e-07 - val_mse: 8.2310e-16 - val_accuracy: 1.0000\n",
            "Epoch 1/3\n",
            "1/1 [==============================] - 1s 675ms/step - loss: 5.2982e-07 - mse: 2.4130e-14 - accuracy: 1.0000 - val_loss: 1.1921e-07 - val_mse: 8.2310e-16 - val_accuracy: 1.0000\n",
            "Epoch 2/3\n",
            "1/1 [==============================] - 0s 32ms/step - loss: 1.4702e-06 - mse: 2.8809e-13 - accuracy: 1.0000 - val_loss: 1.1921e-07 - val_mse: 8.2310e-16 - val_accuracy: 1.0000\n",
            "Epoch 3/3\n",
            "1/1 [==============================] - 0s 33ms/step - loss: 7.1525e-07 - mse: 6.3951e-14 - accuracy: 1.0000 - val_loss: 1.1921e-07 - val_mse: 8.2310e-16 - val_accuracy: 1.0000\n",
            "WARNING:tensorflow:Error in loading the saved optimizer state. As a result, your model is starting with a freshly initialized optimizer.\n",
            "100% 2500/2500 [02:06<00:00, 19.79it/s]\n",
            "00 142.83s Ok, accuracy 0.9516\n",
            "Mark: 10 0.9516\n"
          ],
          "name": "stdout"
        }
      ]
    },
    {
      "cell_type": "code",
      "metadata": {
        "id": "uc1JBCZ8zUcU"
      },
      "source": [
        ""
      ],
      "execution_count": null,
      "outputs": []
    }
  ]
}